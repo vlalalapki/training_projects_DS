{
 "cells": [
  {
   "cell_type": "markdown",
   "metadata": {},
   "source": [
    "# Исследование данных о продажи видеоигр"
   ]
  },
  {
   "cell_type": "markdown",
   "metadata": {},
   "source": [
    "**В данном исследовании нам доступны исторические данные о продажах игр, оценках пользователей и критиков, жанрах и платформах. На основании этих данных необходимо выявить закономерности, определяющие успешность игр в целом, а также имеющиеся зависимости в различных регионах покупателей.**\n",
    " \n",
    "В ходе исследования мы внимательно изучим имеющиеся данные на предмет дубликатов, пропусков, некорректных значений и прочих аномалий. Также надо будет понять, какая часть этих данных может быть актуальна для прогнозов на будущее, а какая просто историческими данными не имеющими большого значения. В исследовательской части работы мы сравним показатели по разным игровым платформам, жанрам и регионам продаж, обратим внимание на динамику продаж игр в разные года, оценим влияние рейтингов и оценок. По основной части исследования будут сформулированы и проверены несколько статистических гипотез. \n",
    " \n",
    " "
   ]
  },
  {
   "cell_type": "markdown",
   "metadata": {},
   "source": [
    "## Обзор данных\n",
    "\n",
    "Для начала загрузим данные и посмотрим, что мы имеем."
   ]
  },
  {
   "cell_type": "code",
   "execution_count": null,
   "metadata": {},
   "outputs": [
    {
     "data": {
      "text/html": [
       "<div>\n",
       "<style scoped>\n",
       "    .dataframe tbody tr th:only-of-type {\n",
       "        vertical-align: middle;\n",
       "    }\n",
       "\n",
       "    .dataframe tbody tr th {\n",
       "        vertical-align: top;\n",
       "    }\n",
       "\n",
       "    .dataframe thead th {\n",
       "        text-align: right;\n",
       "    }\n",
       "</style>\n",
       "<table border=\"1\" class=\"dataframe\">\n",
       "  <thead>\n",
       "    <tr style=\"text-align: right;\">\n",
       "      <th></th>\n",
       "      <th>Name</th>\n",
       "      <th>Platform</th>\n",
       "      <th>Year_of_Release</th>\n",
       "      <th>Genre</th>\n",
       "      <th>NA_sales</th>\n",
       "      <th>EU_sales</th>\n",
       "      <th>JP_sales</th>\n",
       "      <th>Other_sales</th>\n",
       "      <th>Critic_Score</th>\n",
       "      <th>User_Score</th>\n",
       "      <th>Rating</th>\n",
       "    </tr>\n",
       "  </thead>\n",
       "  <tbody>\n",
       "    <tr>\n",
       "      <th>0</th>\n",
       "      <td>Wii Sports</td>\n",
       "      <td>Wii</td>\n",
       "      <td>2006.0</td>\n",
       "      <td>Sports</td>\n",
       "      <td>41.36</td>\n",
       "      <td>28.96</td>\n",
       "      <td>3.77</td>\n",
       "      <td>8.45</td>\n",
       "      <td>76.0</td>\n",
       "      <td>8</td>\n",
       "      <td>E</td>\n",
       "    </tr>\n",
       "    <tr>\n",
       "      <th>1</th>\n",
       "      <td>Super Mario Bros.</td>\n",
       "      <td>NES</td>\n",
       "      <td>1985.0</td>\n",
       "      <td>Platform</td>\n",
       "      <td>29.08</td>\n",
       "      <td>3.58</td>\n",
       "      <td>6.81</td>\n",
       "      <td>0.77</td>\n",
       "      <td>NaN</td>\n",
       "      <td>NaN</td>\n",
       "      <td>NaN</td>\n",
       "    </tr>\n",
       "    <tr>\n",
       "      <th>2</th>\n",
       "      <td>Mario Kart Wii</td>\n",
       "      <td>Wii</td>\n",
       "      <td>2008.0</td>\n",
       "      <td>Racing</td>\n",
       "      <td>15.68</td>\n",
       "      <td>12.76</td>\n",
       "      <td>3.79</td>\n",
       "      <td>3.29</td>\n",
       "      <td>82.0</td>\n",
       "      <td>8.3</td>\n",
       "      <td>E</td>\n",
       "    </tr>\n",
       "    <tr>\n",
       "      <th>3</th>\n",
       "      <td>Wii Sports Resort</td>\n",
       "      <td>Wii</td>\n",
       "      <td>2009.0</td>\n",
       "      <td>Sports</td>\n",
       "      <td>15.61</td>\n",
       "      <td>10.93</td>\n",
       "      <td>3.28</td>\n",
       "      <td>2.95</td>\n",
       "      <td>80.0</td>\n",
       "      <td>8</td>\n",
       "      <td>E</td>\n",
       "    </tr>\n",
       "    <tr>\n",
       "      <th>4</th>\n",
       "      <td>Pokemon Red/Pokemon Blue</td>\n",
       "      <td>GB</td>\n",
       "      <td>1996.0</td>\n",
       "      <td>Role-Playing</td>\n",
       "      <td>11.27</td>\n",
       "      <td>8.89</td>\n",
       "      <td>10.22</td>\n",
       "      <td>1.00</td>\n",
       "      <td>NaN</td>\n",
       "      <td>NaN</td>\n",
       "      <td>NaN</td>\n",
       "    </tr>\n",
       "  </tbody>\n",
       "</table>\n",
       "</div>"
      ],
      "text/plain": [
       "                       Name Platform  Year_of_Release         Genre  NA_sales  \\\n",
       "0                Wii Sports      Wii           2006.0        Sports     41.36   \n",
       "1         Super Mario Bros.      NES           1985.0      Platform     29.08   \n",
       "2            Mario Kart Wii      Wii           2008.0        Racing     15.68   \n",
       "3         Wii Sports Resort      Wii           2009.0        Sports     15.61   \n",
       "4  Pokemon Red/Pokemon Blue       GB           1996.0  Role-Playing     11.27   \n",
       "\n",
       "   EU_sales  JP_sales  Other_sales  Critic_Score User_Score Rating  \n",
       "0     28.96      3.77         8.45          76.0          8      E  \n",
       "1      3.58      6.81         0.77           NaN        NaN    NaN  \n",
       "2     12.76      3.79         3.29          82.0        8.3      E  \n",
       "3     10.93      3.28         2.95          80.0          8      E  \n",
       "4      8.89     10.22         1.00           NaN        NaN    NaN  "
      ]
     },
     "execution_count": 1,
     "metadata": {},
     "output_type": "execute_result"
    }
   ],
   "source": [
    "import pandas as pd\n",
    "import numpy as np\n",
    "from scipy import stats as st\n",
    "import matplotlib.pyplot as plt\n",
    "from pylab import rcParams\n",
    "\n",
    "rcParams[\"figure.figsize\"] = 13, 6\n",
    "import seaborn as sns\n",
    "\n",
    "\n",
    "data = pd.read_csv(\"../datasets/games.csv\")\n",
    "data.head()"
   ]
  },
  {
   "cell_type": "code",
   "execution_count": 2,
   "metadata": {},
   "outputs": [
    {
     "name": "stdout",
     "output_type": "stream",
     "text": [
      "<class 'pandas.core.frame.DataFrame'>\n",
      "RangeIndex: 16715 entries, 0 to 16714\n",
      "Data columns (total 11 columns):\n",
      " #   Column           Non-Null Count  Dtype  \n",
      "---  ------           --------------  -----  \n",
      " 0   Name             16713 non-null  object \n",
      " 1   Platform         16715 non-null  object \n",
      " 2   Year_of_Release  16446 non-null  float64\n",
      " 3   Genre            16713 non-null  object \n",
      " 4   NA_sales         16715 non-null  float64\n",
      " 5   EU_sales         16715 non-null  float64\n",
      " 6   JP_sales         16715 non-null  float64\n",
      " 7   Other_sales      16715 non-null  float64\n",
      " 8   Critic_Score     8137 non-null   float64\n",
      " 9   User_Score       10014 non-null  object \n",
      " 10  Rating           9949 non-null   object \n",
      "dtypes: float64(6), object(5)\n",
      "memory usage: 1.4+ MB\n"
     ]
    }
   ],
   "source": [
    "data.info()"
   ]
  },
  {
   "cell_type": "code",
   "execution_count": null,
   "metadata": {},
   "outputs": [
    {
     "data": {
      "text/html": [
       "<style  type=\"text/css\" >\n",
       "#T_6e28a_row0_col0,#T_6e28a_row1_col0,#T_6e28a_row3_col0,#T_6e28a_row4_col0,#T_6e28a_row5_col0,#T_6e28a_row6_col0,#T_6e28a_row7_col0{\n",
       "            background-color:  #fef8fe;\n",
       "            color:  #000000;\n",
       "        }#T_6e28a_row2_col0{\n",
       "            background-color:  #f7caf8;\n",
       "            color:  #000000;\n",
       "        }#T_6e28a_row8_col0{\n",
       "            background-color:  #000080;\n",
       "            color:  #f1f1f1;\n",
       "        }#T_6e28a_row9_col0,#T_6e28a_row10_col0{\n",
       "            background-color:  #00ffeb;\n",
       "            color:  #000000;\n",
       "        }</style><table id=\"T_6e28a_\" ><thead>    <tr>        <th class=\"blank level0\" ></th>        <th class=\"col_heading level0 col0\" >0</th>    </tr></thead><tbody>\n",
       "                <tr>\n",
       "                        <th id=\"T_6e28a_level0_row0\" class=\"row_heading level0 row0\" >Name</th>\n",
       "                        <td id=\"T_6e28a_row0_col0\" class=\"data row0 col0\" >0.000000</td>\n",
       "            </tr>\n",
       "            <tr>\n",
       "                        <th id=\"T_6e28a_level0_row1\" class=\"row_heading level0 row1\" >Platform</th>\n",
       "                        <td id=\"T_6e28a_row1_col0\" class=\"data row1 col0\" >0.000000</td>\n",
       "            </tr>\n",
       "            <tr>\n",
       "                        <th id=\"T_6e28a_level0_row2\" class=\"row_heading level0 row2\" >Year_of_Release</th>\n",
       "                        <td id=\"T_6e28a_row2_col0\" class=\"data row2 col0\" >2.000000</td>\n",
       "            </tr>\n",
       "            <tr>\n",
       "                        <th id=\"T_6e28a_level0_row3\" class=\"row_heading level0 row3\" >Genre</th>\n",
       "                        <td id=\"T_6e28a_row3_col0\" class=\"data row3 col0\" >0.000000</td>\n",
       "            </tr>\n",
       "            <tr>\n",
       "                        <th id=\"T_6e28a_level0_row4\" class=\"row_heading level0 row4\" >NA_sales</th>\n",
       "                        <td id=\"T_6e28a_row4_col0\" class=\"data row4 col0\" >0.000000</td>\n",
       "            </tr>\n",
       "            <tr>\n",
       "                        <th id=\"T_6e28a_level0_row5\" class=\"row_heading level0 row5\" >EU_sales</th>\n",
       "                        <td id=\"T_6e28a_row5_col0\" class=\"data row5 col0\" >0.000000</td>\n",
       "            </tr>\n",
       "            <tr>\n",
       "                        <th id=\"T_6e28a_level0_row6\" class=\"row_heading level0 row6\" >JP_sales</th>\n",
       "                        <td id=\"T_6e28a_row6_col0\" class=\"data row6 col0\" >0.000000</td>\n",
       "            </tr>\n",
       "            <tr>\n",
       "                        <th id=\"T_6e28a_level0_row7\" class=\"row_heading level0 row7\" >Other_sales</th>\n",
       "                        <td id=\"T_6e28a_row7_col0\" class=\"data row7 col0\" >0.000000</td>\n",
       "            </tr>\n",
       "            <tr>\n",
       "                        <th id=\"T_6e28a_level0_row8\" class=\"row_heading level0 row8\" >Critic_Score</th>\n",
       "                        <td id=\"T_6e28a_row8_col0\" class=\"data row8 col0\" >51.000000</td>\n",
       "            </tr>\n",
       "            <tr>\n",
       "                        <th id=\"T_6e28a_level0_row9\" class=\"row_heading level0 row9\" >User_Score</th>\n",
       "                        <td id=\"T_6e28a_row9_col0\" class=\"data row9 col0\" >40.000000</td>\n",
       "            </tr>\n",
       "            <tr>\n",
       "                        <th id=\"T_6e28a_level0_row10\" class=\"row_heading level0 row10\" >Rating</th>\n",
       "                        <td id=\"T_6e28a_row10_col0\" class=\"data row10 col0\" >40.000000</td>\n",
       "            </tr>\n",
       "    </tbody></table>"
      ],
      "text/plain": [
       "<pandas.io.formats.style.Styler at 0x7f61cb0d18e0>"
      ]
     },
     "execution_count": 3,
     "metadata": {},
     "output_type": "execute_result"
    }
   ],
   "source": [
    "pd.DataFrame(\n",
    "    round(\n",
    "        data.isna().mean() * 100,\n",
    "    )\n",
    ").style.background_gradient(\"gist_ncar_r\")"
   ]
  },
  {
   "cell_type": "code",
   "execution_count": null,
   "metadata": {},
   "outputs": [
    {
     "data": {
      "image/png": "[encoded data removed]",
      "text/plain": [
       "<Figure size 936x432 with 1 Axes>"
      ]
     },
     "metadata": {
      "needs_background": "light"
     },
     "output_type": "display_data"
    }
   ],
   "source": [
    "data[\"Year_of_Release\"].hist(bins=36);"
   ]
  },
  {
   "cell_type": "markdown",
   "metadata": {},
   "source": [
    "В наличии мы имеем таблицу, содержащую 16715 строк, в которой находятся данные о характеристиках компьютерных игр с 1980 по 2016 год, величине их продаж в различных регионах и данные о рейтингах и оценках игр. <br>\n",
    "*Также можно заметить, что названия столбцов в таблице имеют верхний регистр. Формат столбца `Year_of_Release` является дробным числом. А столбец `User_Score` имеет формат odject, хотя в нем находится числовая оценка. <br>\n",
    "Относительно пропусков в значениях таблицы, можно заметить, что небольшое количество пропусков имеет столбец `Year_of_Release`, а также около 40-50% значений пропущено в столбцах `Critic_Score`, `User_Score` и `Rating` - возможно, это связано с тем, что часть игр в наших данных имеет порядочный возраст. Проверим это  в разделе* __Предобработка данных__\n"
   ]
  },
  {
   "cell_type": "markdown",
   "metadata": {},
   "source": [
    "## Предобработка данных\n",
    "\n"
   ]
  },
  {
   "cell_type": "markdown",
   "metadata": {},
   "source": [
    "### Обработка названий столбцов\n",
    "Для начала приведем названия всех столбцов к привычному виду - заменим верхний регистр букв в названиях столбцов на нижний:"
   ]
  },
  {
   "cell_type": "code",
   "execution_count": 5,
   "metadata": {},
   "outputs": [],
   "source": [
    "data.columns = data.columns.str.lower()"
   ]
  },
  {
   "cell_type": "markdown",
   "metadata": {},
   "source": [
    "### Пропуски и формат столбца `year_of_release`\n",
    "Теперь переведем значения столбца `year_of_release` во временной формат. Для этого, сначала, нам необходимо разобрабраться с пропусками в данном столбце. Так как пропуски составляют около 2х% и этот параметр важен для нашего исследования - избавимся от строк имеющих данный пропуск."
   ]
  },
  {
   "cell_type": "code",
   "execution_count": null,
   "metadata": {},
   "outputs": [],
   "source": [
    "data = data.dropna(subset=[\"year_of_release\"])"
   ]
  },
  {
   "cell_type": "code",
   "execution_count": null,
   "metadata": {},
   "outputs": [],
   "source": [
    "data[\"year_of_release\"] = pd.to_datetime(data[\"year_of_release\"], format=\"%Y\")\n",
    "data[\"year_of_release\"] = pd.DatetimeIndex(data[\"year_of_release\"]).year"
   ]
  },
  {
   "cell_type": "code",
   "execution_count": null,
   "metadata": {},
   "outputs": [
    {
     "data": {
      "text/plain": [
       "0        2006\n",
       "1        1985\n",
       "2        2008\n",
       "3        2009\n",
       "4        1996\n",
       "         ... \n",
       "16710    2016\n",
       "16711    2006\n",
       "16712    2016\n",
       "16713    2003\n",
       "16714    2016\n",
       "Name: year_of_release, Length: 16446, dtype: int64"
      ]
     },
     "execution_count": 8,
     "metadata": {},
     "output_type": "execute_result"
    }
   ],
   "source": [
    "data[\"year_of_release\"]"
   ]
  },
  {
   "cell_type": "markdown",
   "metadata": {},
   "source": [
    "### Пропуски и значения столбцов `critic_score`, `user_score`, `rating`\n",
    "Теперь оценим пропуски и значения в столбцах `critic_score`, `user_score` и `rating`.\n",
    "Для начала проверим уникальные значения в каждом столбце на наличие каких-либо некорректных значений"
   ]
  },
  {
   "cell_type": "code",
   "execution_count": null,
   "metadata": {},
   "outputs": [
    {
     "data": {
      "text/plain": [
       "array([76., nan, 82., 80., 89., 58., 87., 91., 61., 97., 95., 77., 88.,\n",
       "       83., 94., 93., 85., 86., 98., 96., 90., 84., 73., 74., 78., 92.,\n",
       "       71., 72., 68., 62., 49., 67., 81., 66., 56., 79., 70., 59., 64.,\n",
       "       75., 60., 63., 69., 50., 25., 42., 44., 55., 48., 57., 29., 47.,\n",
       "       65., 54., 20., 53., 37., 38., 33., 52., 30., 32., 43., 45., 51.,\n",
       "       40., 46., 39., 34., 41., 36., 31., 27., 35., 26., 19., 28., 23.,\n",
       "       24., 21., 17., 13.])"
      ]
     },
     "execution_count": 9,
     "metadata": {},
     "output_type": "execute_result"
    }
   ],
   "source": [
    "data[\"critic_score\"].unique()"
   ]
  },
  {
   "cell_type": "code",
   "execution_count": null,
   "metadata": {},
   "outputs": [
    {
     "data": {
      "text/plain": [
       "array(['E', nan, 'M', 'T', 'E10+', 'K-A', 'AO', 'EC', 'RP'], dtype=object)"
      ]
     },
     "execution_count": 10,
     "metadata": {},
     "output_type": "execute_result"
    }
   ],
   "source": [
    "data[\"rating\"].unique()"
   ]
  },
  {
   "cell_type": "code",
   "execution_count": null,
   "metadata": {
    "scrolled": false
   },
   "outputs": [
    {
     "data": {
      "text/plain": [
       "array(['8', nan, '8.3', '8.5', '6.6', '8.4', '8.6', '7.7', '6.3', '7.4',\n",
       "       '8.2', '9', '7.9', '8.1', '8.7', '7.1', '3.4', '5.3', '4.8', '3.2',\n",
       "       '8.9', '6.4', '7.8', '7.5', '2.6', '7.2', '9.2', '7', '7.3', '4.3',\n",
       "       '7.6', '5.7', '5', '9.1', '6.5', 'tbd', '8.8', '6.9', '9.4', '6.8',\n",
       "       '6.1', '6.7', '5.4', '4', '4.9', '4.5', '9.3', '6.2', '4.2', '6',\n",
       "       '3.7', '4.1', '5.8', '5.6', '5.5', '4.4', '4.6', '5.9', '3.9',\n",
       "       '3.1', '2.9', '5.2', '3.3', '4.7', '5.1', '3.5', '2.5', '1.9', '3',\n",
       "       '2.7', '2.2', '2', '9.5', '2.1', '3.6', '2.8', '1.8', '3.8', '0',\n",
       "       '1.6', '9.6', '2.4', '1.7', '1.1', '0.3', '1.5', '0.7', '1.2',\n",
       "       '2.3', '0.5', '1.3', '0.2', '0.6', '1.4', '0.9', '1', '9.7'],\n",
       "      dtype=object)"
      ]
     },
     "execution_count": 11,
     "metadata": {},
     "output_type": "execute_result"
    }
   ],
   "source": [
    "data[\"user_score\"].unique()"
   ]
  },
  {
   "cell_type": "markdown",
   "metadata": {},
   "source": [
    "В столбце с пользовательсткой оценкой компьютерных игр мы видим, что попадаются значения 'tbd' - чаще всего данное сокращение обозначает фразу *to be determined*, то есть - пока не определено. В нашим случае неопределенная оценка тоже самое, что пропуск. Поэтому заменим эти значения на обычный пропуск данных."
   ]
  },
  {
   "cell_type": "code",
   "execution_count": null,
   "metadata": {},
   "outputs": [],
   "source": [
    "data.loc[data[\"user_score\"] == \"tbd\", \"user_score\"] = np.nan"
   ]
  },
  {
   "cell_type": "markdown",
   "metadata": {},
   "source": [
    "Теперь можно заменить формат значений в этом столбце на числовой формат. Для удобства анализа переведем оценки в 100-бальную систему и установим числовой формат."
   ]
  },
  {
   "cell_type": "code",
   "execution_count": null,
   "metadata": {},
   "outputs": [],
   "source": [
    "data[\"user_score\"] = data[\"user_score\"].astype(\"float\")\n",
    "data[\"user_score\"] = data[\"user_score\"] * 10"
   ]
  },
  {
   "cell_type": "markdown",
   "metadata": {},
   "source": [
    "В значениях  с рейтингами и оценками мы имеем около 50% неоценненых игр из нашей таблицы. Скорее всего это небольшие игры от малоизвестных производителей, которые так и не вышли на широкий рынок, поэтому не были удостоены оценкам и рейтинги для них не составлялись; также это может быть применимо к старым играм, когда не было широкой возможности собирать оценки пользователей и критиков, а рейтинговое агенство еще не существовало (до 1994). Проверим теорию о том, что пропуски в столбцах `critic_score`, `user_score` и `rating` содержаться по большей части в одних и тех же играх. Для этого оценим количество игр, имеющих пропуски во всех 3х столбцах с количеством пропусков в столбце `rating`"
   ]
  },
  {
   "cell_type": "code",
   "execution_count": null,
   "metadata": {},
   "outputs": [
    {
     "name": "stdout",
     "output_type": "stream",
     "text": [
      "6678\n"
     ]
    },
    {
     "data": {
      "text/plain": [
       "6582"
      ]
     },
     "execution_count": 14,
     "metadata": {},
     "output_type": "execute_result"
    }
   ],
   "source": [
    "print(data[\"rating\"].isna().sum())\n",
    "data.loc[\n",
    "    (data[\"critic_score\"].isna())\n",
    "    & (data[\"user_score\"].isna())\n",
    "    & (data[\"rating\"].isna())\n",
    "].shape[0]"
   ]
  },
  {
   "cell_type": "markdown",
   "metadata": {},
   "source": [
    "Теория подтвердилась - игры не имеющие возрастного рейтинга, в большинстве своем, не имеют также и оценки пользователей и критиков.<br>\n",
    "Заполнение такого большого количества пропусков явно даст отрицательное влияние на последующее исследование. Поэтому не будем заполнять пропуски, а для последующего сравнения параметров, содержащих данные столбцы, создадим датафрейм со значениями исходной таблицы, которые не содержат пропусков в столбцах `critic_score` и `user_score`. По поводу пропусков в столбце `rating` - чтобы в последующем анализе можно было учесть игры без рейтинга и видеть их распределение по регионам, заменим пропуски в этом столбце на значение `'zero'`."
   ]
  },
  {
   "cell_type": "code",
   "execution_count": null,
   "metadata": {},
   "outputs": [],
   "source": [
    "data[\"rating\"] = data[\"rating\"].fillna(\"zero\")"
   ]
  },
  {
   "cell_type": "markdown",
   "metadata": {},
   "source": [
    "### Проверка на дубликаты\n",
    "Проверим наши данные на наличие дубликатов"
   ]
  },
  {
   "cell_type": "code",
   "execution_count": 16,
   "metadata": {},
   "outputs": [
    {
     "data": {
      "text/plain": [
       "0"
      ]
     },
     "execution_count": 16,
     "metadata": {},
     "output_type": "execute_result"
    }
   ],
   "source": [
    "data.duplicated().sum()"
   ]
  },
  {
   "cell_type": "markdown",
   "metadata": {
    "scrolled": true
   },
   "source": [
    "### Столбец `all_sales`\n",
    "Добавим столбец с суммарными продажами каждой игры по всем регионам"
   ]
  },
  {
   "cell_type": "code",
   "execution_count": null,
   "metadata": {},
   "outputs": [],
   "source": [
    "data[\"all_sales\"] = data[[\"na_sales\", \"eu_sales\", \"jp_sales\", \"other_sales\"]].sum(\n",
    "    axis=1\n",
    ")"
   ]
  },
  {
   "cell_type": "markdown",
   "metadata": {},
   "source": [
    "## Исследовательский анализ данных"
   ]
  },
  {
   "cell_type": "markdown",
   "metadata": {},
   "source": [
    "### Анализ года выпуска игры\n",
    "Посмотрим как распределены игры по годам их выпуска."
   ]
  },
  {
   "cell_type": "code",
   "execution_count": null,
   "metadata": {},
   "outputs": [
    {
     "data": {
      "image/png": "[encoded data removed]",
      "text/plain": [
       "<Figure size 936x432 with 1 Axes>"
      ]
     },
     "metadata": {
      "needs_background": "light"
     },
     "output_type": "display_data"
    }
   ],
   "source": [
    "ax = data[\"year_of_release\"].hist(bins=36, rwidth=0.9)\n",
    "ax.set_title(\"Количество игр по годам выпуска\")\n",
    "ax.set_xlabel(\"Год\");"
   ]
  },
  {
   "cell_type": "markdown",
   "metadata": {},
   "source": [
    "Мы видим, что количество выпускаемых игр в год значительно выросло со временем, при этом пик выпуска приходился на 2007-2011 года. Далее наблюдается некоторый спад в количестве, однако не менее 500 игр каждый год появляются на свет. По графику видно, что в большой временной промежуток с 1980го по 2002 выпускалось небольшое количество игр в сравнении с последними десятью годами, также это были годы развития данной области, появлялись новые технологии и платформы. Пользоваться такими старыми данными для прогнозирования результатов на ближайшие годы является некорректным. "
   ]
  },
  {
   "cell_type": "markdown",
   "metadata": {},
   "source": [
    "### Анализ распределения платформ выпуска игр\n",
    "\n",
    "Так как мы имеем данные примерно за 35 лет, то логично допустить, что некоторые платформы к настоящему моменту перестали существовать или сменились следующей версией. Посмотрим на распределение выпуска игр по годам в зависимости от той платформы на которую их делали.\n",
    "\n"
   ]
  },
  {
   "cell_type": "code",
   "execution_count": null,
   "metadata": {},
   "outputs": [
    {
     "data": {
      "image/png": "[encoded data removed]",
      "text/plain": [
       "<Figure size 936x432 with 1 Axes>"
      ]
     },
     "metadata": {
      "needs_background": "light"
     },
     "output_type": "display_data"
    }
   ],
   "source": [
    "ax = data.sort_values(by=\"year_of_release\", ascending=False).plot(\n",
    "    kind=\"scatter\",\n",
    "    x=\"platform\",\n",
    "    y=\"year_of_release\",\n",
    "    rot=45,\n",
    "    grid=True,\n",
    "    color=\"DarkGreen\",\n",
    "    title=\"Выпуски игр на разных платформах по годам\",\n",
    ")"
   ]
  },
  {
   "cell_type": "markdown",
   "metadata": {},
   "source": [
    "По данному графику хорошо видно, что на большую часть платформ игры уже давно не выпускаются, и соответственно, рассчитывать на эти платформы в будущем смысла нет. Также можно заметить, что в среднем платформы поддерживают выпуск игр в течении примерно 10 лет, за исключением PC, который остается постоянно актуальным. Если рассматривать теорию о 10ти летнем сроке выпуска игр на каждую платформу, то можно заметить, что такие платформы как PS3, X360, Wii и PSP заканчивают период в котором на них выпускают игры и сильно рассчитывать на эти платформы в будущем не стоит. <br>\n",
    "Теперь рассмотрим какие из платформ приносили наибольшее количество проданных копий за время выпуска игр на них.\n"
   ]
  },
  {
   "cell_type": "code",
   "execution_count": null,
   "metadata": {},
   "outputs": [
    {
     "data": {
      "image/png": "[encoded data removed]",
      "text/plain": [
       "<Figure size 936x432 with 1 Axes>"
      ]
     },
     "metadata": {
      "needs_background": "light"
     },
     "output_type": "display_data"
    }
   ],
   "source": [
    "ax = (\n",
    "    data.groupby(\"platform\")[\"all_sales\"]\n",
    "    .sum()\n",
    "    .sort_values(ascending=False)\n",
    "    .head(10)\n",
    "    .plot.bar(\n",
    "        rot=0,\n",
    "        title=\"10 самых крупных платформ по количеству проданных копий игр за все время\",\n",
    "        color=\"tomato\",\n",
    "    )\n",
    ")\n",
    "ax.set_ylabel(\"млн. копий проданных игр\");"
   ]
  },
  {
   "cell_type": "markdown",
   "metadata": {},
   "source": [
    "Как видно по графику, основные платформы по продажам - это платформы серии PlayStation, Xbox и Nintendo таких поколений, которые прожили свой жизненый цикл выпуска игр (около 10ти лет) или находятся на грани этого периода PS2, PS3, X360, Wii. Свежие поколения этих платформ, такие как PSV, Xone, PS4, 3DS и WiiU еще не появились в лидерах по количеству проданных копий игр. <br>\n",
    "Также можно заметить, что игры для PC не находятся в первой 10ке по количеству проданных копий, не смотря на то, что платформа является большим \"долгожителем\".\n"
   ]
  },
  {
   "cell_type": "markdown",
   "metadata": {},
   "source": [
    "**Исходя из полученных результатов можно сделать вывод, что для дальнейшего исследования и составления прогноза на следующий год нет необходимости использовать данные за все годы. Поэтому отбросим данные по играм выпущенным до 2010 года, таким образом у нас будет информация о динамики спроса на игры на все актуальные платформы к текущему моменту и минимум лишней информации.**"
   ]
  },
  {
   "cell_type": "code",
   "execution_count": null,
   "metadata": {},
   "outputs": [],
   "source": [
    "data = data.query(\"year_of_release >= 2010\")"
   ]
  },
  {
   "cell_type": "markdown",
   "metadata": {},
   "source": [
    "### Изучения динамики продаж для разных платформ\n",
    "На выбранных данных рассмотрим как менялись количества проданых копий игр в зависимости от платформы и года\n"
   ]
  },
  {
   "cell_type": "code",
   "execution_count": null,
   "metadata": {},
   "outputs": [
    {
     "data": {
      "image/png": "[encoded data removed]",
      "text/plain": [
       "<Figure size 936x432 with 2 Axes>"
      ]
     },
     "metadata": {
      "needs_background": "light"
     },
     "output_type": "display_data"
    }
   ],
   "source": [
    "df = data.pivot_table(\n",
    "    index=\"platform\", columns=\"year_of_release\", values=\"all_sales\", aggfunc=\"sum\"\n",
    ")\n",
    "\n",
    "ax = sns.heatmap(data=df, annot=True, cmap=\"magma_r\")\n",
    "ax.set_title(\"Изменение количество проданных копий игр в год по разным платформам\")\n",
    "ax.tick_params(axis=\"y\", labelrotation=30);"
   ]
  },
  {
   "cell_type": "markdown",
   "metadata": {},
   "source": [
    "По тепловой карте заметно, что на всех игровых платформах, существующих в 2011 году происходит общий спад в продажах игр с каждым годом. Необходимо помнить, что за 2016 год мы имеем неполные данные по продажам и аккуратнее делать выводы по этому году. Также видно, что часть продаж перехватывают платформы, которые только появились, в частости XOne, PS4 и WiiU. При этом платформа WiiU уже начинает терять высокие обороты продаж и к настоящему времени идет на спад. <br>\n",
    "__Таким образом мы видим высокий потенциал 2х платформ - XOne и PS4, а также несколько платформ из давно существующих, но еще имеющих не низкий уровень продаж игр - это PC и 3DS.__"
   ]
  },
  {
   "cell_type": "markdown",
   "metadata": {},
   "source": [
    "Построим также диаграмму размаха общей выручки от каждой игры отдельно по всем платформам <a id='1'></a>"
   ]
  },
  {
   "cell_type": "code",
   "execution_count": null,
   "metadata": {
    "scrolled": false
   },
   "outputs": [
    {
     "data": {
      "image/png": "[encoded data removed]",
      "text/plain": [
       "<Figure size 972x360 with 1 Axes>"
      ]
     },
     "metadata": {
      "needs_background": "light"
     },
     "output_type": "display_data"
    }
   ],
   "source": [
    "sns.catplot(\n",
    "    data=data, x=\"all_sales\", y=\"platform\", kind=\"box\", orient=\"h\", height=5, aspect=2.7\n",
    ").set(title=\"Распределение продаж от игр по каждой платформе\");"
   ]
  },
  {
   "cell_type": "markdown",
   "metadata": {},
   "source": [
    "По данной диаграмме можно сказать, что большинство игр приносят каждой платформе не самые большие продажи, а гораздо большее влияние оказывают отдельные сверх-популярные игры, копии которых продаются в разы чаще основной массы игр. При этом по данной диаграмме невозможно сравнить медианные величины количества продаж по разным платформам, сделаем дополнительный график с акцентом на интересующий период."
   ]
  },
  {
   "cell_type": "code",
   "execution_count": null,
   "metadata": {},
   "outputs": [
    {
     "data": {
      "image/png": "[encoded data removed]",
      "text/plain": [
       "<Figure size 972x360 with 1 Axes>"
      ]
     },
     "metadata": {
      "needs_background": "light"
     },
     "output_type": "display_data"
    }
   ],
   "source": [
    "ax = sns.catplot(\n",
    "    data=data, x=\"all_sales\", y=\"platform\", kind=\"box\", orient=\"h\", height=5, aspect=2.7\n",
    ").set(title=\"Распределение продаж от игр по каждой платформе без выбросов\")\n",
    "ax.set(xlim=(0, 2));"
   ]
  },
  {
   "cell_type": "markdown",
   "metadata": {},
   "source": [
    "По данному распредению можно сказать, что лидирующие позиции в медианном количестве продаваемых копий игр является платформа Xbox360, то есть в среднем для этой платформы игры продаются успешнее. 5-ка платформ с высокими средними продажами игр выглядит так - Xbox360, PS3, WiiU, XOne и PS4 - То есть игры передовых серий платформ XBox, PlayStation и Nintendo(WiiU) в среднем имеют высокие успехи. При этом можно обратить вниминие, что платформа 3DS имеющая хорошие годовые продажи, не выделяется в медианном количестве продаж игр, и , как следствие, собирает продажи за счет количества игр или за счет отдельных сверх-успешных игр."
   ]
  },
  {
   "cell_type": "markdown",
   "metadata": {},
   "source": [
    "### Исследование влияния оценок игр пользователями и критиками"
   ]
  },
  {
   "cell_type": "markdown",
   "metadata": {},
   "source": [
    "Для оценки влияния рейтингов и оценок игр на их продажи возьмем из наших данных только те, что не имеют пропусков в столбцах `critic_score` или `user_score`."
   ]
  },
  {
   "cell_type": "code",
   "execution_count": null,
   "metadata": {},
   "outputs": [],
   "source": [
    "score_table = data[(data[\"critic_score\"].notna()) & (data[\"user_score\"].notna())]"
   ]
  },
  {
   "cell_type": "markdown",
   "metadata": {},
   "source": [
    "Рассмотрим как оценки пользователей и критиков влияют на количество проданных копий игр. Для наглядности выберем несколько популярных игровых платформ - PS4, XOne и WiiU."
   ]
  },
  {
   "cell_type": "code",
   "execution_count": null,
   "metadata": {},
   "outputs": [
    {
     "data": {
      "image/png": "[encoded data removed]",
      "text/plain": [
       "<Figure size 936x432 with 1 Axes>"
      ]
     },
     "metadata": {
      "needs_background": "light"
     },
     "output_type": "display_data"
    },
    {
     "data": {
      "image/png": "[encoded data removed]",
      "text/plain": [
       "<Figure size 936x432 with 1 Axes>"
      ]
     },
     "metadata": {
      "needs_background": "light"
     },
     "output_type": "display_data"
    }
   ],
   "source": [
    "ax1 = sns.scatterplot(\n",
    "    data=score_table.query(\n",
    "        'platform == \"PS4\" or platform == \"XOne\" or platform == \"WiiU\"'\n",
    "    ),\n",
    "    x=\"all_sales\",\n",
    "    y=\"critic_score\",\n",
    "    color=\"tomato\",\n",
    "    alpha=0.6,\n",
    ")\n",
    "ax1.set_title(\"Зависимость количества проданных копий игр от оценок критиков\")\n",
    "plt.show()\n",
    "ax2 = sns.scatterplot(\n",
    "    data=score_table.query(\n",
    "        'platform == \"PS4\" or platform == \"XOne\" or platform == \"WiiU\"'\n",
    "    ),\n",
    "    x=\"all_sales\",\n",
    "    y=\"user_score\",\n",
    "    color=\"olive\",\n",
    "    alpha=0.6,\n",
    ")\n",
    "ax2.set_title(\"Зависимость количества проданных копий игр от оценок пользователей\")\n",
    "plt.show()"
   ]
  },
  {
   "cell_type": "markdown",
   "metadata": {},
   "source": [
    "Также рассчитаем коэфициент корреляции между параметрами количества проданных копий и оценками пользователей и критиков на выбранных платформах"
   ]
  },
  {
   "cell_type": "code",
   "execution_count": null,
   "metadata": {},
   "outputs": [
    {
     "data": {
      "text/html": [
       "<style  type=\"text/css\" >\n",
       "#T_e7fce_row0_col0,#T_e7fce_row1_col1,#T_e7fce_row2_col2{\n",
       "            background-color:  #000000;\n",
       "            color:  #f1f1f1;\n",
       "        }#T_e7fce_row0_col1{\n",
       "            background-color:  #b8b8b8;\n",
       "            color:  #000000;\n",
       "        }#T_e7fce_row0_col2,#T_e7fce_row2_col0,#T_e7fce_row2_col1{\n",
       "            background-color:  #ffffff;\n",
       "            color:  #000000;\n",
       "        }#T_e7fce_row1_col0{\n",
       "            background-color:  #737373;\n",
       "            color:  #000000;\n",
       "        }#T_e7fce_row1_col2{\n",
       "            background-color:  #a0a0a0;\n",
       "            color:  #000000;\n",
       "        }</style><table id=\"T_e7fce_\" ><thead>    <tr>        <th class=\"blank level0\" ></th>        <th class=\"col_heading level0 col0\" >user_score</th>        <th class=\"col_heading level0 col1\" >critic_score</th>        <th class=\"col_heading level0 col2\" >all_sales</th>    </tr></thead><tbody>\n",
       "                <tr>\n",
       "                        <th id=\"T_e7fce_level0_row0\" class=\"row_heading level0 row0\" >user_score</th>\n",
       "                        <td id=\"T_e7fce_row0_col0\" class=\"data row0 col0\" >1.000000</td>\n",
       "                        <td id=\"T_e7fce_row0_col1\" class=\"data row0 col1\" >0.555029</td>\n",
       "                        <td id=\"T_e7fce_row0_col2\" class=\"data row0 col2\" >0.015552</td>\n",
       "            </tr>\n",
       "            <tr>\n",
       "                        <th id=\"T_e7fce_level0_row1\" class=\"row_heading level0 row1\" >critic_score</th>\n",
       "                        <td id=\"T_e7fce_row1_col0\" class=\"data row1 col0\" >0.555029</td>\n",
       "                        <td id=\"T_e7fce_row1_col1\" class=\"data row1 col1\" >1.000000</td>\n",
       "                        <td id=\"T_e7fce_row1_col2\" class=\"data row1 col2\" >0.383756</td>\n",
       "            </tr>\n",
       "            <tr>\n",
       "                        <th id=\"T_e7fce_level0_row2\" class=\"row_heading level0 row2\" >all_sales</th>\n",
       "                        <td id=\"T_e7fce_row2_col0\" class=\"data row2 col0\" >0.015552</td>\n",
       "                        <td id=\"T_e7fce_row2_col1\" class=\"data row2 col1\" >0.383756</td>\n",
       "                        <td id=\"T_e7fce_row2_col2\" class=\"data row2 col2\" >1.000000</td>\n",
       "            </tr>\n",
       "    </tbody></table>"
      ],
      "text/plain": [
       "<pandas.io.formats.style.Styler at 0x7f61c28e2eb0>"
      ]
     },
     "execution_count": 27,
     "metadata": {},
     "output_type": "execute_result"
    }
   ],
   "source": [
    "score_table.query(\n",
    "    'platform == \"PS4\" or \\\n",
    "                  platform == \"XOne\" or \\\n",
    "                  platform == \"WiiU\"'\n",
    ")[[\"user_score\", \"critic_score\", \"all_sales\"]].corr().style.background_gradient(\n",
    "    \"gray_r\"\n",
    ")"
   ]
  },
  {
   "cell_type": "markdown",
   "metadata": {},
   "source": [
    "По полученным графикам можно сказать, что количество проданных копий игр очень слабо зависит от каких-либо оценок, в частости мы видим полное отсутствие зависимости между пользовательской оценкой и результатом продаж. Оценка критиков коррелирует с продажами тоже очень слабо, однако по диаграмме рассеивания можно заметить, что игры с оценками критиков меньше 60 точно не продавались в какой-либо значимой степени. При этом если оценка критиков игры забралась выше 70, то у игры есть шанс стать прибыльной, а если оценка выше 90, то игра явно должна \"выстрелить\". По оценкам пользователей сложно строить какие-либо теории, кроме той, что если игра набрала меньше 30, то ждать от нее больших результатов по продажам не приходится."
   ]
  },
  {
   "cell_type": "markdown",
   "metadata": {},
   "source": [
    "**Смотря на [распределение](#1) продаж игр по платформам, мы видим схожую, в большей степени, ситуацию относительно разных платформ - основные игры продаются в небольших тиражах и отдельные экземпляры приносят бОльшую часть продаж. При этом смотря на распределение оценок критиков и количества продаваемых копий игр можно предположить, что именно эти игры имееют оценку критиков > 70.**"
   ]
  },
  {
   "cell_type": "markdown",
   "metadata": {},
   "source": [
    "### Анализ влияния жанра игры на ее успешность и популярность."
   ]
  },
  {
   "cell_type": "markdown",
   "metadata": {},
   "source": [
    "Для начала посмотрим как распределяются игровые жанры среди всего множества игр, а также какую прибыль приносили разные жанры игр за весь рассматриваемый период."
   ]
  },
  {
   "cell_type": "code",
   "execution_count": null,
   "metadata": {},
   "outputs": [
    {
     "data": {
      "image/png": "[encoded data removed]",
      "text/plain": [
       "<Figure size 936x432 with 1 Axes>"
      ]
     },
     "metadata": {
      "needs_background": "light"
     },
     "output_type": "display_data"
    }
   ],
   "source": [
    "ax = data[\"genre\"].hist(bins=12, rwidth=0.9, color=\"tomato\")\n",
    "ax.set_title(\"Количество игр в разных жанрах\")\n",
    "ax.tick_params(axis=\"x\", labelrotation=30);"
   ]
  },
  {
   "cell_type": "code",
   "execution_count": null,
   "metadata": {
    "scrolled": false
   },
   "outputs": [
    {
     "data": {
      "image/png": "[encoded data removed]",
      "text/plain": [
       "<Figure size 936x432 with 1 Axes>"
      ]
     },
     "metadata": {
      "needs_background": "light"
     },
     "output_type": "display_data"
    }
   ],
   "source": [
    "(\n",
    "    data.groupby(\"genre\")[\"all_sales\"]\n",
    "    .sum()\n",
    "    .sort_values()\n",
    "    .plot(\n",
    "        kind=\"bar\",\n",
    "        colormap=\"ocean\",\n",
    "        grid=True,\n",
    "        title=\"Количество проданных копий игр в разных жанрах\",\n",
    "    )\n",
    ");"
   ]
  },
  {
   "cell_type": "markdown",
   "metadata": {},
   "source": [
    "Чтобы понять игры какого жанра имееют большую успешность в продажах сделаем такой же график только по медианным значениям продаж игр каждого жанра."
   ]
  },
  {
   "cell_type": "code",
   "execution_count": null,
   "metadata": {},
   "outputs": [
    {
     "data": {
      "image/png": "[encoded data removed]",
      "text/plain": [
       "<Figure size 936x432 with 1 Axes>"
      ]
     },
     "metadata": {
      "needs_background": "light"
     },
     "output_type": "display_data"
    }
   ],
   "source": [
    "(\n",
    "    data.groupby(\"genre\")[\"all_sales\"]\n",
    "    .median()\n",
    "    .sort_values()\n",
    "    .plot(\n",
    "        kind=\"bar\",\n",
    "        colormap=\"ocean\",\n",
    "        grid=True,\n",
    "        title=\"Количество проданных копий игр в разных жанрах\",\n",
    "    )\n",
    ");"
   ]
  },
  {
   "cell_type": "markdown",
   "metadata": {},
   "source": [
    "По данным графикам мы видим интересное распределение:\n",
    "- Cамый популярный жанр в суммарных продажах - это Action, при этом он обгоняет всех по количеству игр более чем в 2.5 раза, однако средние продажи игр в этом жанре даже не попадают в 5-ку лидеров по средним продажам. Отсюда можно сделать вывод, в жанре Action продажи собираются за счет количества выпускаемых игр;\n",
    "- Интересную картину показывает жанр Shooter - находясь на 6-ом месте по распределению игр он имеет 2-ое место по общим продажам среди остальных жанров, и является абсолютным лидеров по средним продажам игр, почти в 2 раза превышая средние продажи в других жанрах;\n",
    "- Следующие 4 жанра по популярности это - Adventure, Sports, Role-Playing и Misc. Они имеют примерно равное распределение количества игр, однако результаты их продаж различаются. Тут мы сразу видим аутсайдера- жанр Adventure, который значительно отстал по продажам в абсолютном и среднем значении от остальных. Жанр Sports имеет самые высокие средние продажи среди этой 4-ки жанров. Остальные Role-Playing и Misc немного отстают в среднем уровне продаж;\n",
    "- Также надо обратить внимание, что жанры Platform, Flaying и Racing находятся в 5-ке жанров по средним продажам игр, хотя популярность выпуска игр на них небольшая.\n",
    "\n",
    "Дополнительно рассмотрим как менялась динамика средних продаж по годам в 5ке самых популярных жанров по выпускам игр за последнее время. Это будут жанры Action, Shooter, Sports, Role-Playing и Misc в порядке убывания."
   ]
  },
  {
   "cell_type": "code",
   "execution_count": null,
   "metadata": {},
   "outputs": [
    {
     "data": {
      "image/png": "[encoded data removed]",
      "text/plain": [
       "<Figure size 936x432 with 1 Axes>"
      ]
     },
     "metadata": {
      "needs_background": "light"
     },
     "output_type": "display_data"
    }
   ],
   "source": [
    "data_pop_genre = data.query(\n",
    "    'genre==\"Action\" or \\\n",
    "                            genre==\"Shooter\" or \\\n",
    "                            genre==\"Sports\" or  \\\n",
    "                            genre==\"Role-Playing\" or \\\n",
    "                            genre==\"Misc\"'\n",
    ").pivot_table(\n",
    "    index=\"year_of_release\", columns=\"genre\", values=\"all_sales\", aggfunc=\"median\"\n",
    ")\n",
    "\n",
    "ax = sns.lineplot(data=data_pop_genre, dashes=False, palette=\"Spectral_r\", lw=2.5)\n",
    "ax.set_title(\"Динамика средних продаж самых популярных жанров по годам\")\n",
    "ax.set_ylabel(\"median_sales\");"
   ]
  },
  {
   "cell_type": "markdown",
   "metadata": {},
   "source": [
    "Дополнительно к прошлым выводам можно добавить, что с 2010 года средние продажи жанров Action, Role-Playing и Misc несущественно изменяются, хотя жанр Action после 2014 начал терять позиции. Средние продажи жанра Sport изменяются нестабильно сильно от года к году. А средние продажи жанра Shooter практически весь рассматриваемый период имеют лидерство среди остальных популярных жанров."
   ]
  },
  {
   "cell_type": "markdown",
   "metadata": {},
   "source": [
    "### Исследование предпочтений и продаж в играх относительно региона."
   ]
  },
  {
   "cell_type": "markdown",
   "metadata": {},
   "source": [
    "Для начала, посмотрим на самые популярные платформы и жанры в имеющихся регионах. Рассматриваемые регионы это - NA, EU и JP - Северная Америка, Европа и Япония соответственно."
   ]
  },
  {
   "cell_type": "code",
   "execution_count": null,
   "metadata": {},
   "outputs": [
    {
     "data": {
      "image/png": "[encoded data removed]",
      "text/plain": [
       "<Figure size 936x864 with 3 Axes>"
      ]
     },
     "metadata": {
      "needs_background": "light"
     },
     "output_type": "display_data"
    }
   ],
   "source": [
    "df_plf = data.groupby(\"platform\").sum()\n",
    "\n",
    "fig, (ax1, ax2, ax3) = plt.subplots(3)\n",
    "fig.suptitle(\"Продажи игр относительно платформы в разных регионах\")\n",
    "fig.set_figheight(12)\n",
    "ax1.bar(df_plf.index, df_plf[\"na_sales\"], color=\"indigo\")\n",
    "ax1.set_ylabel(\"Продажи в Северной Америке\")\n",
    "ax2.bar(df_plf.index, df_plf[\"eu_sales\"], color=\"DarkGreen\")\n",
    "ax2.set_ylabel(\"Продажи в Европе\")\n",
    "ax3.bar(df_plf.index, df_plf[\"jp_sales\"], color=\"peru\")\n",
    "ax3.set_ylabel(\"Продажи в Японии\");"
   ]
  },
  {
   "cell_type": "code",
   "execution_count": null,
   "metadata": {},
   "outputs": [
    {
     "data": {
      "image/png": "[encoded data removed]",
      "text/plain": [
       "<Figure size 936x504 with 3 Axes>"
      ]
     },
     "metadata": {
      "needs_background": "light"
     },
     "output_type": "display_data"
    }
   ],
   "source": [
    "df_gnr = data.groupby(\"genre\").sum()\n",
    "fig, axs = plt.subplots(1, 3)\n",
    "fig.suptitle(\"Продажи игр относительно жанров в разных регионах\")\n",
    "fig.set_figheight(7)\n",
    "fig.set_figwidth(13)\n",
    "j = 0\n",
    "color = [\"indigo\", \"DarkGreen\", \"peru\"]\n",
    "\n",
    "for i in [\"na_sales\", \"eu_sales\", \"jp_sales\"]:\n",
    "    ax = axs[j]\n",
    "    dfi = df_gnr.sort_values(by=i)\n",
    "    ax.barh(dfi.index, dfi[i], color=color[j])\n",
    "    ax.set_xlabel(i)\n",
    "    j += 1\n",
    "\n",
    "fig.tight_layout()"
   ]
  },
  {
   "cell_type": "markdown",
   "metadata": {},
   "source": [
    "По полученным данным можно сделать отдельные выводы для каждого региона.\n",
    "1. Северная Америка: <br>\n",
    "Для Северной Америки любимые 5 игровых платформ это - Х360, PS3, Wii, PS4 и XOne. При этом Х360 является лидером по количеству проданных копий игр и огоняет ближайшего конкурента PS3 примерно в полтора раза. Это частично можно объяснить тем, что родиной этой платформы является американская корпорация. Остальные любимые Америкой платформы Wii, PS4 и XOne отстают от PS3 почти в 2 раза и имееют схожий уровень продаж, при этом необходимо помнить, что в рассматриваемом периоде платформа Wii существует в 2 раза дольше платформ PS4 и XOne. <br>\n",
    "Самые популярные жанры в Северной Америке это - Action, Shooter, Sports, Misc и Role-Playing в порядке убывания. При этом жанр Action явно лидирует в продажах с отрывом как минимум в 2 раза от остальных популярных жанров, исключая жанр Shooter, который \"дышит ему в спину\" и занимает 2ое место.\n",
    "\n",
    "\n",
    "2. Европейский регион:<br>\n",
    "В Европейском регионе мы видим чуть отличное распределение популярных игровых платформ от Америки. Здесь 5ка лидеров выглядит так - PS3, X360, PS4, PC и Wii. Платформа PS3 является лидером по продаже игр. По графику можно заметить, что для Европейского региона характерны продажи игр в большей части на 3 платформы - PS3, X360 и PS4, остальные платформы отстают от них как минимум в 2 раза. Платформы PC и Wii из пятерки лидеров по количеству продаж практически не выделяются от продаж платформ 3DS и XOne, которые не попали в 5ку. <br>\n",
    "Распределение жанров в европейском регионе очень схоже с Американским регионом. Лидером является жанр Action, разве что его отрыв от остальных чуть более увеличен. 2-ое и 3-е место также достались жанрам Shooter и Sports, а на 4ом и 5ом месте те же жанры Misc и Role-Playing, но в другом порядке.\n",
    "\n",
    "\n",
    "3. Япония:<br>\n",
    "В Японии мы видим совсем другое распределение популярных платформ и жанров. Здесь лидирующая 5-ка платформ выглядит так - 3DS, PS3, PSP, DS и PSV. Всё это японские производители, американская линейка XBox здесь находится в отстающих позициях, также как и игры на персональный компьютер (PC) совершенно не востребованы в Японии. Явный лидер среди платформ компьютерных игр здесь - 3DS, имеет количество проданых копий игр в 2-3 раза превышающих остальные платформы. На втором месте по популярности платформа PS3 - данная платформа прочно держится в лидерах на любых континентах. Можно отметить, что в Японии в 5-ку лидеров лидеров попала платформа PSP, которая в остальных регионах не имеет значимой популярности. <br>\n",
    "Среди популярных жанров в Японии тоже картина совершенно непохожая на остальные регионы. Здесь мы видим выдающиеся продажи в жанре Role-Playing. Следом за ним идет популярный в остальных регионах жанр Action. Остальные жанры компьютерных игр имееют популярность значительно ниже, в 3-4 раза, относительно лидеров Role-Playing и Action. Среди остальных жанров немного выделяется своими продажам жанр Misc.\n"
   ]
  },
  {
   "cell_type": "markdown",
   "metadata": {},
   "source": [
    "### Анализ влияния рейтинга ESRB на продажи игр в разных регионах\n",
    "Рассмотрим как игры с различными возрастными рейтингами от организации ESRB продавались по отдельным регионам продаж."
   ]
  },
  {
   "cell_type": "code",
   "execution_count": null,
   "metadata": {},
   "outputs": [
    {
     "data": {
      "image/png": "[encoded data removed]",
      "text/plain": [
       "<Figure size 936x432 with 2 Axes>"
      ]
     },
     "metadata": {},
     "output_type": "display_data"
    }
   ],
   "source": [
    "sns.set(font_scale=1.1)\n",
    "sns.heatmap(\n",
    "    data=data[[\"rating\", \"na_sales\", \"eu_sales\", \"jp_sales\"]].groupby(\"rating\").sum(),\n",
    "    cmap=\"bone_r\",\n",
    "    fmt=\".1f\",\n",
    "    annot=True,\n",
    ").set(title=\"Продажи игр с разным возрастным рейтингов в разных регионах\");"
   ]
  },
  {
   "cell_type": "markdown",
   "metadata": {},
   "source": [
    "Как видно по полученной таблице в Северо-американском и Европейском регионах самыми продаваемыми играми являются игры с возрастным рейтингом \"М\", на втором месте по продажам в этих регионах находятся игры с рейтингом \"Е\" - так как этот рейтинг \"для всех\" свою популярность он может получать за счет широкого возрастного диапозона геймеров. И в целом, разброс продаж в этих регионах является схожим. Игры без рейтинга ESRB популярны в Европейском регионе даже больше, чем игры с любыми рейтингами, кроме \"М\" и \"Е\". На Американском рынке игры без рейтинга имееют популярность схожую с играми имеющими подростковые рейтинги (Е10+, Т). <br>\n",
    "В Японии мы видим совсем другое распределение популярности игр относительно рейтинга ESRB. Здесь самыми продаваемыми являются игры без рейтинга ESRB. А взрослый рейтинг \"М\", здесь совсем не выделяется по количеству продаж. Также можно заметить что игры с рейтингом \"Е\" на всех континентах имееют стабильное второе место по популярности, хоть и с разным отрывом от первого места в зависимости от региона.<br>\n",
    "\n",
    "*Здесь так же важно отметить, что организация ESRB имеет свои корни и большЕе влияние на территории Северной Америки. Для Японии, насколько мы видели выше, характерны другие типы платформ и жанров игр, также там присутствуют собственные рейтинговые компании (например CERO). Поэтому велик шанс, что игры, не имеющие рейтинга ESRB и настолько популярные в Японии, были созданы специально для этого рынка и имеют возрастной рейтинг, полученный в другом рейтинговом агенстве.*\n"
   ]
  },
  {
   "cell_type": "markdown",
   "metadata": {},
   "source": [
    "## Статистические проверки гипотез"
   ]
  },
  {
   "cell_type": "markdown",
   "metadata": {},
   "source": [
    "### Средние пользовательские рейтинги платформ Xbox One и PC"
   ]
  },
  {
   "cell_type": "markdown",
   "metadata": {},
   "source": [
    "Проверим гипотезу о равенстве средних пользовательских рейтингов компьютерных игр на таких платформах как Xbox One и PC.\n",
    "\n",
    "Для начала сформулируем нулевую гипотезу - средние рейтинги пользователей на платформах XOne и РС равны.<br>\n",
    "Тогда альтернативная гипотеза - средние рейтинги пользователей на платформах XOne и РС  не равны. <br>\n",
    "Для проверки гипотез будем использовать двухсторонний t-тест методом `ttest_ind`, так как мы имеем 2 выборки из разных генеральных совокупностей (совокупности оценок пользователей разных игровых платформ). <br>\n",
    "Количество игр на платформах XOne и РС различается, поэтому будем выставлять показатель равенства дисперсий 2х выборок равный `False`. \n"
   ]
  },
  {
   "cell_type": "code",
   "execution_count": null,
   "metadata": {},
   "outputs": [
    {
     "name": "stdout",
     "output_type": "stream",
     "text": [
      "Не получилось отвергнуть нулевую гипотезу, pvalue=0.9127457287129151\n"
     ]
    }
   ],
   "source": [
    "alpha = 0.05\n",
    "ar_XOne = score_table.query('platform == \"XOne\"')[\"user_score\"]\n",
    "ar_PC = score_table.query('platform == \"PC\"')[\"user_score\"]\n",
    "\n",
    "results = st.ttest_ind(ar_PC, ar_XOne, equal_var=False)\n",
    "\n",
    "if results.pvalue < alpha:\n",
    "    print(f\"Отвергаем нулевую гипотезу, pvalue={results.pvalue}\")\n",
    "else:\n",
    "    print(f\"Не получилось отвергнуть нулевую гипотезу, pvalue={results.pvalue}\")"
   ]
  },
  {
   "cell_type": "markdown",
   "metadata": {},
   "source": [
    "__Из-за высокого уровня значимости отвергнуть нулевую гипотезу не удалось, тогда можно сделать вывод о значимом равенстве между средними пользовательскими оценками игр на платформах Xbox One и PC.__"
   ]
  },
  {
   "cell_type": "markdown",
   "metadata": {},
   "source": [
    "### Средние пользовательские рейтинги жанров Action  и Sports \n",
    "Проверим гипотезу о том, что средние пользовательские рейтинги компьютерных игр в жанрах  Action  и Sports различаются.\n"
   ]
  },
  {
   "cell_type": "markdown",
   "metadata": {},
   "source": [
    "Для начала сформулируем нулевую гипотезу - cредние рейтинги пользователей в жанрах Action и Sports равны. <br>Тогда альтернативная гипотеза - cредние рейтинги пользователей в жанрах Action и Sports различаются.<br>\n",
    "Для проверки гипотез будем снова использовать двухсторонний t-тест методом `ttest_ind`, так как мы имеем 2 выборки из разных генеральных совокупностей (совокупности оценок пользователей разных игровых жанров).<br>\n",
    "Количество игр в жанрах Action и Sports существенно различается, поэтому будем выставлять показатель равенства дисперсий 2х выборок равный False. "
   ]
  },
  {
   "cell_type": "code",
   "execution_count": null,
   "metadata": {},
   "outputs": [
    {
     "name": "stdout",
     "output_type": "stream",
     "text": [
      "Отвергаем нулевую гипотезу, pvalue=8.946726392720106e-10\n"
     ]
    }
   ],
   "source": [
    "alpha = 0.05\n",
    "ar_Act = score_table.query('genre == \"Action\"')[\"user_score\"]\n",
    "ar_Sport = score_table.query('genre == \"Sports\"')[\"user_score\"]\n",
    "\n",
    "results = st.ttest_ind(ar_Sport, ar_Act, equal_var=False)\n",
    "\n",
    "if results.pvalue < alpha:\n",
    "    print(f\"Отвергаем нулевую гипотезу, pvalue={results.pvalue}\")\n",
    "else:\n",
    "    print(f\"Не получилось отвергнуть нулевую гипотезу, pvalue={results.pvalue}\")"
   ]
  },
  {
   "cell_type": "markdown",
   "metadata": {},
   "source": [
    "__Полученный уровень значимости очень низкий, соответственно нулевую гипотезу придется отвергнуть. Зато мы имеем четкое подтверждение нашей гипотезы о том, что средние пользовательские рейтинги компьютерных игр в жанрах Action и Sports различаются статистически значимо.__"
   ]
  },
  {
   "cell_type": "markdown",
   "metadata": {},
   "source": [
    "## Общие выводы"
   ]
  },
  {
   "cell_type": "markdown",
   "metadata": {},
   "source": [
    "В проведенном исследовании мы изучили исторические данные о продажах компьютерных игр, искали среди данных закономерности, определяющие успешность компьютерных игр в целом, а также зависимости от различных параметров. <br>\n",
    "В работе нам пришлось обработать данные от пропусков, некорректных форматов значений и прочих аномалий. Для актуальности и точности исследования пришлось отбросить часть данных, не имеющих в настоящее время исследовательской ценности. В ходе исследования мы изучили влияние на количество продаваемых копий игры таких параметров как: платформа на которую выпускали игру, жанр игры, оценки и рейтинги игр. Рассмотрели предпочтения пользователей из различных регионов в игровых жанрах и платформах. В конце исследования были проверены несколько статистических гипотез, сформированных в ходе исследования.\n",
    "\n"
   ]
  },
  {
   "cell_type": "markdown",
   "metadata": {},
   "source": [
    "По полученным результатам исследования можно сказать следующее:\n",
    "- Срок выпуска игр под игровую платформу составляет около 10 лет, и в течении условно последних 2х лет продажи игр под эту платформу начинают падать. По этой причине на данный момент перспективными платформами в Европейском и Американском регионе являются XOne и PS4 набирающие количество продаж с каждым годом все больше. При этом надо помнить, что платформа серии Xbox совсем не имеет популярности в Японии. Также платформа 3DS продолжает показывать хорошие продажи за счет Японского региона;\n",
    "- Выпуски игр под платформу PC представляются стабильными и небольшими в Европейском и Америнском регионах на промежутки большого количества лет;\n",
    "- Можно сказать, что большинство игр имеет не значительный уровень продаж, поэтому можно обратить внимание на вероятность того, что игры, оцененые критиками на более чем 70 баллов, имееют шанс стать предметом больших продаж. При оценке критиков более 90 - мы имеет будущую звезду продаж;\n",
    "- Среди жанров игр можно выделить явного лидера - Shooter. Имея не самое передовое количество игр, данный жанр имеет очень высокий уровень продаж, который слабо изменяется от года в год. Стоит только отметить посредственную популярность данного жанра в Японии;\n",
    "- В каждом регионе можно выделить популярный жанр Action, однако за счет большого количества игр в данном жанре будет сложнее отобрать потенциально выгодную, тут могут помочь оценки критиков, при их наличии;\n",
    "- По Японскому региону можно отметить самый популярный жанр Role-Playing, в сочетании с популярной в Японии платформой 3DS или перспективной РS4 можно получить выгодную комбинацию;\n",
    "- При этом в Американском и Европейском регионе большинсво прибыльных игр имеют возрастной рейтинг от ESRB \"М\", в Японии с рейтингами ESRB все сложнее, большинство игр продается без этого рейтинга.\n",
    "\n",
    "**По данным результатам, для требуемого региона можно подобрать набор параметров, который с большой вероятностью принесет магазину хорошие продажи и обеспеченное будущее!**\n",
    "\n",
    "\n",
    "\n"
   ]
  }
 ],
 "metadata": {
  "ExecuteTimeLog": [
   {
    "duration": 398,
    "start_time": "2022-09-19T16:57:25.176Z"
   },
   {
    "duration": 103,
    "start_time": "2022-09-19T16:58:46.166Z"
   },
   {
    "duration": 23,
    "start_time": "2022-09-19T16:58:59.084Z"
   },
   {
    "duration": 16,
    "start_time": "2022-09-19T16:59:14.137Z"
   },
   {
    "duration": 14,
    "start_time": "2022-09-19T17:35:33.265Z"
   },
   {
    "duration": 12,
    "start_time": "2022-09-19T17:35:40.717Z"
   },
   {
    "duration": 5,
    "start_time": "2022-09-19T17:41:03.628Z"
   },
   {
    "duration": 1339,
    "start_time": "2022-09-19T17:41:37.714Z"
   },
   {
    "duration": 52,
    "start_time": "2022-09-19T17:42:02.911Z"
   },
   {
    "duration": 1072,
    "start_time": "2022-09-19T17:42:10.324Z"
   },
   {
    "duration": 21,
    "start_time": "2022-09-19T17:47:13.765Z"
   },
   {
    "duration": 11,
    "start_time": "2022-09-19T17:47:29.140Z"
   },
   {
    "duration": 498,
    "start_time": "2022-09-20T06:06:07.581Z"
   },
   {
    "duration": 19,
    "start_time": "2022-09-20T06:06:23.926Z"
   },
   {
    "duration": 463,
    "start_time": "2022-09-20T06:09:22.354Z"
   },
   {
    "duration": 37,
    "start_time": "2022-09-20T06:09:38.016Z"
   },
   {
    "duration": 16,
    "start_time": "2022-09-20T06:10:24.879Z"
   },
   {
    "duration": 15,
    "start_time": "2022-09-20T06:10:33.137Z"
   },
   {
    "duration": 24,
    "start_time": "2022-09-20T06:10:46.145Z"
   },
   {
    "duration": 19,
    "start_time": "2022-09-20T06:11:00.146Z"
   },
   {
    "duration": 18,
    "start_time": "2022-09-20T06:11:21.018Z"
   },
   {
    "duration": 25,
    "start_time": "2022-09-20T06:11:28.305Z"
   },
   {
    "duration": 17,
    "start_time": "2022-09-20T06:11:43.907Z"
   },
   {
    "duration": 16,
    "start_time": "2022-09-20T06:11:55.349Z"
   },
   {
    "duration": 16,
    "start_time": "2022-09-20T06:12:39.799Z"
   },
   {
    "duration": 63,
    "start_time": "2022-09-20T06:13:09.917Z"
   },
   {
    "duration": 13,
    "start_time": "2022-09-20T06:13:10.529Z"
   },
   {
    "duration": 16,
    "start_time": "2022-09-20T06:13:11.455Z"
   },
   {
    "duration": 443,
    "start_time": "2022-09-20T06:41:40.908Z"
   },
   {
    "duration": 15,
    "start_time": "2022-09-20T06:41:41.354Z"
   },
   {
    "duration": 330,
    "start_time": "2022-09-20T06:41:41.370Z"
   },
   {
    "duration": 183,
    "start_time": "2022-09-20T06:41:41.702Z"
   },
   {
    "duration": 11,
    "start_time": "2022-09-20T06:41:41.886Z"
   },
   {
    "duration": 27,
    "start_time": "2022-09-20T06:53:15.845Z"
   },
   {
    "duration": 15,
    "start_time": "2022-09-20T06:53:44.514Z"
   },
   {
    "duration": 22,
    "start_time": "2022-09-20T06:53:53.740Z"
   },
   {
    "duration": 23,
    "start_time": "2022-09-20T06:54:04.453Z"
   },
   {
    "duration": 21,
    "start_time": "2022-09-20T06:55:33.130Z"
   },
   {
    "duration": 18,
    "start_time": "2022-09-20T06:55:40.153Z"
   },
   {
    "duration": 15,
    "start_time": "2022-09-20T06:55:51.393Z"
   },
   {
    "duration": 15,
    "start_time": "2022-09-20T06:56:03.551Z"
   },
   {
    "duration": 15,
    "start_time": "2022-09-20T06:56:15.602Z"
   },
   {
    "duration": 20,
    "start_time": "2022-09-20T06:56:38.831Z"
   },
   {
    "duration": 15,
    "start_time": "2022-09-20T06:57:03.755Z"
   },
   {
    "duration": 15,
    "start_time": "2022-09-20T06:57:14.582Z"
   },
   {
    "duration": 15,
    "start_time": "2022-09-20T06:57:30.756Z"
   },
   {
    "duration": 4,
    "start_time": "2022-09-20T07:17:50.067Z"
   },
   {
    "duration": 21,
    "start_time": "2022-09-20T07:18:04.726Z"
   },
   {
    "duration": 4,
    "start_time": "2022-09-20T07:18:21.657Z"
   },
   {
    "duration": 20,
    "start_time": "2022-09-20T07:18:31.326Z"
   },
   {
    "duration": 80,
    "start_time": "2022-09-20T07:23:12.525Z"
   },
   {
    "duration": 776,
    "start_time": "2022-09-20T07:24:05.560Z"
   },
   {
    "duration": 529,
    "start_time": "2022-09-20T07:24:53.455Z"
   },
   {
    "duration": 11,
    "start_time": "2022-09-20T07:25:08.302Z"
   },
   {
    "duration": 7,
    "start_time": "2022-09-20T07:26:51.047Z"
   },
   {
    "duration": 12,
    "start_time": "2022-09-20T07:29:52.609Z"
   },
   {
    "duration": 14,
    "start_time": "2022-09-20T07:30:06.377Z"
   },
   {
    "duration": 5,
    "start_time": "2022-09-20T07:30:42.604Z"
   },
   {
    "duration": 27,
    "start_time": "2022-09-20T07:33:34.899Z"
   },
   {
    "duration": 10,
    "start_time": "2022-09-20T07:35:17.692Z"
   },
   {
    "duration": 23,
    "start_time": "2022-09-20T07:36:06.730Z"
   },
   {
    "duration": 8,
    "start_time": "2022-09-20T07:42:38.735Z"
   },
   {
    "duration": 35,
    "start_time": "2022-09-20T07:43:00.850Z"
   },
   {
    "duration": 17,
    "start_time": "2022-09-20T07:43:50.928Z"
   },
   {
    "duration": 11,
    "start_time": "2022-09-20T07:44:03.698Z"
   },
   {
    "duration": 16,
    "start_time": "2022-09-20T07:44:16.568Z"
   },
   {
    "duration": 20,
    "start_time": "2022-09-20T07:47:08.936Z"
   },
   {
    "duration": 9,
    "start_time": "2022-09-20T07:48:16.492Z"
   },
   {
    "duration": 63,
    "start_time": "2022-09-20T07:50:58.265Z"
   },
   {
    "duration": 16,
    "start_time": "2022-09-20T07:50:58.330Z"
   },
   {
    "duration": 15,
    "start_time": "2022-09-20T07:50:58.347Z"
   },
   {
    "duration": 169,
    "start_time": "2022-09-20T07:50:58.783Z"
   },
   {
    "duration": 3,
    "start_time": "2022-09-20T07:50:58.954Z"
   },
   {
    "duration": 8,
    "start_time": "2022-09-20T07:50:58.958Z"
   },
   {
    "duration": 6,
    "start_time": "2022-09-20T07:51:57.901Z"
   },
   {
    "duration": 9,
    "start_time": "2022-09-20T07:53:12.268Z"
   },
   {
    "duration": 9,
    "start_time": "2022-09-20T07:53:21.443Z"
   },
   {
    "duration": 8,
    "start_time": "2022-09-20T07:55:26.460Z"
   },
   {
    "duration": 5,
    "start_time": "2022-09-20T07:56:16.035Z"
   },
   {
    "duration": 62,
    "start_time": "2022-09-20T07:56:41.761Z"
   },
   {
    "duration": 14,
    "start_time": "2022-09-20T07:56:41.825Z"
   },
   {
    "duration": 15,
    "start_time": "2022-09-20T07:56:41.840Z"
   },
   {
    "duration": 149,
    "start_time": "2022-09-20T07:56:41.865Z"
   },
   {
    "duration": 3,
    "start_time": "2022-09-20T07:56:42.017Z"
   },
   {
    "duration": 6,
    "start_time": "2022-09-20T07:56:42.033Z"
   },
   {
    "duration": 12,
    "start_time": "2022-09-20T07:57:22.961Z"
   },
   {
    "duration": 11,
    "start_time": "2022-09-20T07:57:35.465Z"
   },
   {
    "duration": 8,
    "start_time": "2022-09-20T07:58:46.905Z"
   },
   {
    "duration": 6,
    "start_time": "2022-09-20T07:58:58.409Z"
   },
   {
    "duration": 492,
    "start_time": "2022-09-20T13:46:11.128Z"
   },
   {
    "duration": 15,
    "start_time": "2022-09-20T13:46:11.622Z"
   },
   {
    "duration": 529,
    "start_time": "2022-09-20T13:46:11.638Z"
   },
   {
    "duration": 157,
    "start_time": "2022-09-20T13:46:12.169Z"
   },
   {
    "duration": 3,
    "start_time": "2022-09-20T13:46:12.329Z"
   },
   {
    "duration": 16,
    "start_time": "2022-09-20T13:46:12.334Z"
   },
   {
    "duration": 16,
    "start_time": "2022-09-20T13:46:12.351Z"
   },
   {
    "duration": 15,
    "start_time": "2022-09-20T13:46:12.368Z"
   },
   {
    "duration": 114,
    "start_time": "2022-09-20T13:46:12.384Z"
   },
   {
    "duration": 3,
    "start_time": "2022-09-20T13:48:49.617Z"
   },
   {
    "duration": 26,
    "start_time": "2022-09-20T13:52:37.996Z"
   },
   {
    "duration": 7,
    "start_time": "2022-09-20T13:52:55.447Z"
   },
   {
    "duration": 6,
    "start_time": "2022-09-20T13:55:24.601Z"
   },
   {
    "duration": 127,
    "start_time": "2022-09-20T13:56:48.528Z"
   },
   {
    "duration": 11,
    "start_time": "2022-09-20T13:57:47.038Z"
   },
   {
    "duration": 9,
    "start_time": "2022-09-20T13:59:26.643Z"
   },
   {
    "duration": 18,
    "start_time": "2022-09-20T14:00:27.204Z"
   },
   {
    "duration": 17,
    "start_time": "2022-09-20T14:01:04.514Z"
   },
   {
    "duration": 27,
    "start_time": "2022-09-20T14:01:26.159Z"
   },
   {
    "duration": 2027,
    "start_time": "2022-09-20T14:02:06.915Z"
   },
   {
    "duration": 69,
    "start_time": "2022-09-20T14:02:21.105Z"
   },
   {
    "duration": 156,
    "start_time": "2022-09-20T14:02:26.306Z"
   },
   {
    "duration": 3,
    "start_time": "2022-09-20T14:02:45.214Z"
   },
   {
    "duration": 6,
    "start_time": "2022-09-20T14:02:47.425Z"
   },
   {
    "duration": 7,
    "start_time": "2022-09-20T14:02:47.994Z"
   },
   {
    "duration": 5,
    "start_time": "2022-09-20T14:02:51.202Z"
   },
   {
    "duration": 7,
    "start_time": "2022-09-20T14:03:19.480Z"
   },
   {
    "duration": 10,
    "start_time": "2022-09-20T14:03:43.596Z"
   },
   {
    "duration": 11,
    "start_time": "2022-09-20T14:04:05.461Z"
   },
   {
    "duration": 8,
    "start_time": "2022-09-20T14:05:42.777Z"
   },
   {
    "duration": 11,
    "start_time": "2022-09-20T14:09:02.538Z"
   },
   {
    "duration": 7,
    "start_time": "2022-09-20T14:09:35.185Z"
   },
   {
    "duration": 8,
    "start_time": "2022-09-20T14:10:58.865Z"
   },
   {
    "duration": 8,
    "start_time": "2022-09-20T14:11:15.858Z"
   },
   {
    "duration": 7,
    "start_time": "2022-09-20T14:12:04.544Z"
   },
   {
    "duration": 6,
    "start_time": "2022-09-20T14:12:16.024Z"
   },
   {
    "duration": 7,
    "start_time": "2022-09-20T14:12:28.506Z"
   },
   {
    "duration": 9,
    "start_time": "2022-09-20T14:13:22.455Z"
   },
   {
    "duration": 8,
    "start_time": "2022-09-20T14:13:38.934Z"
   },
   {
    "duration": 10,
    "start_time": "2022-09-20T14:13:49.708Z"
   },
   {
    "duration": 132,
    "start_time": "2022-09-20T14:14:38.415Z"
   },
   {
    "duration": 4,
    "start_time": "2022-09-20T14:15:50.323Z"
   },
   {
    "duration": 5,
    "start_time": "2022-09-20T14:16:03.977Z"
   },
   {
    "duration": 5,
    "start_time": "2022-09-20T14:20:59.713Z"
   },
   {
    "duration": 134,
    "start_time": "2022-09-20T14:22:40.919Z"
   },
   {
    "duration": 148,
    "start_time": "2022-09-20T14:23:09.757Z"
   },
   {
    "duration": 139,
    "start_time": "2022-09-20T14:24:47.677Z"
   },
   {
    "duration": 12,
    "start_time": "2022-09-20T14:25:06.595Z"
   },
   {
    "duration": 9,
    "start_time": "2022-09-20T14:25:10.332Z"
   },
   {
    "duration": 9,
    "start_time": "2022-09-20T14:25:24.331Z"
   },
   {
    "duration": 7,
    "start_time": "2022-09-20T14:33:43.841Z"
   },
   {
    "duration": 8,
    "start_time": "2022-09-20T14:44:06.085Z"
   },
   {
    "duration": 7,
    "start_time": "2022-09-20T14:46:24.799Z"
   },
   {
    "duration": 5,
    "start_time": "2022-09-20T14:46:36.218Z"
   },
   {
    "duration": 5,
    "start_time": "2022-09-20T14:50:51.039Z"
   },
   {
    "duration": 5,
    "start_time": "2022-09-20T14:50:55.259Z"
   },
   {
    "duration": 183,
    "start_time": "2022-09-20T14:51:06.951Z"
   },
   {
    "duration": 12,
    "start_time": "2022-09-20T14:51:12.347Z"
   },
   {
    "duration": 1018,
    "start_time": "2022-09-20T14:59:28.631Z"
   },
   {
    "duration": 4,
    "start_time": "2022-09-20T15:00:20.096Z"
   },
   {
    "duration": 5,
    "start_time": "2022-09-20T15:00:25.253Z"
   },
   {
    "duration": 8,
    "start_time": "2022-09-20T15:17:07.570Z"
   },
   {
    "duration": 8,
    "start_time": "2022-09-20T15:17:50.992Z"
   },
   {
    "duration": 9,
    "start_time": "2022-09-20T15:18:09.702Z"
   },
   {
    "duration": 9,
    "start_time": "2022-09-20T15:18:17.973Z"
   },
   {
    "duration": 8,
    "start_time": "2022-09-20T15:18:25.174Z"
   },
   {
    "duration": 9,
    "start_time": "2022-09-20T15:19:06.959Z"
   },
   {
    "duration": 6,
    "start_time": "2022-09-20T15:20:21.859Z"
   },
   {
    "duration": 7,
    "start_time": "2022-09-20T15:20:38.527Z"
   },
   {
    "duration": 8,
    "start_time": "2022-09-20T15:31:39.462Z"
   },
   {
    "duration": 8,
    "start_time": "2022-09-20T15:31:55.662Z"
   },
   {
    "duration": 9,
    "start_time": "2022-09-20T15:32:05.401Z"
   },
   {
    "duration": 10,
    "start_time": "2022-09-20T15:32:19.732Z"
   },
   {
    "duration": 9,
    "start_time": "2022-09-20T15:34:21.592Z"
   },
   {
    "duration": 20,
    "start_time": "2022-09-20T15:34:30.850Z"
   },
   {
    "duration": 25,
    "start_time": "2022-09-20T15:36:41.432Z"
   },
   {
    "duration": 8,
    "start_time": "2022-09-20T15:41:24.253Z"
   },
   {
    "duration": 3,
    "start_time": "2022-09-20T15:42:52.159Z"
   },
   {
    "duration": 13,
    "start_time": "2022-09-20T15:42:54.789Z"
   },
   {
    "duration": 3,
    "start_time": "2022-09-20T15:43:32.652Z"
   },
   {
    "duration": 6,
    "start_time": "2022-09-20T15:43:37.331Z"
   },
   {
    "duration": 2,
    "start_time": "2022-09-20T15:44:27.763Z"
   },
   {
    "duration": 6,
    "start_time": "2022-09-20T15:44:28.393Z"
   },
   {
    "duration": 136,
    "start_time": "2022-09-20T15:46:27.954Z"
   },
   {
    "duration": 164,
    "start_time": "2022-09-20T15:46:32.529Z"
   },
   {
    "duration": 132,
    "start_time": "2022-09-20T15:47:07.889Z"
   },
   {
    "duration": 8,
    "start_time": "2022-09-20T15:47:37.501Z"
   },
   {
    "duration": 8,
    "start_time": "2022-09-20T15:47:43.729Z"
   },
   {
    "duration": 7,
    "start_time": "2022-09-20T15:47:50.377Z"
   },
   {
    "duration": 2,
    "start_time": "2022-09-20T15:49:35.162Z"
   },
   {
    "duration": 8,
    "start_time": "2022-09-20T15:49:36.331Z"
   },
   {
    "duration": 13,
    "start_time": "2022-09-20T15:49:37.962Z"
   },
   {
    "duration": 8,
    "start_time": "2022-09-20T15:50:11.560Z"
   },
   {
    "duration": 2,
    "start_time": "2022-09-20T15:50:17.391Z"
   },
   {
    "duration": 7,
    "start_time": "2022-09-20T15:50:18.191Z"
   },
   {
    "duration": 14,
    "start_time": "2022-09-20T15:50:19.221Z"
   },
   {
    "duration": 3,
    "start_time": "2022-09-20T15:50:40.976Z"
   },
   {
    "duration": 10,
    "start_time": "2022-09-20T15:50:41.688Z"
   },
   {
    "duration": 147,
    "start_time": "2022-09-20T15:50:43.000Z"
   },
   {
    "duration": 3,
    "start_time": "2022-09-20T15:51:30.880Z"
   },
   {
    "duration": 8,
    "start_time": "2022-09-20T15:51:31.332Z"
   },
   {
    "duration": 128,
    "start_time": "2022-09-20T15:51:32.082Z"
   },
   {
    "duration": 119,
    "start_time": "2022-09-20T15:51:53.381Z"
   },
   {
    "duration": 106,
    "start_time": "2022-09-20T15:52:04.452Z"
   },
   {
    "duration": 232,
    "start_time": "2022-09-20T15:52:46.082Z"
   },
   {
    "duration": 6,
    "start_time": "2022-09-20T15:53:33.531Z"
   },
   {
    "duration": 18,
    "start_time": "2022-09-20T15:53:34.390Z"
   },
   {
    "duration": 8,
    "start_time": "2022-09-20T15:53:51.352Z"
   },
   {
    "duration": 18,
    "start_time": "2022-09-20T15:53:51.912Z"
   },
   {
    "duration": 11,
    "start_time": "2022-09-20T15:54:51.103Z"
   },
   {
    "duration": 15,
    "start_time": "2022-09-20T16:10:31.993Z"
   },
   {
    "duration": 7,
    "start_time": "2022-09-20T16:11:12.761Z"
   },
   {
    "duration": 5,
    "start_time": "2022-09-20T16:11:21.089Z"
   },
   {
    "duration": 29,
    "start_time": "2022-09-20T16:12:18.901Z"
   },
   {
    "duration": 23,
    "start_time": "2022-09-20T16:13:13.617Z"
   },
   {
    "duration": 4,
    "start_time": "2022-09-20T17:21:32.764Z"
   },
   {
    "duration": 1224,
    "start_time": "2022-09-20T17:23:16.063Z"
   },
   {
    "duration": 6,
    "start_time": "2022-09-20T17:24:06.235Z"
   },
   {
    "duration": 12,
    "start_time": "2022-09-20T17:24:28.740Z"
   },
   {
    "duration": 4,
    "start_time": "2022-09-20T17:31:38.182Z"
   },
   {
    "duration": 6,
    "start_time": "2022-09-20T17:32:20.335Z"
   },
   {
    "duration": 6,
    "start_time": "2022-09-20T17:32:33.895Z"
   },
   {
    "duration": 17,
    "start_time": "2022-09-20T17:32:50.447Z"
   },
   {
    "duration": 9,
    "start_time": "2022-09-20T17:34:08.431Z"
   },
   {
    "duration": 16,
    "start_time": "2022-09-20T17:34:09.635Z"
   },
   {
    "duration": 7,
    "start_time": "2022-09-20T17:34:23.469Z"
   },
   {
    "duration": 17,
    "start_time": "2022-09-20T17:34:24.198Z"
   },
   {
    "duration": 4,
    "start_time": "2022-09-20T17:34:28.699Z"
   },
   {
    "duration": 15,
    "start_time": "2022-09-20T17:34:34.368Z"
   },
   {
    "duration": 20,
    "start_time": "2022-09-20T17:34:43.236Z"
   },
   {
    "duration": 25,
    "start_time": "2022-09-20T17:53:22.240Z"
   },
   {
    "duration": 171,
    "start_time": "2022-09-20T18:00:21.188Z"
   },
   {
    "duration": 250,
    "start_time": "2022-09-20T18:01:20.786Z"
   },
   {
    "duration": 209,
    "start_time": "2022-09-20T18:03:25.033Z"
   },
   {
    "duration": 467,
    "start_time": "2022-09-20T18:07:34.780Z"
   },
   {
    "duration": 216,
    "start_time": "2022-09-20T18:07:40.938Z"
   },
   {
    "duration": 549,
    "start_time": "2022-09-21T05:30:58.419Z"
   },
   {
    "duration": 17,
    "start_time": "2022-09-21T05:30:58.970Z"
   },
   {
    "duration": 510,
    "start_time": "2022-09-21T05:30:58.989Z"
   },
   {
    "duration": 196,
    "start_time": "2022-09-21T05:30:59.501Z"
   },
   {
    "duration": 4,
    "start_time": "2022-09-21T05:30:59.699Z"
   },
   {
    "duration": 17,
    "start_time": "2022-09-21T05:30:59.704Z"
   },
   {
    "duration": 14,
    "start_time": "2022-09-21T05:30:59.722Z"
   },
   {
    "duration": 5,
    "start_time": "2022-09-21T05:30:59.738Z"
   },
   {
    "duration": 11,
    "start_time": "2022-09-21T05:30:59.744Z"
   },
   {
    "duration": 9,
    "start_time": "2022-09-21T05:30:59.757Z"
   },
   {
    "duration": 11,
    "start_time": "2022-09-21T05:30:59.767Z"
   },
   {
    "duration": 9,
    "start_time": "2022-09-21T05:30:59.779Z"
   },
   {
    "duration": 11,
    "start_time": "2022-09-21T05:30:59.790Z"
   },
   {
    "duration": 7,
    "start_time": "2022-09-21T05:30:59.822Z"
   },
   {
    "duration": 24,
    "start_time": "2022-09-21T05:30:59.831Z"
   },
   {
    "duration": 5,
    "start_time": "2022-09-21T05:30:59.857Z"
   },
   {
    "duration": 572,
    "start_time": "2022-09-21T05:30:59.863Z"
   },
   {
    "duration": 200,
    "start_time": "2022-09-21T05:31:00.437Z"
   },
   {
    "duration": 10,
    "start_time": "2022-09-21T06:00:15.935Z"
   },
   {
    "duration": 129,
    "start_time": "2022-09-21T06:00:59.172Z"
   },
   {
    "duration": 12,
    "start_time": "2022-09-21T06:01:03.902Z"
   },
   {
    "duration": 13,
    "start_time": "2022-09-21T06:01:09.757Z"
   },
   {
    "duration": 9,
    "start_time": "2022-09-21T06:01:23.970Z"
   },
   {
    "duration": 8,
    "start_time": "2022-09-21T06:01:45.921Z"
   },
   {
    "duration": 19,
    "start_time": "2022-09-21T06:03:00.944Z"
   },
   {
    "duration": 14,
    "start_time": "2022-09-21T06:04:11.806Z"
   },
   {
    "duration": 8,
    "start_time": "2022-09-21T06:04:18.771Z"
   },
   {
    "duration": 12,
    "start_time": "2022-09-21T06:05:47.011Z"
   },
   {
    "duration": 509,
    "start_time": "2022-09-21T06:05:53.818Z"
   },
   {
    "duration": 466,
    "start_time": "2022-09-21T06:06:43.806Z"
   },
   {
    "duration": 497,
    "start_time": "2022-09-21T06:06:55.076Z"
   },
   {
    "duration": 218749,
    "start_time": "2022-09-21T06:39:02.039Z"
   },
   {
    "duration": 300,
    "start_time": "2022-09-21T06:47:18.350Z"
   },
   {
    "duration": 321,
    "start_time": "2022-09-21T06:48:27.630Z"
   },
   {
    "duration": 300,
    "start_time": "2022-09-21T06:50:16.482Z"
   },
   {
    "duration": 3,
    "start_time": "2022-09-21T06:51:10.203Z"
   },
   {
    "duration": 255,
    "start_time": "2022-09-21T06:51:13.710Z"
   },
   {
    "duration": 311,
    "start_time": "2022-09-21T06:51:19.972Z"
   },
   {
    "duration": 45,
    "start_time": "2022-09-21T06:52:56.280Z"
   },
   {
    "duration": 44,
    "start_time": "2022-09-21T06:53:01.343Z"
   },
   {
    "duration": 299,
    "start_time": "2022-09-21T06:53:05.531Z"
   },
   {
    "duration": 301,
    "start_time": "2022-09-21T06:55:25.889Z"
   },
   {
    "duration": 64,
    "start_time": "2022-09-21T07:10:08.110Z"
   },
   {
    "duration": 63,
    "start_time": "2022-09-21T07:10:27.541Z"
   },
   {
    "duration": 324,
    "start_time": "2022-09-21T07:11:09.931Z"
   },
   {
    "duration": 1682,
    "start_time": "2022-09-21T07:11:15.253Z"
   },
   {
    "duration": 27,
    "start_time": "2022-09-21T07:12:25.654Z"
   },
   {
    "duration": 164,
    "start_time": "2022-09-21T07:16:39.990Z"
   },
   {
    "duration": 321,
    "start_time": "2022-09-21T07:17:48.480Z"
   },
   {
    "duration": 379,
    "start_time": "2022-09-21T07:18:18.941Z"
   },
   {
    "duration": 327,
    "start_time": "2022-09-21T07:19:02.023Z"
   },
   {
    "duration": 313,
    "start_time": "2022-09-21T07:20:45.188Z"
   },
   {
    "duration": 15,
    "start_time": "2022-09-21T07:21:16.791Z"
   },
   {
    "duration": 216,
    "start_time": "2022-09-21T07:23:08.839Z"
   },
   {
    "duration": 387,
    "start_time": "2022-09-21T07:37:23.148Z"
   },
   {
    "duration": 282,
    "start_time": "2022-09-21T07:39:42.791Z"
   },
   {
    "duration": 298,
    "start_time": "2022-09-21T07:40:04.056Z"
   },
   {
    "duration": 300,
    "start_time": "2022-09-21T07:41:29.650Z"
   },
   {
    "duration": 375,
    "start_time": "2022-09-21T07:42:59.058Z"
   },
   {
    "duration": 146,
    "start_time": "2022-09-21T07:43:27.475Z"
   },
   {
    "duration": 411,
    "start_time": "2022-09-21T07:49:43.175Z"
   },
   {
    "duration": 487,
    "start_time": "2022-09-21T07:50:18.776Z"
   },
   {
    "duration": 408,
    "start_time": "2022-09-21T07:50:45.927Z"
   },
   {
    "duration": 59,
    "start_time": "2022-09-21T07:57:57.249Z"
   },
   {
    "duration": 43,
    "start_time": "2022-09-21T07:58:08.708Z"
   },
   {
    "duration": 44,
    "start_time": "2022-09-21T07:59:14.178Z"
   },
   {
    "duration": 19,
    "start_time": "2022-09-21T07:59:35.235Z"
   },
   {
    "duration": 20,
    "start_time": "2022-09-21T07:59:55.607Z"
   },
   {
    "duration": 19,
    "start_time": "2022-09-21T08:00:05.409Z"
   },
   {
    "duration": 20,
    "start_time": "2022-09-21T08:00:11.905Z"
   },
   {
    "duration": 18,
    "start_time": "2022-09-21T08:00:22.912Z"
   },
   {
    "duration": 19,
    "start_time": "2022-09-21T08:00:38.904Z"
   },
   {
    "duration": 18,
    "start_time": "2022-09-21T08:00:52.819Z"
   },
   {
    "duration": 292,
    "start_time": "2022-09-21T08:06:24.890Z"
   },
   {
    "duration": 454,
    "start_time": "2022-09-21T08:10:12.178Z"
   },
   {
    "duration": 424,
    "start_time": "2022-09-21T08:11:51.159Z"
   },
   {
    "duration": 442,
    "start_time": "2022-09-21T08:12:09.651Z"
   },
   {
    "duration": 145,
    "start_time": "2022-09-21T08:15:30.921Z"
   },
   {
    "duration": 915,
    "start_time": "2022-09-21T08:17:43.360Z"
   },
   {
    "duration": 926,
    "start_time": "2022-09-21T08:18:01.149Z"
   },
   {
    "duration": 937,
    "start_time": "2022-09-21T08:18:14.200Z"
   },
   {
    "duration": 489,
    "start_time": "2022-09-21T08:18:39.541Z"
   },
   {
    "duration": 447,
    "start_time": "2022-09-21T08:18:48.091Z"
   },
   {
    "duration": 153,
    "start_time": "2022-09-21T08:19:05.060Z"
   },
   {
    "duration": 482,
    "start_time": "2022-09-21T08:19:18.423Z"
   },
   {
    "duration": 444,
    "start_time": "2022-09-21T08:19:32.170Z"
   },
   {
    "duration": 473,
    "start_time": "2022-09-21T08:20:14.741Z"
   },
   {
    "duration": 466,
    "start_time": "2022-09-21T08:21:16.027Z"
   },
   {
    "duration": 918,
    "start_time": "2022-09-21T08:23:05.392Z"
   },
   {
    "duration": 539,
    "start_time": "2022-09-21T08:24:08.710Z"
   },
   {
    "duration": 1120,
    "start_time": "2022-09-21T08:26:45.086Z"
   },
   {
    "duration": 51,
    "start_time": "2022-09-21T08:27:19.751Z"
   },
   {
    "duration": 63,
    "start_time": "2022-09-21T08:27:29.141Z"
   },
   {
    "duration": 173,
    "start_time": "2022-09-21T08:27:40.802Z"
   },
   {
    "duration": 388,
    "start_time": "2022-09-21T08:28:04.348Z"
   },
   {
    "duration": 167,
    "start_time": "2022-09-21T08:28:16.991Z"
   },
   {
    "duration": 172,
    "start_time": "2022-09-21T08:28:45.757Z"
   },
   {
    "duration": 366,
    "start_time": "2022-09-21T08:28:54.900Z"
   },
   {
    "duration": 329,
    "start_time": "2022-09-21T08:30:27.120Z"
   },
   {
    "duration": 327,
    "start_time": "2022-09-21T08:30:36.977Z"
   },
   {
    "duration": 874,
    "start_time": "2022-09-21T08:31:00.716Z"
   },
   {
    "duration": 376,
    "start_time": "2022-09-21T08:31:53.708Z"
   },
   {
    "duration": 371,
    "start_time": "2022-09-21T08:32:03.880Z"
   },
   {
    "duration": 362,
    "start_time": "2022-09-21T08:32:25.789Z"
   },
   {
    "duration": 381,
    "start_time": "2022-09-21T08:32:42.419Z"
   },
   {
    "duration": 377,
    "start_time": "2022-09-21T08:33:49.209Z"
   },
   {
    "duration": 377,
    "start_time": "2022-09-21T08:34:14.208Z"
   },
   {
    "duration": 924,
    "start_time": "2022-09-21T08:34:32.441Z"
   },
   {
    "duration": 390,
    "start_time": "2022-09-21T08:35:45.557Z"
   },
   {
    "duration": 375,
    "start_time": "2022-09-21T08:35:59.552Z"
   },
   {
    "duration": 335,
    "start_time": "2022-09-21T08:36:52.161Z"
   },
   {
    "duration": 309,
    "start_time": "2022-09-21T08:37:38.425Z"
   },
   {
    "duration": 500,
    "start_time": "2022-09-21T13:40:12.916Z"
   },
   {
    "duration": 13,
    "start_time": "2022-09-21T13:40:13.417Z"
   },
   {
    "duration": 416,
    "start_time": "2022-09-21T13:40:13.431Z"
   },
   {
    "duration": 165,
    "start_time": "2022-09-21T13:40:13.849Z"
   },
   {
    "duration": 7,
    "start_time": "2022-09-21T13:40:14.015Z"
   },
   {
    "duration": 11,
    "start_time": "2022-09-21T13:40:14.024Z"
   },
   {
    "duration": 8,
    "start_time": "2022-09-21T13:40:14.037Z"
   },
   {
    "duration": 6,
    "start_time": "2022-09-21T13:40:14.046Z"
   },
   {
    "duration": 6,
    "start_time": "2022-09-21T13:40:14.053Z"
   },
   {
    "duration": 5,
    "start_time": "2022-09-21T13:40:14.062Z"
   },
   {
    "duration": 10,
    "start_time": "2022-09-21T13:40:14.068Z"
   },
   {
    "duration": 7,
    "start_time": "2022-09-21T13:40:14.079Z"
   },
   {
    "duration": 38,
    "start_time": "2022-09-21T13:40:14.087Z"
   },
   {
    "duration": 6,
    "start_time": "2022-09-21T13:40:14.126Z"
   },
   {
    "duration": 17,
    "start_time": "2022-09-21T13:40:14.133Z"
   },
   {
    "duration": 4,
    "start_time": "2022-09-21T13:40:14.152Z"
   },
   {
    "duration": 490,
    "start_time": "2022-09-21T13:40:14.157Z"
   },
   {
    "duration": 186,
    "start_time": "2022-09-21T13:40:14.648Z"
   },
   {
    "duration": 265,
    "start_time": "2022-09-21T13:40:14.835Z"
   },
   {
    "duration": 8,
    "start_time": "2022-09-21T13:40:15.102Z"
   },
   {
    "duration": 58,
    "start_time": "2022-09-21T13:48:57.209Z"
   },
   {
    "duration": 279,
    "start_time": "2022-09-21T13:49:03.508Z"
   },
   {
    "duration": 10,
    "start_time": "2022-09-21T14:11:59.150Z"
   },
   {
    "duration": 131,
    "start_time": "2022-09-21T14:19:32.566Z"
   },
   {
    "duration": 209,
    "start_time": "2022-09-21T14:20:01.981Z"
   },
   {
    "duration": 136,
    "start_time": "2022-09-21T14:20:16.366Z"
   },
   {
    "duration": 139,
    "start_time": "2022-09-21T14:20:48.568Z"
   },
   {
    "duration": 148,
    "start_time": "2022-09-21T14:21:32.867Z"
   },
   {
    "duration": 143,
    "start_time": "2022-09-21T14:22:20.457Z"
   },
   {
    "duration": 144,
    "start_time": "2022-09-21T14:25:09.783Z"
   },
   {
    "duration": 149,
    "start_time": "2022-09-21T14:28:09.869Z"
   },
   {
    "duration": 154,
    "start_time": "2022-09-21T14:28:36.807Z"
   },
   {
    "duration": 152,
    "start_time": "2022-09-21T14:28:45.505Z"
   },
   {
    "duration": 12,
    "start_time": "2022-09-21T14:29:09.633Z"
   },
   {
    "duration": 128,
    "start_time": "2022-09-21T14:29:16.103Z"
   },
   {
    "duration": 153,
    "start_time": "2022-09-21T14:29:30.500Z"
   },
   {
    "duration": 147,
    "start_time": "2022-09-21T14:30:10.293Z"
   },
   {
    "duration": 160,
    "start_time": "2022-09-21T14:30:57.493Z"
   },
   {
    "duration": 153,
    "start_time": "2022-09-21T14:31:28.693Z"
   },
   {
    "duration": 10,
    "start_time": "2022-09-21T14:35:31.097Z"
   },
   {
    "duration": 6,
    "start_time": "2022-09-21T15:06:38.525Z"
   },
   {
    "duration": 20,
    "start_time": "2022-09-21T15:06:45.832Z"
   },
   {
    "duration": 233,
    "start_time": "2022-09-21T15:08:19.757Z"
   },
   {
    "duration": 20,
    "start_time": "2022-09-21T15:08:25.451Z"
   },
   {
    "duration": 29,
    "start_time": "2022-09-21T16:54:24.967Z"
   },
   {
    "duration": 693,
    "start_time": "2022-09-21T16:54:58.875Z"
   },
   {
    "duration": 19,
    "start_time": "2022-09-21T16:57:04.142Z"
   },
   {
    "duration": 24,
    "start_time": "2022-09-21T16:57:17.837Z"
   },
   {
    "duration": 17,
    "start_time": "2022-09-21T16:57:44.767Z"
   },
   {
    "duration": 18,
    "start_time": "2022-09-21T16:57:52.046Z"
   },
   {
    "duration": 20,
    "start_time": "2022-09-21T16:58:18.848Z"
   },
   {
    "duration": 27,
    "start_time": "2022-09-21T16:58:24.406Z"
   },
   {
    "duration": 25,
    "start_time": "2022-09-21T16:58:37.057Z"
   },
   {
    "duration": 389,
    "start_time": "2022-09-21T16:59:37.257Z"
   },
   {
    "duration": 399,
    "start_time": "2022-09-21T17:03:42.869Z"
   },
   {
    "duration": 905,
    "start_time": "2022-09-21T17:04:01.805Z"
   },
   {
    "duration": 23,
    "start_time": "2022-09-21T17:05:01.929Z"
   },
   {
    "duration": 850,
    "start_time": "2022-09-21T17:05:21.956Z"
   },
   {
    "duration": 835,
    "start_time": "2022-09-21T17:05:30.559Z"
   },
   {
    "duration": 2298,
    "start_time": "2022-09-21T17:09:54.584Z"
   },
   {
    "duration": 2369,
    "start_time": "2022-09-21T17:10:52.644Z"
   },
   {
    "duration": 2773,
    "start_time": "2022-09-21T17:11:03.184Z"
   },
   {
    "duration": 6,
    "start_time": "2022-09-21T17:14:02.994Z"
   },
   {
    "duration": 906,
    "start_time": "2022-09-21T17:14:06.096Z"
   },
   {
    "duration": 2021,
    "start_time": "2022-09-21T17:14:19.325Z"
   },
   {
    "duration": 1624,
    "start_time": "2022-09-21T17:14:46.841Z"
   },
   {
    "duration": 1637,
    "start_time": "2022-09-21T17:14:59.627Z"
   },
   {
    "duration": 1607,
    "start_time": "2022-09-21T17:15:18.745Z"
   },
   {
    "duration": 1625,
    "start_time": "2022-09-21T17:18:19.106Z"
   },
   {
    "duration": 286,
    "start_time": "2022-09-21T17:20:28.174Z"
   },
   {
    "duration": 1592,
    "start_time": "2022-09-21T17:21:10.775Z"
   },
   {
    "duration": 609,
    "start_time": "2022-09-21T17:21:43.403Z"
   },
   {
    "duration": 1694,
    "start_time": "2022-09-21T17:27:58.834Z"
   },
   {
    "duration": 23,
    "start_time": "2022-09-21T17:32:52.084Z"
   },
   {
    "duration": 644,
    "start_time": "2022-09-21T17:33:09.265Z"
   },
   {
    "duration": 650,
    "start_time": "2022-09-21T17:33:17.603Z"
   },
   {
    "duration": 675,
    "start_time": "2022-09-21T17:33:34.581Z"
   },
   {
    "duration": 640,
    "start_time": "2022-09-21T17:36:13.407Z"
   },
   {
    "duration": 22,
    "start_time": "2022-09-21T17:36:23.782Z"
   },
   {
    "duration": 654,
    "start_time": "2022-09-21T17:37:06.799Z"
   },
   {
    "duration": 126,
    "start_time": "2022-09-21T17:38:28.163Z"
   },
   {
    "duration": 671,
    "start_time": "2022-09-21T17:40:15.065Z"
   },
   {
    "duration": 636,
    "start_time": "2022-09-21T17:40:24.428Z"
   },
   {
    "duration": 647,
    "start_time": "2022-09-21T17:44:46.957Z"
   },
   {
    "duration": 626,
    "start_time": "2022-09-21T17:44:54.242Z"
   },
   {
    "duration": 693,
    "start_time": "2022-09-21T17:46:06.987Z"
   },
   {
    "duration": 660,
    "start_time": "2022-09-21T17:46:37.458Z"
   },
   {
    "duration": 663,
    "start_time": "2022-09-21T17:47:02.265Z"
   },
   {
    "duration": 657,
    "start_time": "2022-09-21T17:47:14.134Z"
   },
   {
    "duration": 369,
    "start_time": "2022-09-21T18:33:14.367Z"
   },
   {
    "duration": 387,
    "start_time": "2022-09-21T18:36:55.336Z"
   },
   {
    "duration": 368,
    "start_time": "2022-09-21T18:42:55.358Z"
   },
   {
    "duration": 1056,
    "start_time": "2022-09-21T18:44:45.598Z"
   },
   {
    "duration": 103,
    "start_time": "2022-09-21T18:45:42.956Z"
   },
   {
    "duration": 127,
    "start_time": "2022-09-21T18:48:30.867Z"
   },
   {
    "duration": 124,
    "start_time": "2022-09-21T18:49:36.408Z"
   },
   {
    "duration": 218,
    "start_time": "2022-09-21T18:50:09.947Z"
   },
   {
    "duration": 230,
    "start_time": "2022-09-21T18:50:41.137Z"
   },
   {
    "duration": 263,
    "start_time": "2022-09-21T18:50:52.995Z"
   },
   {
    "duration": 265,
    "start_time": "2022-09-21T18:51:10.125Z"
   },
   {
    "duration": 258,
    "start_time": "2022-09-21T18:51:35.898Z"
   },
   {
    "duration": 411,
    "start_time": "2022-09-21T18:52:14.165Z"
   },
   {
    "duration": 432,
    "start_time": "2022-09-21T18:52:28.008Z"
   },
   {
    "duration": 471,
    "start_time": "2022-09-21T18:52:35.187Z"
   },
   {
    "duration": 474,
    "start_time": "2022-09-21T18:52:45.736Z"
   },
   {
    "duration": 419,
    "start_time": "2022-09-21T18:52:56.756Z"
   },
   {
    "duration": 7,
    "start_time": "2022-09-21T19:16:40.344Z"
   },
   {
    "duration": 18,
    "start_time": "2022-09-21T19:17:09.774Z"
   },
   {
    "duration": 147,
    "start_time": "2022-09-21T19:51:40.272Z"
   },
   {
    "duration": 159,
    "start_time": "2022-09-21T19:52:01.159Z"
   },
   {
    "duration": 665,
    "start_time": "2022-09-21T19:58:32.734Z"
   },
   {
    "duration": 152,
    "start_time": "2022-09-21T19:59:20.114Z"
   },
   {
    "duration": 163,
    "start_time": "2022-09-21T20:03:36.296Z"
   },
   {
    "duration": 166,
    "start_time": "2022-09-21T20:05:01.082Z"
   },
   {
    "duration": 167,
    "start_time": "2022-09-21T20:05:12.952Z"
   },
   {
    "duration": 684,
    "start_time": "2022-09-21T20:05:33.831Z"
   },
   {
    "duration": 656,
    "start_time": "2022-09-21T20:06:19.131Z"
   },
   {
    "duration": 49,
    "start_time": "2022-09-21T20:12:32.488Z"
   },
   {
    "duration": 1112,
    "start_time": "2022-09-21T20:12:54.778Z"
   },
   {
    "duration": 7,
    "start_time": "2022-09-21T20:13:19.723Z"
   },
   {
    "duration": 498,
    "start_time": "2022-09-22T06:05:11.034Z"
   },
   {
    "duration": 15,
    "start_time": "2022-09-22T06:05:11.536Z"
   },
   {
    "duration": 517,
    "start_time": "2022-09-22T06:05:11.553Z"
   },
   {
    "duration": 203,
    "start_time": "2022-09-22T06:05:12.072Z"
   },
   {
    "duration": 4,
    "start_time": "2022-09-22T06:05:12.277Z"
   },
   {
    "duration": 30,
    "start_time": "2022-09-22T06:05:12.283Z"
   },
   {
    "duration": 12,
    "start_time": "2022-09-22T06:05:12.315Z"
   },
   {
    "duration": 9,
    "start_time": "2022-09-22T06:05:12.328Z"
   },
   {
    "duration": 7,
    "start_time": "2022-09-22T06:05:12.338Z"
   },
   {
    "duration": 6,
    "start_time": "2022-09-22T06:05:12.346Z"
   },
   {
    "duration": 7,
    "start_time": "2022-09-22T06:05:12.354Z"
   },
   {
    "duration": 18,
    "start_time": "2022-09-22T06:05:12.363Z"
   },
   {
    "duration": 11,
    "start_time": "2022-09-22T06:05:37.007Z"
   },
   {
    "duration": 8,
    "start_time": "2022-09-22T06:06:01.301Z"
   },
   {
    "duration": 220,
    "start_time": "2022-09-22T06:06:51.545Z"
   },
   {
    "duration": 1601,
    "start_time": "2022-09-22T06:07:30.889Z"
   },
   {
    "duration": 9,
    "start_time": "2022-09-22T06:08:14.893Z"
   },
   {
    "duration": 65,
    "start_time": "2022-09-22T06:08:22.068Z"
   },
   {
    "duration": 13,
    "start_time": "2022-09-22T06:08:22.135Z"
   },
   {
    "duration": 17,
    "start_time": "2022-09-22T06:08:22.150Z"
   },
   {
    "duration": 169,
    "start_time": "2022-09-22T06:08:22.169Z"
   },
   {
    "duration": 3,
    "start_time": "2022-09-22T06:08:22.341Z"
   },
   {
    "duration": 10,
    "start_time": "2022-09-22T06:08:22.346Z"
   },
   {
    "duration": 28,
    "start_time": "2022-09-22T06:08:22.357Z"
   },
   {
    "duration": 6,
    "start_time": "2022-09-22T06:08:22.388Z"
   },
   {
    "duration": 12,
    "start_time": "2022-09-22T06:08:22.396Z"
   },
   {
    "duration": 6,
    "start_time": "2022-09-22T06:08:22.410Z"
   },
   {
    "duration": 7,
    "start_time": "2022-09-22T06:08:22.417Z"
   },
   {
    "duration": 7,
    "start_time": "2022-09-22T06:08:22.426Z"
   },
   {
    "duration": 10,
    "start_time": "2022-09-22T06:08:27.428Z"
   },
   {
    "duration": 76,
    "start_time": "2022-09-22T06:09:09.129Z"
   },
   {
    "duration": 60,
    "start_time": "2022-09-22T06:09:22.402Z"
   },
   {
    "duration": 14,
    "start_time": "2022-09-22T06:09:22.464Z"
   },
   {
    "duration": 16,
    "start_time": "2022-09-22T06:09:22.486Z"
   },
   {
    "duration": 221,
    "start_time": "2022-09-22T06:09:22.504Z"
   },
   {
    "duration": 3,
    "start_time": "2022-09-22T06:09:22.727Z"
   },
   {
    "duration": 10,
    "start_time": "2022-09-22T06:09:22.732Z"
   },
   {
    "duration": 6,
    "start_time": "2022-09-22T06:09:22.744Z"
   },
   {
    "duration": 6,
    "start_time": "2022-09-22T06:09:22.752Z"
   },
   {
    "duration": 31,
    "start_time": "2022-09-22T06:09:22.759Z"
   },
   {
    "duration": 6,
    "start_time": "2022-09-22T06:09:22.792Z"
   },
   {
    "duration": 7,
    "start_time": "2022-09-22T06:09:22.799Z"
   },
   {
    "duration": 6,
    "start_time": "2022-09-22T06:09:22.807Z"
   },
   {
    "duration": 16,
    "start_time": "2022-09-22T06:09:22.815Z"
   },
   {
    "duration": 435,
    "start_time": "2022-09-22T06:13:29.917Z"
   },
   {
    "duration": 13,
    "start_time": "2022-09-22T06:13:30.354Z"
   },
   {
    "duration": 325,
    "start_time": "2022-09-22T06:13:30.368Z"
   },
   {
    "duration": 197,
    "start_time": "2022-09-22T06:13:30.696Z"
   },
   {
    "duration": 3,
    "start_time": "2022-09-22T06:13:30.895Z"
   },
   {
    "duration": 29,
    "start_time": "2022-09-22T06:13:30.900Z"
   },
   {
    "duration": 18,
    "start_time": "2022-09-22T06:13:30.930Z"
   },
   {
    "duration": 18,
    "start_time": "2022-09-22T06:13:30.950Z"
   },
   {
    "duration": 34,
    "start_time": "2022-09-22T06:13:30.970Z"
   },
   {
    "duration": 22,
    "start_time": "2022-09-22T06:13:31.008Z"
   },
   {
    "duration": 27,
    "start_time": "2022-09-22T06:13:31.032Z"
   },
   {
    "duration": 43,
    "start_time": "2022-09-22T06:13:31.061Z"
   },
   {
    "duration": 34,
    "start_time": "2022-09-22T06:13:31.106Z"
   },
   {
    "duration": 43,
    "start_time": "2022-09-22T06:13:31.141Z"
   },
   {
    "duration": 31,
    "start_time": "2022-09-22T06:13:31.186Z"
   },
   {
    "duration": 9,
    "start_time": "2022-09-22T06:13:31.219Z"
   },
   {
    "duration": 508,
    "start_time": "2022-09-22T06:13:31.230Z"
   },
   {
    "duration": 199,
    "start_time": "2022-09-22T06:13:31.740Z"
   },
   {
    "duration": 313,
    "start_time": "2022-09-22T06:13:31.940Z"
   },
   {
    "duration": 171,
    "start_time": "2022-09-22T06:13:32.255Z"
   },
   {
    "duration": 6,
    "start_time": "2022-09-22T06:13:32.427Z"
   },
   {
    "duration": 741,
    "start_time": "2022-09-22T06:13:32.434Z"
   },
   {
    "duration": 521,
    "start_time": "2022-09-22T06:13:33.179Z"
   },
   {
    "duration": 5,
    "start_time": "2022-09-22T06:13:33.702Z"
   },
   {
    "duration": 176,
    "start_time": "2022-09-22T06:13:33.709Z"
   },
   {
    "duration": 5,
    "start_time": "2022-09-22T06:14:26.702Z"
   },
   {
    "duration": 5,
    "start_time": "2022-09-22T06:15:02.618Z"
   },
   {
    "duration": 177,
    "start_time": "2022-09-22T06:15:23.445Z"
   },
   {
    "duration": 64,
    "start_time": "2022-09-22T06:15:36.541Z"
   },
   {
    "duration": 12,
    "start_time": "2022-09-22T06:15:36.607Z"
   },
   {
    "duration": 22,
    "start_time": "2022-09-22T06:15:36.621Z"
   },
   {
    "duration": 201,
    "start_time": "2022-09-22T06:15:36.645Z"
   },
   {
    "duration": 3,
    "start_time": "2022-09-22T06:15:36.848Z"
   },
   {
    "duration": 21,
    "start_time": "2022-09-22T06:15:36.853Z"
   },
   {
    "duration": 22,
    "start_time": "2022-09-22T06:15:36.876Z"
   },
   {
    "duration": 5,
    "start_time": "2022-09-22T06:15:36.900Z"
   },
   {
    "duration": 21,
    "start_time": "2022-09-22T06:15:36.906Z"
   },
   {
    "duration": 30,
    "start_time": "2022-09-22T06:15:36.929Z"
   },
   {
    "duration": 34,
    "start_time": "2022-09-22T06:15:36.961Z"
   },
   {
    "duration": 38,
    "start_time": "2022-09-22T06:15:36.997Z"
   },
   {
    "duration": 39,
    "start_time": "2022-09-22T06:15:37.037Z"
   },
   {
    "duration": 36,
    "start_time": "2022-09-22T06:15:37.079Z"
   },
   {
    "duration": 55,
    "start_time": "2022-09-22T06:15:37.116Z"
   },
   {
    "duration": 47,
    "start_time": "2022-09-22T06:15:37.172Z"
   },
   {
    "duration": 13,
    "start_time": "2022-09-22T06:15:37.220Z"
   },
   {
    "duration": 229,
    "start_time": "2022-09-22T06:15:37.235Z"
   },
   {
    "duration": 317,
    "start_time": "2022-09-22T06:15:37.466Z"
   },
   {
    "duration": 179,
    "start_time": "2022-09-22T06:15:37.785Z"
   },
   {
    "duration": 22,
    "start_time": "2022-09-22T06:15:37.967Z"
   },
   {
    "duration": 740,
    "start_time": "2022-09-22T06:15:37.991Z"
   },
   {
    "duration": 575,
    "start_time": "2022-09-22T06:15:38.733Z"
   },
   {
    "duration": 7,
    "start_time": "2022-09-22T06:15:39.310Z"
   },
   {
    "duration": 173,
    "start_time": "2022-09-22T06:15:44.272Z"
   },
   {
    "duration": 175,
    "start_time": "2022-09-22T06:18:18.932Z"
   },
   {
    "duration": 59,
    "start_time": "2022-09-22T06:18:32.389Z"
   },
   {
    "duration": 184,
    "start_time": "2022-09-22T06:18:38.390Z"
   },
   {
    "duration": 172,
    "start_time": "2022-09-22T06:21:59.793Z"
   },
   {
    "duration": 176,
    "start_time": "2022-09-22T06:22:20.318Z"
   },
   {
    "duration": 188,
    "start_time": "2022-09-22T06:22:30.022Z"
   },
   {
    "duration": 263,
    "start_time": "2022-09-22T06:23:50.110Z"
   },
   {
    "duration": 254,
    "start_time": "2022-09-22T06:24:25.764Z"
   },
   {
    "duration": 496,
    "start_time": "2022-09-22T06:25:06.091Z"
   },
   {
    "duration": 408,
    "start_time": "2022-09-22T06:25:32.360Z"
   },
   {
    "duration": 334,
    "start_time": "2022-09-22T06:26:15.673Z"
   },
   {
    "duration": 320,
    "start_time": "2022-09-22T06:26:32.948Z"
   },
   {
    "duration": 329,
    "start_time": "2022-09-22T06:26:42.630Z"
   },
   {
    "duration": 331,
    "start_time": "2022-09-22T06:26:58.367Z"
   },
   {
    "duration": 490,
    "start_time": "2022-09-22T06:27:25.501Z"
   },
   {
    "duration": 16,
    "start_time": "2022-09-22T06:27:25.994Z"
   },
   {
    "duration": 300,
    "start_time": "2022-09-22T06:27:26.012Z"
   },
   {
    "duration": 188,
    "start_time": "2022-09-22T06:27:26.314Z"
   },
   {
    "duration": 3,
    "start_time": "2022-09-22T06:27:26.504Z"
   },
   {
    "duration": 9,
    "start_time": "2022-09-22T06:27:26.508Z"
   },
   {
    "duration": 8,
    "start_time": "2022-09-22T06:27:26.518Z"
   },
   {
    "duration": 10,
    "start_time": "2022-09-22T06:27:26.528Z"
   },
   {
    "duration": 17,
    "start_time": "2022-09-22T06:27:26.540Z"
   },
   {
    "duration": 9,
    "start_time": "2022-09-22T06:27:26.576Z"
   },
   {
    "duration": 19,
    "start_time": "2022-09-22T06:27:26.586Z"
   },
   {
    "duration": 12,
    "start_time": "2022-09-22T06:27:26.607Z"
   },
   {
    "duration": 12,
    "start_time": "2022-09-22T06:27:26.620Z"
   },
   {
    "duration": 11,
    "start_time": "2022-09-22T06:27:26.633Z"
   },
   {
    "duration": 14,
    "start_time": "2022-09-22T06:27:26.645Z"
   },
   {
    "duration": 5,
    "start_time": "2022-09-22T06:27:26.660Z"
   },
   {
    "duration": 542,
    "start_time": "2022-09-22T06:27:26.666Z"
   },
   {
    "duration": 215,
    "start_time": "2022-09-22T06:27:27.210Z"
   },
   {
    "duration": 329,
    "start_time": "2022-09-22T06:27:27.427Z"
   },
   {
    "duration": 182,
    "start_time": "2022-09-22T06:27:27.758Z"
   },
   {
    "duration": 6,
    "start_time": "2022-09-22T06:27:27.942Z"
   },
   {
    "duration": 756,
    "start_time": "2022-09-22T06:27:27.950Z"
   },
   {
    "duration": 519,
    "start_time": "2022-09-22T06:27:28.708Z"
   },
   {
    "duration": 6,
    "start_time": "2022-09-22T06:27:29.229Z"
   },
   {
    "duration": 355,
    "start_time": "2022-09-22T06:27:29.236Z"
   },
   {
    "duration": 291,
    "start_time": "2022-09-22T06:30:34.845Z"
   },
   {
    "duration": 256,
    "start_time": "2022-09-22T06:32:50.516Z"
   },
   {
    "duration": 251,
    "start_time": "2022-09-22T06:33:06.309Z"
   },
   {
    "duration": 235,
    "start_time": "2022-09-22T06:33:19.213Z"
   },
   {
    "duration": 256,
    "start_time": "2022-09-22T06:35:47.364Z"
   },
   {
    "duration": 261,
    "start_time": "2022-09-22T06:36:05.456Z"
   },
   {
    "duration": 292,
    "start_time": "2022-09-22T06:36:16.157Z"
   },
   {
    "duration": 236,
    "start_time": "2022-09-22T06:39:47.338Z"
   },
   {
    "duration": 242,
    "start_time": "2022-09-22T06:39:54.189Z"
   },
   {
    "duration": 238,
    "start_time": "2022-09-22T06:39:59.027Z"
   },
   {
    "duration": 244,
    "start_time": "2022-09-22T07:09:13.055Z"
   },
   {
    "duration": 193,
    "start_time": "2022-09-22T07:09:29.675Z"
   },
   {
    "duration": 198,
    "start_time": "2022-09-22T07:09:55.442Z"
   },
   {
    "duration": 227,
    "start_time": "2022-09-22T07:11:35.093Z"
   },
   {
    "duration": 193,
    "start_time": "2022-09-22T07:11:53.069Z"
   },
   {
    "duration": 243,
    "start_time": "2022-09-22T07:11:57.228Z"
   },
   {
    "duration": 207,
    "start_time": "2022-09-22T07:12:04.502Z"
   },
   {
    "duration": 188,
    "start_time": "2022-09-22T07:12:34.332Z"
   },
   {
    "duration": 250,
    "start_time": "2022-09-22T07:13:49.678Z"
   },
   {
    "duration": 293,
    "start_time": "2022-09-22T07:14:05.176Z"
   },
   {
    "duration": 235,
    "start_time": "2022-09-22T07:14:09.390Z"
   },
   {
    "duration": 555,
    "start_time": "2022-09-22T07:15:15.949Z"
   },
   {
    "duration": 385,
    "start_time": "2022-09-22T07:15:36.936Z"
   },
   {
    "duration": 285,
    "start_time": "2022-09-22T07:16:23.626Z"
   },
   {
    "duration": 331,
    "start_time": "2022-09-22T07:16:45.247Z"
   },
   {
    "duration": 326,
    "start_time": "2022-09-22T07:17:07.552Z"
   },
   {
    "duration": 288,
    "start_time": "2022-09-22T07:17:19.613Z"
   },
   {
    "duration": 330,
    "start_time": "2022-09-22T07:32:12.211Z"
   },
   {
    "duration": 74,
    "start_time": "2022-09-22T07:32:57.089Z"
   },
   {
    "duration": 310,
    "start_time": "2022-09-22T07:33:01.930Z"
   },
   {
    "duration": 328,
    "start_time": "2022-09-22T07:34:29.670Z"
   },
   {
    "duration": 309,
    "start_time": "2022-09-22T07:34:53.730Z"
   },
   {
    "duration": 342,
    "start_time": "2022-09-22T07:35:50.295Z"
   },
   {
    "duration": 421,
    "start_time": "2022-09-22T07:36:39.650Z"
   },
   {
    "duration": 268,
    "start_time": "2022-09-22T07:37:06.622Z"
   },
   {
    "duration": 261,
    "start_time": "2022-09-22T07:37:27.619Z"
   },
   {
    "duration": 339,
    "start_time": "2022-09-22T07:37:51.572Z"
   },
   {
    "duration": 14,
    "start_time": "2022-09-22T08:27:36.909Z"
   },
   {
    "duration": 10,
    "start_time": "2022-09-22T08:27:58.246Z"
   },
   {
    "duration": 1328,
    "start_time": "2022-09-22T08:29:05.242Z"
   },
   {
    "duration": 9,
    "start_time": "2022-09-22T08:29:20.139Z"
   },
   {
    "duration": 12,
    "start_time": "2022-09-22T08:29:57.337Z"
   },
   {
    "duration": 9,
    "start_time": "2022-09-22T08:30:15.114Z"
   },
   {
    "duration": 10,
    "start_time": "2022-09-22T08:30:23.037Z"
   },
   {
    "duration": 7,
    "start_time": "2022-09-22T08:31:37.590Z"
   },
   {
    "duration": 9,
    "start_time": "2022-09-22T08:31:38.237Z"
   },
   {
    "duration": 22,
    "start_time": "2022-09-22T08:32:28.792Z"
   },
   {
    "duration": 13,
    "start_time": "2022-09-22T08:32:43.401Z"
   },
   {
    "duration": 18,
    "start_time": "2022-09-22T08:32:48.667Z"
   },
   {
    "duration": 24,
    "start_time": "2022-09-22T08:33:00.882Z"
   },
   {
    "duration": 15,
    "start_time": "2022-09-22T08:33:11.892Z"
   },
   {
    "duration": 15,
    "start_time": "2022-09-22T08:33:16.116Z"
   },
   {
    "duration": 14,
    "start_time": "2022-09-22T08:33:23.660Z"
   },
   {
    "duration": 14,
    "start_time": "2022-09-22T08:33:28.349Z"
   },
   {
    "duration": 19,
    "start_time": "2022-09-22T08:33:36.644Z"
   },
   {
    "duration": 16,
    "start_time": "2022-09-22T08:33:48.591Z"
   },
   {
    "duration": 16,
    "start_time": "2022-09-22T08:33:55.490Z"
   },
   {
    "duration": 18,
    "start_time": "2022-09-22T08:34:00.627Z"
   },
   {
    "duration": 14,
    "start_time": "2022-09-22T08:34:23.844Z"
   },
   {
    "duration": 14,
    "start_time": "2022-09-22T08:34:29.997Z"
   },
   {
    "duration": 16,
    "start_time": "2022-09-22T08:34:34.305Z"
   },
   {
    "duration": 14,
    "start_time": "2022-09-22T08:34:40.209Z"
   },
   {
    "duration": 16,
    "start_time": "2022-09-22T08:34:44.345Z"
   },
   {
    "duration": 15,
    "start_time": "2022-09-22T08:34:54.352Z"
   },
   {
    "duration": 19,
    "start_time": "2022-09-22T08:35:12.746Z"
   },
   {
    "duration": 16,
    "start_time": "2022-09-22T08:35:29.863Z"
   },
   {
    "duration": 23,
    "start_time": "2022-09-22T08:35:34.772Z"
   },
   {
    "duration": 16,
    "start_time": "2022-09-22T08:35:39.463Z"
   },
   {
    "duration": 19,
    "start_time": "2022-09-22T08:35:47.241Z"
   },
   {
    "duration": 24,
    "start_time": "2022-09-22T08:36:00.373Z"
   },
   {
    "duration": 14,
    "start_time": "2022-09-22T08:36:11.801Z"
   },
   {
    "duration": 14,
    "start_time": "2022-09-22T08:36:16.642Z"
   },
   {
    "duration": 16,
    "start_time": "2022-09-22T08:38:24.830Z"
   },
   {
    "duration": 17,
    "start_time": "2022-09-22T08:39:04.885Z"
   },
   {
    "duration": 339,
    "start_time": "2022-09-22T08:52:24.846Z"
   },
   {
    "duration": 17,
    "start_time": "2022-09-22T08:52:43.088Z"
   },
   {
    "duration": 20,
    "start_time": "2022-09-22T08:52:51.069Z"
   },
   {
    "duration": 352,
    "start_time": "2022-09-22T08:53:01.888Z"
   },
   {
    "duration": 382,
    "start_time": "2022-09-22T08:53:11.149Z"
   },
   {
    "duration": 474,
    "start_time": "2022-09-22T09:37:30.446Z"
   },
   {
    "duration": 463,
    "start_time": "2022-09-22T09:37:45.751Z"
   },
   {
    "duration": 59,
    "start_time": "2022-09-22T09:37:51.835Z"
   },
   {
    "duration": 440,
    "start_time": "2022-09-22T09:38:03.553Z"
   },
   {
    "duration": 452,
    "start_time": "2022-09-22T09:38:49.362Z"
   },
   {
    "duration": 439,
    "start_time": "2022-09-22T09:39:04.339Z"
   },
   {
    "duration": 451,
    "start_time": "2022-09-22T09:39:09.842Z"
   },
   {
    "duration": 399,
    "start_time": "2022-09-22T09:42:40.805Z"
   },
   {
    "duration": 896,
    "start_time": "2022-09-22T09:42:51.145Z"
   },
   {
    "duration": 446,
    "start_time": "2022-09-22T09:43:14.931Z"
   },
   {
    "duration": 444,
    "start_time": "2022-09-22T09:44:19.528Z"
   },
   {
    "duration": 138,
    "start_time": "2022-09-22T09:44:32.442Z"
   },
   {
    "duration": 130,
    "start_time": "2022-09-22T09:44:44.137Z"
   },
   {
    "duration": 440,
    "start_time": "2022-09-22T09:46:44.620Z"
   },
   {
    "duration": 408,
    "start_time": "2022-09-22T09:47:23.590Z"
   },
   {
    "duration": 445,
    "start_time": "2022-09-22T09:48:48.420Z"
   },
   {
    "duration": 67,
    "start_time": "2022-09-22T09:51:20.515Z"
   },
   {
    "duration": 14,
    "start_time": "2022-09-22T09:51:20.585Z"
   },
   {
    "duration": 24,
    "start_time": "2022-09-22T09:51:20.600Z"
   },
   {
    "duration": 193,
    "start_time": "2022-09-22T09:51:20.626Z"
   },
   {
    "duration": 3,
    "start_time": "2022-09-22T09:51:20.821Z"
   },
   {
    "duration": 38,
    "start_time": "2022-09-22T09:51:20.826Z"
   },
   {
    "duration": 21,
    "start_time": "2022-09-22T09:51:20.866Z"
   },
   {
    "duration": 16,
    "start_time": "2022-09-22T09:51:20.889Z"
   },
   {
    "duration": 8,
    "start_time": "2022-09-22T09:51:20.906Z"
   },
   {
    "duration": 26,
    "start_time": "2022-09-22T09:51:20.916Z"
   },
   {
    "duration": 31,
    "start_time": "2022-09-22T09:51:20.943Z"
   },
   {
    "duration": 14,
    "start_time": "2022-09-22T09:51:20.976Z"
   },
   {
    "duration": 35,
    "start_time": "2022-09-22T09:51:20.992Z"
   },
   {
    "duration": 20,
    "start_time": "2022-09-22T09:51:21.030Z"
   },
   {
    "duration": 29,
    "start_time": "2022-09-22T09:51:21.052Z"
   },
   {
    "duration": 19,
    "start_time": "2022-09-22T09:51:21.083Z"
   },
   {
    "duration": 12,
    "start_time": "2022-09-22T09:51:21.103Z"
   },
   {
    "duration": 235,
    "start_time": "2022-09-22T09:51:21.117Z"
   },
   {
    "duration": 321,
    "start_time": "2022-09-22T09:51:21.354Z"
   },
   {
    "duration": 178,
    "start_time": "2022-09-22T09:51:21.677Z"
   },
   {
    "duration": 6,
    "start_time": "2022-09-22T09:51:21.857Z"
   },
   {
    "duration": 722,
    "start_time": "2022-09-22T09:51:21.864Z"
   },
   {
    "duration": 414,
    "start_time": "2022-09-22T09:51:22.588Z"
   },
   {
    "duration": 5,
    "start_time": "2022-09-22T09:51:23.004Z"
   },
   {
    "duration": 338,
    "start_time": "2022-09-22T09:51:23.011Z"
   },
   {
    "duration": 26,
    "start_time": "2022-09-22T09:51:23.351Z"
   },
   {
    "duration": 8,
    "start_time": "2022-09-22T10:03:07.219Z"
   },
   {
    "duration": 8,
    "start_time": "2022-09-22T10:03:21.913Z"
   },
   {
    "duration": 8,
    "start_time": "2022-09-22T10:03:34.188Z"
   },
   {
    "duration": 7,
    "start_time": "2022-09-22T10:03:40.097Z"
   },
   {
    "duration": 8,
    "start_time": "2022-09-22T10:05:48.199Z"
   },
   {
    "duration": 8,
    "start_time": "2022-09-22T10:06:15.203Z"
   },
   {
    "duration": 5,
    "start_time": "2022-09-22T10:10:08.336Z"
   },
   {
    "duration": 7,
    "start_time": "2022-09-22T10:12:11.035Z"
   },
   {
    "duration": 154,
    "start_time": "2022-09-22T10:12:20.741Z"
   },
   {
    "duration": 13,
    "start_time": "2022-09-22T10:12:45.257Z"
   },
   {
    "duration": 135,
    "start_time": "2022-09-22T10:12:54.528Z"
   },
   {
    "duration": 190,
    "start_time": "2022-09-22T10:13:12.478Z"
   },
   {
    "duration": 124,
    "start_time": "2022-09-22T10:13:23.234Z"
   },
   {
    "duration": 158,
    "start_time": "2022-09-22T10:13:35.316Z"
   },
   {
    "duration": 192,
    "start_time": "2022-09-22T10:13:40.710Z"
   },
   {
    "duration": 606,
    "start_time": "2022-09-22T10:14:26.514Z"
   },
   {
    "duration": 187,
    "start_time": "2022-09-22T10:14:32.070Z"
   },
   {
    "duration": 179,
    "start_time": "2022-09-22T10:14:44.164Z"
   },
   {
    "duration": 182,
    "start_time": "2022-09-22T10:14:58.428Z"
   },
   {
    "duration": 148,
    "start_time": "2022-09-22T10:19:52.353Z"
   },
   {
    "duration": 137,
    "start_time": "2022-09-22T10:20:05.901Z"
   },
   {
    "duration": 153,
    "start_time": "2022-09-22T10:21:18.723Z"
   },
   {
    "duration": 163,
    "start_time": "2022-09-22T10:21:41.238Z"
   },
   {
    "duration": 128,
    "start_time": "2022-09-22T10:21:59.196Z"
   },
   {
    "duration": 142,
    "start_time": "2022-09-22T10:22:10.958Z"
   },
   {
    "duration": 207,
    "start_time": "2022-09-22T10:24:32.425Z"
   },
   {
    "duration": 185,
    "start_time": "2022-09-22T10:24:42.166Z"
   },
   {
    "duration": 204,
    "start_time": "2022-09-22T10:25:58.397Z"
   },
   {
    "duration": 193,
    "start_time": "2022-09-22T10:26:13.292Z"
   },
   {
    "duration": 178,
    "start_time": "2022-09-22T10:26:38.152Z"
   },
   {
    "duration": 188,
    "start_time": "2022-09-22T10:27:13.049Z"
   },
   {
    "duration": 85,
    "start_time": "2022-09-22T10:29:05.296Z"
   },
   {
    "duration": 93,
    "start_time": "2022-09-22T10:29:19.920Z"
   },
   {
    "duration": 158,
    "start_time": "2022-09-22T10:29:25.135Z"
   },
   {
    "duration": 13,
    "start_time": "2022-09-22T10:30:00.586Z"
   },
   {
    "duration": 182,
    "start_time": "2022-09-22T10:30:39.301Z"
   },
   {
    "duration": 191,
    "start_time": "2022-09-22T10:31:07.217Z"
   },
   {
    "duration": 142,
    "start_time": "2022-09-22T10:31:30.700Z"
   },
   {
    "duration": 130,
    "start_time": "2022-09-22T10:31:37.668Z"
   },
   {
    "duration": 142,
    "start_time": "2022-09-22T10:32:01.475Z"
   },
   {
    "duration": 131,
    "start_time": "2022-09-22T10:32:13.902Z"
   },
   {
    "duration": 178,
    "start_time": "2022-09-22T10:33:40.729Z"
   },
   {
    "duration": 133,
    "start_time": "2022-09-22T10:37:38.393Z"
   },
   {
    "duration": 185,
    "start_time": "2022-09-22T10:37:58.843Z"
   },
   {
    "duration": 184,
    "start_time": "2022-09-22T10:38:09.576Z"
   },
   {
    "duration": 458,
    "start_time": "2022-09-22T14:49:49.957Z"
   },
   {
    "duration": 13,
    "start_time": "2022-09-22T14:49:50.416Z"
   },
   {
    "duration": 455,
    "start_time": "2022-09-22T14:49:50.431Z"
   },
   {
    "duration": 162,
    "start_time": "2022-09-22T14:49:50.888Z"
   },
   {
    "duration": 3,
    "start_time": "2022-09-22T14:49:51.051Z"
   },
   {
    "duration": 22,
    "start_time": "2022-09-22T14:49:51.056Z"
   },
   {
    "duration": 15,
    "start_time": "2022-09-22T14:49:51.080Z"
   },
   {
    "duration": 9,
    "start_time": "2022-09-22T14:49:51.097Z"
   },
   {
    "duration": 12,
    "start_time": "2022-09-22T14:49:51.107Z"
   },
   {
    "duration": 6,
    "start_time": "2022-09-22T14:49:51.122Z"
   },
   {
    "duration": 32,
    "start_time": "2022-09-22T14:49:51.130Z"
   },
   {
    "duration": 33,
    "start_time": "2022-09-22T14:49:51.163Z"
   },
   {
    "duration": 8,
    "start_time": "2022-09-22T14:49:51.198Z"
   },
   {
    "duration": 10,
    "start_time": "2022-09-22T14:49:51.207Z"
   },
   {
    "duration": 14,
    "start_time": "2022-09-22T14:49:51.218Z"
   },
   {
    "duration": 4,
    "start_time": "2022-09-22T14:49:51.233Z"
   },
   {
    "duration": 480,
    "start_time": "2022-09-22T14:49:51.238Z"
   },
   {
    "duration": 189,
    "start_time": "2022-09-22T14:49:51.719Z"
   },
   {
    "duration": 279,
    "start_time": "2022-09-22T14:49:51.909Z"
   },
   {
    "duration": 161,
    "start_time": "2022-09-22T14:49:52.190Z"
   },
   {
    "duration": 6,
    "start_time": "2022-09-22T14:49:52.352Z"
   },
   {
    "duration": 744,
    "start_time": "2022-09-22T14:49:52.359Z"
   },
   {
    "duration": 466,
    "start_time": "2022-09-22T14:49:53.104Z"
   },
   {
    "duration": 7,
    "start_time": "2022-09-22T14:49:53.571Z"
   },
   {
    "duration": 330,
    "start_time": "2022-09-22T14:49:53.580Z"
   },
   {
    "duration": 21,
    "start_time": "2022-09-22T14:49:53.911Z"
   },
   {
    "duration": 181,
    "start_time": "2022-09-22T14:49:53.934Z"
   },
   {
    "duration": 13,
    "start_time": "2022-09-22T14:50:19.194Z"
   },
   {
    "duration": 23,
    "start_time": "2022-09-22T14:50:30.894Z"
   },
   {
    "duration": 13,
    "start_time": "2022-09-22T14:50:53.601Z"
   },
   {
    "duration": 19,
    "start_time": "2022-09-22T14:51:12.806Z"
   },
   {
    "duration": 14,
    "start_time": "2022-09-22T14:51:32.402Z"
   },
   {
    "duration": 12,
    "start_time": "2022-09-22T14:51:36.846Z"
   },
   {
    "duration": 15,
    "start_time": "2022-09-22T14:51:46.265Z"
   },
   {
    "duration": 12,
    "start_time": "2022-09-22T14:51:53.005Z"
   },
   {
    "duration": 14,
    "start_time": "2022-09-22T14:52:09.369Z"
   },
   {
    "duration": 12,
    "start_time": "2022-09-22T14:52:13.407Z"
   },
   {
    "duration": 18,
    "start_time": "2022-09-22T14:52:18.156Z"
   },
   {
    "duration": 14,
    "start_time": "2022-09-22T14:52:34.694Z"
   },
   {
    "duration": 20,
    "start_time": "2022-09-22T14:52:41.040Z"
   },
   {
    "duration": 13,
    "start_time": "2022-09-22T14:52:46.864Z"
   },
   {
    "duration": 12,
    "start_time": "2022-09-22T14:52:54.697Z"
   },
   {
    "duration": 48,
    "start_time": "2022-09-22T15:06:54.644Z"
   },
   {
    "duration": 112,
    "start_time": "2022-09-22T15:07:12.717Z"
   },
   {
    "duration": 187,
    "start_time": "2022-09-22T15:07:18.165Z"
   },
   {
    "duration": 95,
    "start_time": "2022-09-22T15:10:08.083Z"
   },
   {
    "duration": 466,
    "start_time": "2022-09-22T15:10:27.070Z"
   },
   {
    "duration": 1602,
    "start_time": "2022-09-22T15:11:16.914Z"
   },
   {
    "duration": 52,
    "start_time": "2022-09-22T15:12:38.493Z"
   },
   {
    "duration": 32,
    "start_time": "2022-09-22T15:12:50.585Z"
   },
   {
    "duration": 388,
    "start_time": "2022-09-22T15:13:09.138Z"
   },
   {
    "duration": 509,
    "start_time": "2022-09-22T15:13:24.337Z"
   },
   {
    "duration": 19,
    "start_time": "2022-09-22T15:48:54.254Z"
   },
   {
    "duration": 527,
    "start_time": "2022-09-22T15:49:04.175Z"
   },
   {
    "duration": 25,
    "start_time": "2022-09-22T15:52:14.736Z"
   },
   {
    "duration": 21,
    "start_time": "2022-09-22T15:52:30.204Z"
   },
   {
    "duration": 252,
    "start_time": "2022-09-22T15:52:43.574Z"
   },
   {
    "duration": 24,
    "start_time": "2022-09-22T15:53:23.737Z"
   },
   {
    "duration": 255,
    "start_time": "2022-09-22T15:53:36.844Z"
   },
   {
    "duration": 216,
    "start_time": "2022-09-22T15:54:12.374Z"
   },
   {
    "duration": 237,
    "start_time": "2022-09-22T15:55:09.946Z"
   },
   {
    "duration": 317,
    "start_time": "2022-09-22T15:56:05.828Z"
   },
   {
    "duration": 84,
    "start_time": "2022-09-22T15:57:23.869Z"
   },
   {
    "duration": 60,
    "start_time": "2022-09-22T15:57:41.578Z"
   },
   {
    "duration": 786,
    "start_time": "2022-09-22T15:58:34.769Z"
   },
   {
    "duration": 238,
    "start_time": "2022-09-22T16:00:14.777Z"
   },
   {
    "duration": 240,
    "start_time": "2022-09-22T16:01:41.843Z"
   },
   {
    "duration": 275,
    "start_time": "2022-09-22T16:02:18.856Z"
   },
   {
    "duration": 241,
    "start_time": "2022-09-22T16:02:40.507Z"
   },
   {
    "duration": 243,
    "start_time": "2022-09-22T16:04:05.845Z"
   },
   {
    "duration": 243,
    "start_time": "2022-09-22T16:04:39.830Z"
   },
   {
    "duration": 233,
    "start_time": "2022-09-22T16:08:22.684Z"
   },
   {
    "duration": 253,
    "start_time": "2022-09-22T16:08:29.357Z"
   },
   {
    "duration": 22,
    "start_time": "2022-09-22T16:08:52.636Z"
   },
   {
    "duration": 22,
    "start_time": "2022-09-22T16:08:59.327Z"
   },
   {
    "duration": 26,
    "start_time": "2022-09-22T16:09:07.974Z"
   },
   {
    "duration": 257,
    "start_time": "2022-09-22T16:09:58.956Z"
   },
   {
    "duration": 267,
    "start_time": "2022-09-22T16:10:15.014Z"
   },
   {
    "duration": 239,
    "start_time": "2022-09-22T16:10:36.085Z"
   },
   {
    "duration": 642,
    "start_time": "2022-09-22T16:12:12.525Z"
   },
   {
    "duration": 238,
    "start_time": "2022-09-22T16:12:23.355Z"
   },
   {
    "duration": 255,
    "start_time": "2022-09-22T16:12:34.967Z"
   },
   {
    "duration": 254,
    "start_time": "2022-09-22T16:12:45.057Z"
   },
   {
    "duration": 22,
    "start_time": "2022-09-22T16:13:43.898Z"
   },
   {
    "duration": 140,
    "start_time": "2022-09-22T16:14:26.925Z"
   },
   {
    "duration": 275,
    "start_time": "2022-09-22T16:14:31.529Z"
   },
   {
    "duration": 238,
    "start_time": "2022-09-22T16:14:40.834Z"
   },
   {
    "duration": 245,
    "start_time": "2022-09-22T16:14:50.885Z"
   },
   {
    "duration": 250,
    "start_time": "2022-09-22T16:15:04.775Z"
   },
   {
    "duration": 39,
    "start_time": "2022-09-22T16:15:20.352Z"
   },
   {
    "duration": 251,
    "start_time": "2022-09-22T16:15:41.461Z"
   },
   {
    "duration": 39,
    "start_time": "2022-09-22T16:15:51.103Z"
   },
   {
    "duration": 251,
    "start_time": "2022-09-22T16:16:08.644Z"
   },
   {
    "duration": 243,
    "start_time": "2022-09-22T16:16:21.832Z"
   },
   {
    "duration": 155,
    "start_time": "2022-09-22T16:25:45.356Z"
   },
   {
    "duration": 164,
    "start_time": "2022-09-22T16:26:00.333Z"
   },
   {
    "duration": 56,
    "start_time": "2022-09-22T16:27:53.126Z"
   },
   {
    "duration": 174,
    "start_time": "2022-09-22T16:27:58.587Z"
   },
   {
    "duration": 156,
    "start_time": "2022-09-22T16:28:21.714Z"
   },
   {
    "duration": 165,
    "start_time": "2022-09-22T16:28:30.597Z"
   },
   {
    "duration": 161,
    "start_time": "2022-09-22T16:29:43.365Z"
   },
   {
    "duration": 57,
    "start_time": "2022-09-22T16:30:14.575Z"
   },
   {
    "duration": 150,
    "start_time": "2022-09-22T16:30:22.662Z"
   },
   {
    "duration": 166,
    "start_time": "2022-09-22T16:30:36.104Z"
   },
   {
    "duration": 167,
    "start_time": "2022-09-22T16:31:41.405Z"
   },
   {
    "duration": 232,
    "start_time": "2022-09-22T17:01:11.553Z"
   },
   {
    "duration": 241,
    "start_time": "2022-09-22T17:01:33.706Z"
   },
   {
    "duration": 4,
    "start_time": "2022-09-22T17:26:44.762Z"
   },
   {
    "duration": 17,
    "start_time": "2022-09-22T18:56:45.158Z"
   },
   {
    "duration": 16,
    "start_time": "2022-09-22T19:02:12.679Z"
   },
   {
    "duration": 17,
    "start_time": "2022-09-22T19:02:34.440Z"
   },
   {
    "duration": 24,
    "start_time": "2022-09-22T19:02:59.769Z"
   },
   {
    "duration": 367,
    "start_time": "2022-09-22T19:03:34.762Z"
   },
   {
    "duration": 299,
    "start_time": "2022-09-22T19:04:37.080Z"
   },
   {
    "duration": 13,
    "start_time": "2022-09-22T19:05:58.247Z"
   },
   {
    "duration": 21,
    "start_time": "2022-09-22T19:07:39.288Z"
   },
   {
    "duration": 18,
    "start_time": "2022-09-22T19:07:49.811Z"
   },
   {
    "duration": 18,
    "start_time": "2022-09-22T19:08:03.890Z"
   },
   {
    "duration": 16,
    "start_time": "2022-09-22T19:08:52.209Z"
   },
   {
    "duration": 16,
    "start_time": "2022-09-22T19:09:26.299Z"
   },
   {
    "duration": 18,
    "start_time": "2022-09-22T19:09:40.331Z"
   },
   {
    "duration": 384,
    "start_time": "2022-09-22T19:10:30.213Z"
   },
   {
    "duration": 254,
    "start_time": "2022-09-22T19:11:10.483Z"
   },
   {
    "duration": 16,
    "start_time": "2022-09-22T19:11:33.290Z"
   },
   {
    "duration": 166,
    "start_time": "2022-09-22T19:11:53.962Z"
   },
   {
    "duration": 19,
    "start_time": "2022-09-22T19:12:39.620Z"
   },
   {
    "duration": 201,
    "start_time": "2022-09-22T19:13:04.805Z"
   },
   {
    "duration": 205,
    "start_time": "2022-09-22T19:13:34.683Z"
   },
   {
    "duration": 120,
    "start_time": "2022-09-22T19:13:54.210Z"
   },
   {
    "duration": 199,
    "start_time": "2022-09-22T19:14:03.082Z"
   },
   {
    "duration": 207,
    "start_time": "2022-09-22T19:14:20.923Z"
   },
   {
    "duration": 429,
    "start_time": "2022-09-22T19:16:00.453Z"
   },
   {
    "duration": 315,
    "start_time": "2022-09-22T19:16:26.851Z"
   },
   {
    "duration": 473,
    "start_time": "2022-09-22T19:16:35.050Z"
   },
   {
    "duration": 504,
    "start_time": "2022-09-22T19:21:10.539Z"
   },
   {
    "duration": 490,
    "start_time": "2022-09-22T19:21:29.942Z"
   },
   {
    "duration": 1068,
    "start_time": "2022-09-22T19:27:17.576Z"
   },
   {
    "duration": 521,
    "start_time": "2022-09-22T19:27:28.634Z"
   },
   {
    "duration": 475,
    "start_time": "2022-09-22T19:27:36.236Z"
   },
   {
    "duration": 527,
    "start_time": "2022-09-22T19:28:11.420Z"
   },
   {
    "duration": 560,
    "start_time": "2022-09-22T19:28:17.488Z"
   },
   {
    "duration": 548,
    "start_time": "2022-09-22T19:29:46.658Z"
   },
   {
    "duration": 503,
    "start_time": "2022-09-22T19:29:55.309Z"
   },
   {
    "duration": 572,
    "start_time": "2022-09-22T19:30:04.962Z"
   },
   {
    "duration": 1137,
    "start_time": "2022-09-22T19:33:58.337Z"
   },
   {
    "duration": 515,
    "start_time": "2022-09-22T19:34:40.432Z"
   },
   {
    "duration": 546,
    "start_time": "2022-09-22T19:35:13.243Z"
   },
   {
    "duration": 215,
    "start_time": "2022-09-22T19:40:20.925Z"
   },
   {
    "duration": 169,
    "start_time": "2022-09-22T19:40:37.064Z"
   },
   {
    "duration": 178,
    "start_time": "2022-09-22T19:40:56.807Z"
   },
   {
    "duration": 175,
    "start_time": "2022-09-22T19:44:08.526Z"
   },
   {
    "duration": 225,
    "start_time": "2022-09-22T19:44:17.807Z"
   },
   {
    "duration": 303,
    "start_time": "2022-09-22T19:46:37.762Z"
   },
   {
    "duration": 64,
    "start_time": "2022-09-22T19:49:58.460Z"
   },
   {
    "duration": 269,
    "start_time": "2022-09-22T19:50:04.701Z"
   },
   {
    "duration": 290,
    "start_time": "2022-09-22T19:50:13.001Z"
   },
   {
    "duration": 281,
    "start_time": "2022-09-22T19:53:43.093Z"
   },
   {
    "duration": 342,
    "start_time": "2022-09-22T19:53:50.356Z"
   },
   {
    "duration": 377,
    "start_time": "2022-09-22T19:54:04.792Z"
   },
   {
    "duration": 350,
    "start_time": "2022-09-22T19:54:16.623Z"
   },
   {
    "duration": 244,
    "start_time": "2022-09-22T19:54:43.264Z"
   },
   {
    "duration": 242,
    "start_time": "2022-09-22T19:54:52.194Z"
   },
   {
    "duration": 341,
    "start_time": "2022-09-22T19:55:40.847Z"
   },
   {
    "duration": 49,
    "start_time": "2022-09-23T06:09:35.932Z"
   },
   {
    "duration": 496,
    "start_time": "2022-09-23T06:09:45.486Z"
   },
   {
    "duration": 14,
    "start_time": "2022-09-23T06:09:45.984Z"
   },
   {
    "duration": 418,
    "start_time": "2022-09-23T06:09:45.999Z"
   },
   {
    "duration": 184,
    "start_time": "2022-09-23T06:09:46.419Z"
   },
   {
    "duration": 3,
    "start_time": "2022-09-23T06:09:46.606Z"
   },
   {
    "duration": 10,
    "start_time": "2022-09-23T06:09:46.610Z"
   },
   {
    "duration": 8,
    "start_time": "2022-09-23T06:09:46.621Z"
   },
   {
    "duration": 5,
    "start_time": "2022-09-23T06:09:46.630Z"
   },
   {
    "duration": 6,
    "start_time": "2022-09-23T06:09:46.637Z"
   },
   {
    "duration": 6,
    "start_time": "2022-09-23T06:09:46.645Z"
   },
   {
    "duration": 4,
    "start_time": "2022-09-23T06:09:46.676Z"
   },
   {
    "duration": 6,
    "start_time": "2022-09-23T06:09:46.682Z"
   },
   {
    "duration": 7,
    "start_time": "2022-09-23T06:09:46.690Z"
   },
   {
    "duration": 9,
    "start_time": "2022-09-23T06:09:46.699Z"
   },
   {
    "duration": 12,
    "start_time": "2022-09-23T06:09:46.710Z"
   },
   {
    "duration": 4,
    "start_time": "2022-09-23T06:09:46.724Z"
   },
   {
    "duration": 550,
    "start_time": "2022-09-23T06:09:46.730Z"
   },
   {
    "duration": 195,
    "start_time": "2022-09-23T06:09:47.281Z"
   },
   {
    "duration": 307,
    "start_time": "2022-09-23T06:09:47.478Z"
   },
   {
    "duration": 182,
    "start_time": "2022-09-23T06:09:47.787Z"
   },
   {
    "duration": 11,
    "start_time": "2022-09-23T06:09:47.971Z"
   },
   {
    "duration": 734,
    "start_time": "2022-09-23T06:09:47.983Z"
   },
   {
    "duration": 472,
    "start_time": "2022-09-23T06:09:48.718Z"
   },
   {
    "duration": 5,
    "start_time": "2022-09-23T06:09:49.191Z"
   },
   {
    "duration": 338,
    "start_time": "2022-09-23T06:09:49.198Z"
   },
   {
    "duration": 16,
    "start_time": "2022-09-23T06:09:49.538Z"
   },
   {
    "duration": 182,
    "start_time": "2022-09-23T06:09:49.556Z"
   },
   {
    "duration": 193,
    "start_time": "2022-09-23T06:09:49.740Z"
   },
   {
    "duration": 269,
    "start_time": "2022-09-23T06:09:49.934Z"
   },
   {
    "duration": 385,
    "start_time": "2022-09-23T06:09:50.204Z"
   },
   {
    "duration": 463,
    "start_time": "2022-09-23T06:11:11.707Z"
   },
   {
    "duration": 473,
    "start_time": "2022-09-23T06:12:29.349Z"
   },
   {
    "duration": 397,
    "start_time": "2022-09-23T06:13:45.849Z"
   },
   {
    "duration": 407,
    "start_time": "2022-09-23T06:17:07.626Z"
   },
   {
    "duration": 88,
    "start_time": "2022-09-23T06:17:21.517Z"
   },
   {
    "duration": 24,
    "start_time": "2022-09-23T06:17:45.129Z"
   },
   {
    "duration": 389,
    "start_time": "2022-09-23T06:17:59.847Z"
   },
   {
    "duration": 537,
    "start_time": "2022-09-23T06:18:35.697Z"
   },
   {
    "duration": 398,
    "start_time": "2022-09-23T06:26:24.023Z"
   },
   {
    "duration": 301,
    "start_time": "2022-09-23T06:30:22.922Z"
   },
   {
    "duration": 434,
    "start_time": "2022-09-23T06:34:32.723Z"
   },
   {
    "duration": 271,
    "start_time": "2022-09-23T06:39:24.058Z"
   },
   {
    "duration": 388,
    "start_time": "2022-09-23T06:39:31.592Z"
   },
   {
    "duration": 291,
    "start_time": "2022-09-23T06:43:25.489Z"
   },
   {
    "duration": 285,
    "start_time": "2022-09-23T06:53:03.191Z"
   },
   {
    "duration": 405,
    "start_time": "2022-09-23T06:53:22.564Z"
   },
   {
    "duration": 379,
    "start_time": "2022-09-23T06:53:51.400Z"
   },
   {
    "duration": 386,
    "start_time": "2022-09-23T06:54:08.210Z"
   },
   {
    "duration": 394,
    "start_time": "2022-09-23T06:54:18.050Z"
   },
   {
    "duration": 497,
    "start_time": "2022-09-23T06:54:29.224Z"
   },
   {
    "duration": 445,
    "start_time": "2022-09-23T06:55:00.972Z"
   },
   {
    "duration": 3603,
    "start_time": "2022-09-23T06:55:34.194Z"
   },
   {
    "duration": 260,
    "start_time": "2022-09-23T06:56:01.597Z"
   },
   {
    "duration": 18,
    "start_time": "2022-09-23T06:56:28.585Z"
   },
   {
    "duration": 2326,
    "start_time": "2022-09-23T06:56:55.381Z"
   },
   {
    "duration": 2293,
    "start_time": "2022-09-23T06:57:16.176Z"
   },
   {
    "duration": 60,
    "start_time": "2022-09-23T06:58:19.393Z"
   },
   {
    "duration": 11,
    "start_time": "2022-09-23T06:58:24.029Z"
   },
   {
    "duration": 790,
    "start_time": "2022-09-23T06:58:33.272Z"
   },
   {
    "duration": 662,
    "start_time": "2022-09-23T06:59:38.101Z"
   },
   {
    "duration": 602,
    "start_time": "2022-09-23T06:59:49.304Z"
   },
   {
    "duration": 600,
    "start_time": "2022-09-23T06:59:59.992Z"
   },
   {
    "duration": 649,
    "start_time": "2022-09-23T07:00:11.914Z"
   },
   {
    "duration": 498,
    "start_time": "2022-09-23T07:00:30.797Z"
   },
   {
    "duration": 521,
    "start_time": "2022-09-23T07:00:38.119Z"
   },
   {
    "duration": 406,
    "start_time": "2022-09-23T07:07:27.473Z"
   },
   {
    "duration": 438,
    "start_time": "2022-09-23T07:07:32.359Z"
   },
   {
    "duration": 409,
    "start_time": "2022-09-23T07:08:38.292Z"
   },
   {
    "duration": 420,
    "start_time": "2022-09-23T07:58:22.182Z"
   },
   {
    "duration": 706,
    "start_time": "2022-09-23T07:58:34.554Z"
   },
   {
    "duration": 67,
    "start_time": "2022-09-23T07:59:01.265Z"
   },
   {
    "duration": 282,
    "start_time": "2022-09-23T07:59:30.031Z"
   },
   {
    "duration": 281,
    "start_time": "2022-09-23T07:59:51.021Z"
   },
   {
    "duration": 294,
    "start_time": "2022-09-23T08:01:28.371Z"
   },
   {
    "duration": 292,
    "start_time": "2022-09-23T08:02:09.736Z"
   },
   {
    "duration": 291,
    "start_time": "2022-09-23T08:03:01.270Z"
   },
   {
    "duration": 4,
    "start_time": "2022-09-23T08:04:31.859Z"
   },
   {
    "duration": 10,
    "start_time": "2022-09-23T08:04:35.744Z"
   },
   {
    "duration": 172,
    "start_time": "2022-09-23T08:04:46.446Z"
   },
   {
    "duration": 422,
    "start_time": "2022-09-23T08:05:29.667Z"
   },
   {
    "duration": 397,
    "start_time": "2022-09-23T08:06:08.994Z"
   },
   {
    "duration": 391,
    "start_time": "2022-09-23T08:06:17.506Z"
   },
   {
    "duration": 361,
    "start_time": "2022-09-23T08:07:47.471Z"
   },
   {
    "duration": 388,
    "start_time": "2022-09-23T08:07:56.193Z"
   },
   {
    "duration": 375,
    "start_time": "2022-09-23T08:08:12.827Z"
   },
   {
    "duration": 674,
    "start_time": "2022-09-23T08:08:24.312Z"
   },
   {
    "duration": 364,
    "start_time": "2022-09-23T08:08:45.786Z"
   },
   {
    "duration": 264,
    "start_time": "2022-09-23T08:09:04.397Z"
   },
   {
    "duration": 379,
    "start_time": "2022-09-23T08:09:23.592Z"
   },
   {
    "duration": 376,
    "start_time": "2022-09-23T08:09:30.663Z"
   },
   {
    "duration": 352,
    "start_time": "2022-09-23T08:09:40.031Z"
   },
   {
    "duration": 372,
    "start_time": "2022-09-23T08:10:53.312Z"
   },
   {
    "duration": 365,
    "start_time": "2022-09-23T08:11:00.674Z"
   },
   {
    "duration": 295,
    "start_time": "2022-09-23T08:11:25.266Z"
   },
   {
    "duration": 382,
    "start_time": "2022-09-23T08:11:38.824Z"
   },
   {
    "duration": 534,
    "start_time": "2022-09-23T08:16:25.428Z"
   },
   {
    "duration": 507,
    "start_time": "2022-09-23T08:16:43.414Z"
   },
   {
    "duration": 502,
    "start_time": "2022-09-23T08:16:51.019Z"
   },
   {
    "duration": 540,
    "start_time": "2022-09-23T08:17:00.473Z"
   },
   {
    "duration": 675,
    "start_time": "2022-09-23T08:38:32.249Z"
   },
   {
    "duration": 15,
    "start_time": "2022-09-23T08:39:23.774Z"
   },
   {
    "duration": 309,
    "start_time": "2022-09-23T08:42:36.547Z"
   },
   {
    "duration": 294,
    "start_time": "2022-09-23T08:45:47.430Z"
   },
   {
    "duration": 465,
    "start_time": "2022-09-23T08:47:39.095Z"
   },
   {
    "duration": 426,
    "start_time": "2022-09-23T08:48:37.116Z"
   },
   {
    "duration": 446,
    "start_time": "2022-09-23T08:49:52.066Z"
   },
   {
    "duration": 669,
    "start_time": "2022-09-23T08:50:13.268Z"
   },
   {
    "duration": 658,
    "start_time": "2022-09-23T08:54:23.955Z"
   },
   {
    "duration": 419,
    "start_time": "2022-09-23T09:05:49.562Z"
   },
   {
    "duration": 574,
    "start_time": "2022-09-23T09:06:37.641Z"
   },
   {
    "duration": 83,
    "start_time": "2022-09-23T09:19:53.489Z"
   },
   {
    "duration": 6,
    "start_time": "2022-09-23T09:19:59.807Z"
   },
   {
    "duration": 132,
    "start_time": "2022-09-23T09:35:33.219Z"
   },
   {
    "duration": 193,
    "start_time": "2022-09-23T09:35:53.105Z"
   },
   {
    "duration": 190,
    "start_time": "2022-09-23T09:36:04.923Z"
   },
   {
    "duration": 187,
    "start_time": "2022-09-23T09:36:19.283Z"
   },
   {
    "duration": 10,
    "start_time": "2022-09-23T09:37:30.286Z"
   },
   {
    "duration": 220,
    "start_time": "2022-09-23T09:37:36.888Z"
   },
   {
    "duration": 88,
    "start_time": "2022-09-23T09:43:06.350Z"
   },
   {
    "duration": 615,
    "start_time": "2022-09-23T09:44:08.802Z"
   },
   {
    "duration": 57,
    "start_time": "2022-09-23T09:45:21.529Z"
   },
   {
    "duration": 53,
    "start_time": "2022-09-23T09:45:51.682Z"
   },
   {
    "duration": 76,
    "start_time": "2022-09-23T09:46:07.395Z"
   },
   {
    "duration": 84,
    "start_time": "2022-09-23T09:46:14.964Z"
   },
   {
    "duration": 62,
    "start_time": "2022-09-23T09:46:22.403Z"
   },
   {
    "duration": 70,
    "start_time": "2022-09-23T09:46:30.944Z"
   },
   {
    "duration": 440,
    "start_time": "2022-09-23T09:47:00.432Z"
   },
   {
    "duration": 418,
    "start_time": "2022-09-23T09:47:18.622Z"
   },
   {
    "duration": 417,
    "start_time": "2022-09-23T09:48:03.314Z"
   },
   {
    "duration": 7,
    "start_time": "2022-09-23T12:26:26.466Z"
   },
   {
    "duration": 357,
    "start_time": "2022-09-23T12:26:32.832Z"
   },
   {
    "duration": 17,
    "start_time": "2022-09-23T12:26:40.017Z"
   },
   {
    "duration": 5,
    "start_time": "2022-09-23T12:27:55.066Z"
   },
   {
    "duration": 4,
    "start_time": "2022-09-23T12:34:07.336Z"
   },
   {
    "duration": 4,
    "start_time": "2022-09-23T12:34:15.216Z"
   },
   {
    "duration": 58,
    "start_time": "2022-09-23T12:34:41.786Z"
   },
   {
    "duration": 13,
    "start_time": "2022-09-23T12:34:41.846Z"
   },
   {
    "duration": 39,
    "start_time": "2022-09-23T12:34:41.861Z"
   },
   {
    "duration": 203,
    "start_time": "2022-09-23T12:34:41.906Z"
   },
   {
    "duration": 3,
    "start_time": "2022-09-23T12:34:42.111Z"
   },
   {
    "duration": 36,
    "start_time": "2022-09-23T12:34:42.115Z"
   },
   {
    "duration": 31,
    "start_time": "2022-09-23T12:34:42.152Z"
   },
   {
    "duration": 39,
    "start_time": "2022-09-23T12:34:42.185Z"
   },
   {
    "duration": 25,
    "start_time": "2022-09-23T12:34:42.226Z"
   },
   {
    "duration": 18,
    "start_time": "2022-09-23T12:34:42.253Z"
   },
   {
    "duration": 36,
    "start_time": "2022-09-23T12:34:42.273Z"
   },
   {
    "duration": 28,
    "start_time": "2022-09-23T12:34:42.311Z"
   },
   {
    "duration": 21,
    "start_time": "2022-09-23T12:34:42.341Z"
   },
   {
    "duration": 19,
    "start_time": "2022-09-23T12:34:42.363Z"
   },
   {
    "duration": 8,
    "start_time": "2022-09-23T12:34:42.384Z"
   },
   {
    "duration": 18,
    "start_time": "2022-09-23T12:34:42.393Z"
   },
   {
    "duration": 9,
    "start_time": "2022-09-23T12:34:42.413Z"
   },
   {
    "duration": 7,
    "start_time": "2022-09-23T12:34:42.424Z"
   },
   {
    "duration": 219,
    "start_time": "2022-09-23T12:34:42.432Z"
   },
   {
    "duration": 329,
    "start_time": "2022-09-23T12:34:42.653Z"
   },
   {
    "duration": 177,
    "start_time": "2022-09-23T12:34:42.983Z"
   },
   {
    "duration": 16,
    "start_time": "2022-09-23T12:34:43.161Z"
   },
   {
    "duration": 736,
    "start_time": "2022-09-23T12:34:43.179Z"
   },
   {
    "duration": 468,
    "start_time": "2022-09-23T12:34:43.917Z"
   },
   {
    "duration": 5,
    "start_time": "2022-09-23T12:34:44.387Z"
   },
   {
    "duration": 359,
    "start_time": "2022-09-23T12:34:44.393Z"
   },
   {
    "duration": 23,
    "start_time": "2022-09-23T12:34:44.754Z"
   },
   {
    "duration": 194,
    "start_time": "2022-09-23T12:34:44.779Z"
   },
   {
    "duration": 204,
    "start_time": "2022-09-23T12:34:44.977Z"
   },
   {
    "duration": 301,
    "start_time": "2022-09-23T12:34:45.183Z"
   },
   {
    "duration": 445,
    "start_time": "2022-09-23T12:34:45.486Z"
   },
   {
    "duration": 568,
    "start_time": "2022-09-23T12:34:45.933Z"
   },
   {
    "duration": 14,
    "start_time": "2022-09-23T12:47:32.059Z"
   },
   {
    "duration": 15,
    "start_time": "2022-09-23T12:48:09.901Z"
   },
   {
    "duration": 14,
    "start_time": "2022-09-23T12:48:20.229Z"
   },
   {
    "duration": 290,
    "start_time": "2022-09-23T12:52:26.087Z"
   },
   {
    "duration": 287,
    "start_time": "2022-09-23T12:52:36.098Z"
   },
   {
    "duration": 317,
    "start_time": "2022-09-23T12:53:28.907Z"
   },
   {
    "duration": 389,
    "start_time": "2022-09-23T12:53:55.319Z"
   },
   {
    "duration": 370,
    "start_time": "2022-09-23T12:54:23.137Z"
   },
   {
    "duration": 328,
    "start_time": "2022-09-23T12:54:42.409Z"
   },
   {
    "duration": 321,
    "start_time": "2022-09-23T12:54:49.696Z"
   },
   {
    "duration": 310,
    "start_time": "2022-09-23T12:55:44.209Z"
   },
   {
    "duration": 346,
    "start_time": "2022-09-23T12:55:50.930Z"
   },
   {
    "duration": 22,
    "start_time": "2022-09-23T12:56:28.371Z"
   },
   {
    "duration": 328,
    "start_time": "2022-09-23T12:56:48.709Z"
   },
   {
    "duration": 355,
    "start_time": "2022-09-23T12:56:54.578Z"
   },
   {
    "duration": 18,
    "start_time": "2022-09-23T12:56:59.146Z"
   },
   {
    "duration": 391,
    "start_time": "2022-09-23T12:57:05.148Z"
   },
   {
    "duration": 362,
    "start_time": "2022-09-23T12:57:13.078Z"
   },
   {
    "duration": 344,
    "start_time": "2022-09-23T12:57:18.076Z"
   },
   {
    "duration": 19,
    "start_time": "2022-09-23T12:59:55.679Z"
   },
   {
    "duration": 351,
    "start_time": "2022-09-23T13:00:29.991Z"
   },
   {
    "duration": 320,
    "start_time": "2022-09-23T13:00:35.805Z"
   },
   {
    "duration": 349,
    "start_time": "2022-09-23T13:00:53.479Z"
   },
   {
    "duration": 346,
    "start_time": "2022-09-23T13:00:58.972Z"
   },
   {
    "duration": 353,
    "start_time": "2022-09-23T13:01:08.060Z"
   },
   {
    "duration": 366,
    "start_time": "2022-09-23T13:05:25.430Z"
   },
   {
    "duration": 336,
    "start_time": "2022-09-23T13:05:44.621Z"
   },
   {
    "duration": 341,
    "start_time": "2022-09-23T13:06:55.408Z"
   },
   {
    "duration": 365,
    "start_time": "2022-09-23T13:07:15.097Z"
   },
   {
    "duration": 375,
    "start_time": "2022-09-23T13:08:01.967Z"
   },
   {
    "duration": 372,
    "start_time": "2022-09-23T13:09:52.720Z"
   },
   {
    "duration": 363,
    "start_time": "2022-09-23T13:10:04.430Z"
   },
   {
    "duration": 401,
    "start_time": "2022-09-23T13:12:50.435Z"
   },
   {
    "duration": 62,
    "start_time": "2022-09-23T13:13:19.384Z"
   },
   {
    "duration": 811,
    "start_time": "2022-09-23T13:13:25.024Z"
   },
   {
    "duration": 386,
    "start_time": "2022-09-23T13:13:44.047Z"
   },
   {
    "duration": 360,
    "start_time": "2022-09-23T13:15:28.659Z"
   },
   {
    "duration": 347,
    "start_time": "2022-09-23T13:17:35.919Z"
   },
   {
    "duration": 348,
    "start_time": "2022-09-23T13:17:45.888Z"
   },
   {
    "duration": 380,
    "start_time": "2022-09-23T13:18:08.336Z"
   },
   {
    "duration": 368,
    "start_time": "2022-09-23T13:19:08.976Z"
   },
   {
    "duration": 4,
    "start_time": "2022-09-23T15:22:01.068Z"
   },
   {
    "duration": 476,
    "start_time": "2022-09-23T15:26:04.028Z"
   },
   {
    "duration": 16,
    "start_time": "2022-09-23T15:26:04.506Z"
   },
   {
    "duration": 306,
    "start_time": "2022-09-23T15:26:04.524Z"
   },
   {
    "duration": 193,
    "start_time": "2022-09-23T15:26:04.831Z"
   },
   {
    "duration": 3,
    "start_time": "2022-09-23T15:26:05.027Z"
   },
   {
    "duration": 14,
    "start_time": "2022-09-23T15:26:05.032Z"
   },
   {
    "duration": 11,
    "start_time": "2022-09-23T15:26:05.047Z"
   },
   {
    "duration": 17,
    "start_time": "2022-09-23T15:26:05.059Z"
   },
   {
    "duration": 8,
    "start_time": "2022-09-23T15:26:05.078Z"
   },
   {
    "duration": 13,
    "start_time": "2022-09-23T15:26:05.088Z"
   },
   {
    "duration": 16,
    "start_time": "2022-09-23T15:26:05.102Z"
   },
   {
    "duration": 20,
    "start_time": "2022-09-23T15:26:05.119Z"
   },
   {
    "duration": 12,
    "start_time": "2022-09-23T15:26:05.140Z"
   },
   {
    "duration": 45,
    "start_time": "2022-09-23T15:26:05.155Z"
   },
   {
    "duration": 28,
    "start_time": "2022-09-23T15:26:05.203Z"
   },
   {
    "duration": 45,
    "start_time": "2022-09-23T15:26:05.233Z"
   },
   {
    "duration": 28,
    "start_time": "2022-09-23T15:26:05.281Z"
   },
   {
    "duration": 566,
    "start_time": "2022-09-23T15:26:05.312Z"
   },
   {
    "duration": 206,
    "start_time": "2022-09-23T15:26:05.880Z"
   },
   {
    "duration": 329,
    "start_time": "2022-09-23T15:26:06.087Z"
   },
   {
    "duration": 180,
    "start_time": "2022-09-23T15:26:06.418Z"
   },
   {
    "duration": 7,
    "start_time": "2022-09-23T15:26:06.599Z"
   },
   {
    "duration": 758,
    "start_time": "2022-09-23T15:26:06.608Z"
   },
   {
    "duration": 537,
    "start_time": "2022-09-23T15:26:07.368Z"
   },
   {
    "duration": 5,
    "start_time": "2022-09-23T15:26:07.907Z"
   },
   {
    "duration": 359,
    "start_time": "2022-09-23T15:26:07.913Z"
   },
   {
    "duration": 17,
    "start_time": "2022-09-23T15:26:08.274Z"
   },
   {
    "duration": 210,
    "start_time": "2022-09-23T15:26:08.293Z"
   },
   {
    "duration": 237,
    "start_time": "2022-09-23T15:26:08.505Z"
   },
   {
    "duration": 283,
    "start_time": "2022-09-23T15:26:08.744Z"
   },
   {
    "duration": 451,
    "start_time": "2022-09-23T15:26:09.029Z"
   },
   {
    "duration": 645,
    "start_time": "2022-09-23T15:26:09.483Z"
   },
   {
    "duration": 478,
    "start_time": "2022-09-23T15:26:10.130Z"
   },
   {
    "duration": 3,
    "start_time": "2022-09-23T15:26:10.609Z"
   },
   {
    "duration": 109,
    "start_time": "2022-09-23T15:26:10.613Z"
   },
   {
    "duration": 15,
    "start_time": "2022-09-23T15:32:04.992Z"
   },
   {
    "duration": 15,
    "start_time": "2022-09-23T15:32:15.540Z"
   },
   {
    "duration": 14,
    "start_time": "2022-09-23T15:32:49.871Z"
   },
   {
    "duration": 17,
    "start_time": "2022-09-23T15:34:24.281Z"
   },
   {
    "duration": 12,
    "start_time": "2022-09-23T15:35:13.729Z"
   },
   {
    "duration": 12,
    "start_time": "2022-09-23T15:35:28.379Z"
   },
   {
    "duration": 26,
    "start_time": "2022-09-23T15:43:01.562Z"
   },
   {
    "duration": 13,
    "start_time": "2022-09-23T15:43:29.421Z"
   },
   {
    "duration": 18,
    "start_time": "2022-09-23T15:43:40.781Z"
   },
   {
    "duration": 17,
    "start_time": "2022-09-23T15:43:49.449Z"
   },
   {
    "duration": 208,
    "start_time": "2022-09-23T15:45:06.474Z"
   },
   {
    "duration": 16,
    "start_time": "2022-09-23T15:45:14.411Z"
   },
   {
    "duration": 21,
    "start_time": "2022-09-23T15:46:35.248Z"
   },
   {
    "duration": 16,
    "start_time": "2022-09-23T15:47:07.509Z"
   },
   {
    "duration": 19,
    "start_time": "2022-09-23T15:47:39.734Z"
   },
   {
    "duration": 3,
    "start_time": "2022-09-23T15:51:39.139Z"
   },
   {
    "duration": 12,
    "start_time": "2022-09-23T15:51:39.493Z"
   },
   {
    "duration": 13,
    "start_time": "2022-09-23T15:51:50.293Z"
   },
   {
    "duration": 61,
    "start_time": "2022-09-23T15:52:39.719Z"
   },
   {
    "duration": 12,
    "start_time": "2022-09-23T15:52:39.782Z"
   },
   {
    "duration": 15,
    "start_time": "2022-09-23T15:52:39.795Z"
   },
   {
    "duration": 237,
    "start_time": "2022-09-23T15:52:39.811Z"
   },
   {
    "duration": 3,
    "start_time": "2022-09-23T15:52:40.051Z"
   },
   {
    "duration": 13,
    "start_time": "2022-09-23T15:52:40.055Z"
   },
   {
    "duration": 17,
    "start_time": "2022-09-23T15:52:40.070Z"
   },
   {
    "duration": 6,
    "start_time": "2022-09-23T15:52:40.089Z"
   },
   {
    "duration": 6,
    "start_time": "2022-09-23T15:52:40.097Z"
   },
   {
    "duration": 5,
    "start_time": "2022-09-23T15:52:40.105Z"
   },
   {
    "duration": 8,
    "start_time": "2022-09-23T15:52:40.112Z"
   },
   {
    "duration": 9,
    "start_time": "2022-09-23T15:52:40.122Z"
   },
   {
    "duration": 11,
    "start_time": "2022-09-23T15:52:40.132Z"
   },
   {
    "duration": 13,
    "start_time": "2022-09-23T15:52:40.146Z"
   },
   {
    "duration": 17,
    "start_time": "2022-09-23T15:52:40.160Z"
   },
   {
    "duration": 14,
    "start_time": "2022-09-23T15:52:40.179Z"
   },
   {
    "duration": 8,
    "start_time": "2022-09-23T15:52:40.194Z"
   },
   {
    "duration": 4,
    "start_time": "2022-09-23T15:52:40.204Z"
   },
   {
    "duration": 237,
    "start_time": "2022-09-23T15:52:40.210Z"
   },
   {
    "duration": 375,
    "start_time": "2022-09-23T15:52:40.449Z"
   },
   {
    "duration": 204,
    "start_time": "2022-09-23T15:52:40.826Z"
   },
   {
    "duration": 6,
    "start_time": "2022-09-23T15:52:41.032Z"
   },
   {
    "duration": 781,
    "start_time": "2022-09-23T15:52:41.039Z"
   },
   {
    "duration": 497,
    "start_time": "2022-09-23T15:52:41.822Z"
   },
   {
    "duration": 5,
    "start_time": "2022-09-23T15:52:42.321Z"
   },
   {
    "duration": 519,
    "start_time": "2022-09-23T15:52:42.328Z"
   },
   {
    "duration": 27,
    "start_time": "2022-09-23T15:52:42.849Z"
   },
   {
    "duration": 211,
    "start_time": "2022-09-23T15:52:42.878Z"
   },
   {
    "duration": 225,
    "start_time": "2022-09-23T15:52:43.091Z"
   },
   {
    "duration": 301,
    "start_time": "2022-09-23T15:52:43.318Z"
   },
   {
    "duration": 484,
    "start_time": "2022-09-23T15:52:43.621Z"
   },
   {
    "duration": 641,
    "start_time": "2022-09-23T15:52:44.107Z"
   },
   {
    "duration": 407,
    "start_time": "2022-09-23T15:52:44.750Z"
   },
   {
    "duration": 4,
    "start_time": "2022-09-23T15:52:55.309Z"
   },
   {
    "duration": 10,
    "start_time": "2022-09-23T15:52:57.751Z"
   },
   {
    "duration": 22,
    "start_time": "2022-09-23T15:53:29.491Z"
   },
   {
    "duration": 71,
    "start_time": "2022-09-23T15:54:01.861Z"
   },
   {
    "duration": 14,
    "start_time": "2022-09-23T15:54:01.935Z"
   },
   {
    "duration": 27,
    "start_time": "2022-09-23T15:54:01.951Z"
   },
   {
    "duration": 232,
    "start_time": "2022-09-23T15:54:01.980Z"
   },
   {
    "duration": 4,
    "start_time": "2022-09-23T15:54:02.213Z"
   },
   {
    "duration": 15,
    "start_time": "2022-09-23T15:54:02.219Z"
   },
   {
    "duration": 9,
    "start_time": "2022-09-23T15:54:02.235Z"
   },
   {
    "duration": 11,
    "start_time": "2022-09-23T15:54:02.245Z"
   },
   {
    "duration": 15,
    "start_time": "2022-09-23T15:54:02.257Z"
   },
   {
    "duration": 11,
    "start_time": "2022-09-23T15:54:02.278Z"
   },
   {
    "duration": 10,
    "start_time": "2022-09-23T15:54:02.291Z"
   },
   {
    "duration": 13,
    "start_time": "2022-09-23T15:54:02.303Z"
   },
   {
    "duration": 10,
    "start_time": "2022-09-23T15:54:02.318Z"
   },
   {
    "duration": 16,
    "start_time": "2022-09-23T15:54:02.330Z"
   },
   {
    "duration": 17,
    "start_time": "2022-09-23T15:54:02.348Z"
   },
   {
    "duration": 23,
    "start_time": "2022-09-23T15:54:02.367Z"
   },
   {
    "duration": 13,
    "start_time": "2022-09-23T15:54:02.392Z"
   },
   {
    "duration": 19,
    "start_time": "2022-09-23T15:54:02.406Z"
   },
   {
    "duration": 243,
    "start_time": "2022-09-23T15:54:02.427Z"
   },
   {
    "duration": 470,
    "start_time": "2022-09-23T15:54:02.672Z"
   },
   {
    "duration": 207,
    "start_time": "2022-09-23T15:54:03.143Z"
   },
   {
    "duration": 6,
    "start_time": "2022-09-23T15:54:03.352Z"
   },
   {
    "duration": 735,
    "start_time": "2022-09-23T15:54:03.359Z"
   },
   {
    "duration": 484,
    "start_time": "2022-09-23T15:54:04.096Z"
   },
   {
    "duration": 6,
    "start_time": "2022-09-23T15:54:12.422Z"
   },
   {
    "duration": 24,
    "start_time": "2022-09-23T15:54:13.671Z"
   },
   {
    "duration": 24,
    "start_time": "2022-09-23T15:54:45.251Z"
   },
   {
    "duration": 22,
    "start_time": "2022-09-23T15:55:09.281Z"
   },
   {
    "duration": 4,
    "start_time": "2022-09-23T15:55:18.292Z"
   },
   {
    "duration": 23,
    "start_time": "2022-09-23T15:55:19.579Z"
   },
   {
    "duration": 402,
    "start_time": "2022-09-23T15:55:24.177Z"
   },
   {
    "duration": 17,
    "start_time": "2022-09-23T15:55:34.431Z"
   },
   {
    "duration": 4,
    "start_time": "2022-09-23T15:55:57.792Z"
   },
   {
    "duration": 62,
    "start_time": "2022-09-23T15:56:33.982Z"
   },
   {
    "duration": 14,
    "start_time": "2022-09-23T15:56:34.046Z"
   },
   {
    "duration": 15,
    "start_time": "2022-09-23T15:56:34.061Z"
   },
   {
    "duration": 246,
    "start_time": "2022-09-23T15:56:34.078Z"
   },
   {
    "duration": 3,
    "start_time": "2022-09-23T15:56:34.326Z"
   },
   {
    "duration": 9,
    "start_time": "2022-09-23T15:56:34.331Z"
   },
   {
    "duration": 8,
    "start_time": "2022-09-23T15:56:34.342Z"
   },
   {
    "duration": 6,
    "start_time": "2022-09-23T15:56:34.351Z"
   },
   {
    "duration": 7,
    "start_time": "2022-09-23T15:56:34.378Z"
   },
   {
    "duration": 7,
    "start_time": "2022-09-23T15:56:34.389Z"
   },
   {
    "duration": 7,
    "start_time": "2022-09-23T15:56:34.398Z"
   },
   {
    "duration": 9,
    "start_time": "2022-09-23T15:56:34.406Z"
   },
   {
    "duration": 9,
    "start_time": "2022-09-23T15:56:34.416Z"
   },
   {
    "duration": 15,
    "start_time": "2022-09-23T15:56:34.427Z"
   },
   {
    "duration": 33,
    "start_time": "2022-09-23T15:56:34.443Z"
   },
   {
    "duration": 16,
    "start_time": "2022-09-23T15:56:34.479Z"
   },
   {
    "duration": 6,
    "start_time": "2022-09-23T15:56:34.496Z"
   },
   {
    "duration": 5,
    "start_time": "2022-09-23T15:56:34.503Z"
   },
   {
    "duration": 264,
    "start_time": "2022-09-23T15:56:34.509Z"
   },
   {
    "duration": 364,
    "start_time": "2022-09-23T15:56:34.780Z"
   },
   {
    "duration": 373,
    "start_time": "2022-09-23T15:56:35.145Z"
   },
   {
    "duration": 7,
    "start_time": "2022-09-23T15:56:35.519Z"
   },
   {
    "duration": 771,
    "start_time": "2022-09-23T15:56:35.527Z"
   },
   {
    "duration": 487,
    "start_time": "2022-09-23T15:56:36.300Z"
   },
   {
    "duration": 4,
    "start_time": "2022-09-23T15:56:36.789Z"
   },
   {
    "duration": 463,
    "start_time": "2022-09-23T15:56:36.795Z"
   },
   {
    "duration": 25,
    "start_time": "2022-09-23T15:56:37.260Z"
   },
   {
    "duration": 220,
    "start_time": "2022-09-23T15:56:37.288Z"
   },
   {
    "duration": 237,
    "start_time": "2022-09-23T15:56:37.509Z"
   },
   {
    "duration": 321,
    "start_time": "2022-09-23T15:56:37.748Z"
   },
   {
    "duration": 582,
    "start_time": "2022-09-23T15:56:38.070Z"
   },
   {
    "duration": 639,
    "start_time": "2022-09-23T15:56:38.654Z"
   },
   {
    "duration": 360,
    "start_time": "2022-09-23T15:56:39.295Z"
   },
   {
    "duration": 2,
    "start_time": "2022-09-23T15:56:39.657Z"
   },
   {
    "duration": 2,
    "start_time": "2022-09-23T15:56:57.181Z"
   },
   {
    "duration": 11,
    "start_time": "2022-09-23T15:56:58.022Z"
   },
   {
    "duration": 12,
    "start_time": "2022-09-23T15:58:41.602Z"
   },
   {
    "duration": 10,
    "start_time": "2022-09-23T15:59:01.876Z"
   },
   {
    "duration": 7,
    "start_time": "2022-09-23T16:05:42.379Z"
   },
   {
    "duration": 8,
    "start_time": "2022-09-23T16:05:51.939Z"
   },
   {
    "duration": 9,
    "start_time": "2022-09-23T16:18:13.953Z"
   },
   {
    "duration": 430,
    "start_time": "2022-09-23T18:20:13.630Z"
   },
   {
    "duration": 14,
    "start_time": "2022-09-23T18:20:14.063Z"
   },
   {
    "duration": 290,
    "start_time": "2022-09-23T18:20:14.079Z"
   },
   {
    "duration": 191,
    "start_time": "2022-09-23T18:20:14.376Z"
   },
   {
    "duration": 8,
    "start_time": "2022-09-23T18:20:14.568Z"
   },
   {
    "duration": 7,
    "start_time": "2022-09-23T18:20:14.578Z"
   },
   {
    "duration": 8,
    "start_time": "2022-09-23T18:20:14.586Z"
   },
   {
    "duration": 5,
    "start_time": "2022-09-23T18:20:14.596Z"
   },
   {
    "duration": 8,
    "start_time": "2022-09-23T18:20:14.602Z"
   },
   {
    "duration": 10,
    "start_time": "2022-09-23T18:20:14.612Z"
   },
   {
    "duration": 7,
    "start_time": "2022-09-23T18:20:14.624Z"
   },
   {
    "duration": 9,
    "start_time": "2022-09-23T18:20:14.632Z"
   },
   {
    "duration": 35,
    "start_time": "2022-09-23T18:20:14.642Z"
   },
   {
    "duration": 10,
    "start_time": "2022-09-23T18:20:14.678Z"
   },
   {
    "duration": 4,
    "start_time": "2022-09-23T18:20:14.690Z"
   },
   {
    "duration": 16,
    "start_time": "2022-09-23T18:20:14.696Z"
   },
   {
    "duration": 5,
    "start_time": "2022-09-23T18:20:14.714Z"
   },
   {
    "duration": 559,
    "start_time": "2022-09-23T18:20:14.720Z"
   },
   {
    "duration": 253,
    "start_time": "2022-09-23T18:20:15.281Z"
   },
   {
    "duration": 330,
    "start_time": "2022-09-23T18:20:15.536Z"
   },
   {
    "duration": 184,
    "start_time": "2022-09-23T18:20:15.867Z"
   },
   {
    "duration": 6,
    "start_time": "2022-09-23T18:20:16.053Z"
   },
   {
    "duration": 729,
    "start_time": "2022-09-23T18:20:16.061Z"
   },
   {
    "duration": 531,
    "start_time": "2022-09-23T18:20:16.792Z"
   },
   {
    "duration": 5,
    "start_time": "2022-09-23T18:20:17.325Z"
   },
   {
    "duration": 349,
    "start_time": "2022-09-23T18:20:17.331Z"
   },
   {
    "duration": 17,
    "start_time": "2022-09-23T18:20:17.682Z"
   },
   {
    "duration": 202,
    "start_time": "2022-09-23T18:20:17.703Z"
   },
   {
    "duration": 194,
    "start_time": "2022-09-23T18:20:17.907Z"
   },
   {
    "duration": 279,
    "start_time": "2022-09-23T18:20:18.103Z"
   },
   {
    "duration": 419,
    "start_time": "2022-09-23T18:20:18.384Z"
   },
   {
    "duration": 598,
    "start_time": "2022-09-23T18:20:18.805Z"
   },
   {
    "duration": 446,
    "start_time": "2022-09-23T18:20:19.405Z"
   },
   {
    "duration": 3,
    "start_time": "2022-09-23T18:20:19.852Z"
   },
   {
    "duration": 13,
    "start_time": "2022-09-23T18:20:19.856Z"
   },
   {
    "duration": 10,
    "start_time": "2022-09-23T18:20:19.876Z"
   },
   {
    "duration": 13,
    "start_time": "2022-09-23T18:21:40.319Z"
   },
   {
    "duration": 14,
    "start_time": "2022-09-23T18:21:48.727Z"
   },
   {
    "duration": 69,
    "start_time": "2022-09-23T18:21:58.958Z"
   },
   {
    "duration": 13,
    "start_time": "2022-09-23T18:21:59.030Z"
   },
   {
    "duration": 14,
    "start_time": "2022-09-23T18:21:59.045Z"
   },
   {
    "duration": 15,
    "start_time": "2022-09-23T18:22:01.370Z"
   },
   {
    "duration": 24,
    "start_time": "2022-09-23T18:22:08.889Z"
   },
   {
    "duration": 16,
    "start_time": "2022-09-23T18:22:15.877Z"
   },
   {
    "duration": 14,
    "start_time": "2022-09-23T18:22:21.138Z"
   },
   {
    "duration": 21,
    "start_time": "2022-09-23T18:22:26.207Z"
   },
   {
    "duration": 16,
    "start_time": "2022-09-23T18:22:42.867Z"
   },
   {
    "duration": 21,
    "start_time": "2022-09-23T18:22:48.889Z"
   },
   {
    "duration": 15,
    "start_time": "2022-09-23T18:22:57.469Z"
   },
   {
    "duration": 453,
    "start_time": "2022-09-23T20:01:40.242Z"
   },
   {
    "duration": 18,
    "start_time": "2022-09-23T20:01:40.697Z"
   },
   {
    "duration": 459,
    "start_time": "2022-09-24T13:07:13.053Z"
   },
   {
    "duration": 12,
    "start_time": "2022-09-24T13:07:13.514Z"
   },
   {
    "duration": 439,
    "start_time": "2022-09-24T13:07:13.528Z"
   },
   {
    "duration": 166,
    "start_time": "2022-09-24T13:07:13.970Z"
   },
   {
    "duration": 3,
    "start_time": "2022-09-24T13:07:14.138Z"
   },
   {
    "duration": 9,
    "start_time": "2022-09-24T13:07:14.142Z"
   },
   {
    "duration": 8,
    "start_time": "2022-09-24T13:07:14.152Z"
   },
   {
    "duration": 8,
    "start_time": "2022-09-24T13:07:14.162Z"
   },
   {
    "duration": 5,
    "start_time": "2022-09-24T13:07:14.171Z"
   },
   {
    "duration": 4,
    "start_time": "2022-09-24T13:07:14.178Z"
   },
   {
    "duration": 28,
    "start_time": "2022-09-24T13:07:14.183Z"
   },
   {
    "duration": 5,
    "start_time": "2022-09-24T13:07:14.212Z"
   },
   {
    "duration": 8,
    "start_time": "2022-09-24T13:07:14.218Z"
   },
   {
    "duration": 9,
    "start_time": "2022-09-24T13:07:14.228Z"
   },
   {
    "duration": 4,
    "start_time": "2022-09-24T13:07:14.238Z"
   },
   {
    "duration": 19,
    "start_time": "2022-09-24T13:07:14.243Z"
   },
   {
    "duration": 5,
    "start_time": "2022-09-24T13:07:14.264Z"
   },
   {
    "duration": 522,
    "start_time": "2022-09-24T13:07:14.270Z"
   },
   {
    "duration": 195,
    "start_time": "2022-09-24T13:07:14.793Z"
   },
   {
    "duration": 285,
    "start_time": "2022-09-24T13:08:01.098Z"
   },
   {
    "duration": 159,
    "start_time": "2022-09-24T13:08:01.813Z"
   },
   {
    "duration": 7,
    "start_time": "2022-09-24T13:08:23.477Z"
   },
   {
    "duration": 724,
    "start_time": "2022-09-24T13:14:17.243Z"
   },
   {
    "duration": 513,
    "start_time": "2022-09-24T13:14:18.412Z"
   },
   {
    "duration": 4,
    "start_time": "2022-09-24T13:14:19.383Z"
   },
   {
    "duration": 362,
    "start_time": "2022-09-24T13:14:19.802Z"
   },
   {
    "duration": 5,
    "start_time": "2022-09-24T13:15:19.614Z"
   },
   {
    "duration": 337,
    "start_time": "2022-09-24T13:15:20.138Z"
   },
   {
    "duration": 16,
    "start_time": "2022-09-24T13:15:26.714Z"
   },
   {
    "duration": 174,
    "start_time": "2022-09-24T13:28:42.929Z"
   },
   {
    "duration": 182,
    "start_time": "2022-09-24T13:28:43.822Z"
   },
   {
    "duration": 243,
    "start_time": "2022-09-24T13:28:45.445Z"
   },
   {
    "duration": 391,
    "start_time": "2022-09-24T13:29:28.961Z"
   },
   {
    "duration": 635,
    "start_time": "2022-09-24T13:29:30.062Z"
   },
   {
    "duration": 345,
    "start_time": "2022-09-24T13:30:44.950Z"
   },
   {
    "duration": 3,
    "start_time": "2022-09-24T13:30:48.750Z"
   },
   {
    "duration": 9,
    "start_time": "2022-09-24T13:30:49.386Z"
   },
   {
    "duration": 1786,
    "start_time": "2022-09-24T15:38:12.504Z"
   },
   {
    "duration": 103,
    "start_time": "2022-09-24T15:52:32.900Z"
   },
   {
    "duration": 64,
    "start_time": "2022-09-24T15:52:44.205Z"
   },
   {
    "duration": 18,
    "start_time": "2022-09-24T15:52:44.271Z"
   },
   {
    "duration": 53,
    "start_time": "2022-09-24T15:52:44.291Z"
   },
   {
    "duration": 222,
    "start_time": "2022-09-24T15:52:44.345Z"
   },
   {
    "duration": 3,
    "start_time": "2022-09-24T15:52:44.569Z"
   },
   {
    "duration": 10,
    "start_time": "2022-09-24T15:52:44.574Z"
   },
   {
    "duration": 11,
    "start_time": "2022-09-24T15:52:44.594Z"
   },
   {
    "duration": 5,
    "start_time": "2022-09-24T15:52:44.607Z"
   },
   {
    "duration": 7,
    "start_time": "2022-09-24T15:52:44.614Z"
   },
   {
    "duration": 6,
    "start_time": "2022-09-24T15:52:44.623Z"
   },
   {
    "duration": 7,
    "start_time": "2022-09-24T15:52:44.630Z"
   },
   {
    "duration": 10,
    "start_time": "2022-09-24T15:52:44.638Z"
   },
   {
    "duration": 8,
    "start_time": "2022-09-24T15:52:44.649Z"
   },
   {
    "duration": 36,
    "start_time": "2022-09-24T15:52:44.660Z"
   },
   {
    "duration": 5,
    "start_time": "2022-09-24T15:52:44.698Z"
   },
   {
    "duration": 21,
    "start_time": "2022-09-24T15:52:44.705Z"
   },
   {
    "duration": 6,
    "start_time": "2022-09-24T15:52:44.728Z"
   },
   {
    "duration": 235,
    "start_time": "2022-09-24T15:52:44.735Z"
   },
   {
    "duration": 325,
    "start_time": "2022-09-24T15:52:44.972Z"
   },
   {
    "duration": 178,
    "start_time": "2022-09-24T15:52:45.299Z"
   },
   {
    "duration": 6,
    "start_time": "2022-09-24T15:52:45.478Z"
   },
   {
    "duration": 786,
    "start_time": "2022-09-24T15:52:45.486Z"
   },
   {
    "duration": 612,
    "start_time": "2022-09-24T15:52:46.274Z"
   },
   {
    "duration": 273,
    "start_time": "2022-09-24T15:52:51.672Z"
   },
   {
    "duration": 443,
    "start_time": "2022-09-24T15:54:22.116Z"
   },
   {
    "duration": 492,
    "start_time": "2022-09-24T15:54:38.745Z"
   },
   {
    "duration": 433,
    "start_time": "2022-09-24T15:54:49.715Z"
   },
   {
    "duration": 492,
    "start_time": "2022-09-24T15:55:03.874Z"
   },
   {
    "duration": 501,
    "start_time": "2022-09-24T15:58:17.113Z"
   },
   {
    "duration": 11,
    "start_time": "2022-09-24T16:46:08.751Z"
   },
   {
    "duration": 6,
    "start_time": "2022-09-24T16:46:30.590Z"
   },
   {
    "duration": 362,
    "start_time": "2022-09-24T16:46:32.877Z"
   },
   {
    "duration": 390,
    "start_time": "2022-09-24T16:46:36.148Z"
   },
   {
    "duration": 19,
    "start_time": "2022-09-24T16:55:46.178Z"
   },
   {
    "duration": 85,
    "start_time": "2022-09-24T16:56:12.915Z"
   },
   {
    "duration": 17,
    "start_time": "2022-09-24T16:56:28.595Z"
   },
   {
    "duration": 20,
    "start_time": "2022-09-24T16:57:53.705Z"
   },
   {
    "duration": 204,
    "start_time": "2022-09-24T17:06:32.185Z"
   },
   {
    "duration": 192,
    "start_time": "2022-09-24T17:06:39.737Z"
   },
   {
    "duration": 205,
    "start_time": "2022-09-24T17:06:45.493Z"
   },
   {
    "duration": 245,
    "start_time": "2022-09-24T17:26:50.309Z"
   },
   {
    "duration": 57,
    "start_time": "2022-09-24T17:28:09.362Z"
   },
   {
    "duration": 269,
    "start_time": "2022-09-24T17:28:19.054Z"
   },
   {
    "duration": 48,
    "start_time": "2022-09-24T17:28:29.864Z"
   },
   {
    "duration": 253,
    "start_time": "2022-09-24T17:28:38.767Z"
   },
   {
    "duration": 246,
    "start_time": "2022-09-24T17:28:54.804Z"
   },
   {
    "duration": 386,
    "start_time": "2022-09-24T17:29:07.585Z"
   },
   {
    "duration": 267,
    "start_time": "2022-09-24T17:29:14.004Z"
   },
   {
    "duration": 42,
    "start_time": "2022-09-24T17:29:25.893Z"
   },
   {
    "duration": 261,
    "start_time": "2022-09-24T17:29:39.611Z"
   },
   {
    "duration": 270,
    "start_time": "2022-09-24T17:41:15.195Z"
   },
   {
    "duration": 268,
    "start_time": "2022-09-24T17:41:55.806Z"
   },
   {
    "duration": 1213,
    "start_time": "2022-09-24T17:43:30.830Z"
   },
   {
    "duration": 13,
    "start_time": "2022-09-24T17:43:32.045Z"
   },
   {
    "duration": 54,
    "start_time": "2022-09-24T17:43:32.060Z"
   },
   {
    "duration": 206,
    "start_time": "2022-09-24T17:43:32.116Z"
   },
   {
    "duration": 4,
    "start_time": "2022-09-24T17:43:32.324Z"
   },
   {
    "duration": 12,
    "start_time": "2022-09-24T17:43:32.330Z"
   },
   {
    "duration": 27,
    "start_time": "2022-09-24T17:43:32.344Z"
   },
   {
    "duration": 16,
    "start_time": "2022-09-24T17:43:32.373Z"
   },
   {
    "duration": 16,
    "start_time": "2022-09-24T17:43:32.391Z"
   },
   {
    "duration": 10,
    "start_time": "2022-09-24T17:43:32.411Z"
   },
   {
    "duration": 18,
    "start_time": "2022-09-24T17:43:32.423Z"
   },
   {
    "duration": 12,
    "start_time": "2022-09-24T17:43:32.443Z"
   },
   {
    "duration": 15,
    "start_time": "2022-09-24T17:43:32.457Z"
   },
   {
    "duration": 19,
    "start_time": "2022-09-24T17:43:32.474Z"
   },
   {
    "duration": 7,
    "start_time": "2022-09-24T17:43:32.495Z"
   },
   {
    "duration": 19,
    "start_time": "2022-09-24T17:43:32.504Z"
   },
   {
    "duration": 6,
    "start_time": "2022-09-24T17:43:32.525Z"
   },
   {
    "duration": 226,
    "start_time": "2022-09-24T17:43:32.533Z"
   },
   {
    "duration": 328,
    "start_time": "2022-09-24T17:43:32.760Z"
   },
   {
    "duration": 183,
    "start_time": "2022-09-24T17:43:33.090Z"
   },
   {
    "duration": 7,
    "start_time": "2022-09-24T17:43:33.275Z"
   },
   {
    "duration": 691,
    "start_time": "2022-09-24T17:43:33.284Z"
   },
   {
    "duration": 540,
    "start_time": "2022-09-24T17:43:33.977Z"
   },
   {
    "duration": 446,
    "start_time": "2022-09-24T17:43:34.519Z"
   },
   {
    "duration": 6,
    "start_time": "2022-09-24T17:43:34.967Z"
   },
   {
    "duration": 352,
    "start_time": "2022-09-24T17:43:34.974Z"
   },
   {
    "duration": 19,
    "start_time": "2022-09-24T17:43:35.328Z"
   },
   {
    "duration": 212,
    "start_time": "2022-09-24T17:43:35.350Z"
   },
   {
    "duration": 207,
    "start_time": "2022-09-24T17:43:35.564Z"
   },
   {
    "duration": 222,
    "start_time": "2022-09-24T17:43:35.773Z"
   },
   {
    "duration": 283,
    "start_time": "2022-09-24T17:43:35.996Z"
   },
   {
    "duration": 619,
    "start_time": "2022-09-24T17:43:36.281Z"
   },
   {
    "duration": 627,
    "start_time": "2022-09-24T17:43:36.902Z"
   },
   {
    "duration": 365,
    "start_time": "2022-09-24T17:43:37.530Z"
   },
   {
    "duration": 4,
    "start_time": "2022-09-24T17:43:37.896Z"
   },
   {
    "duration": 16,
    "start_time": "2022-09-24T17:43:37.902Z"
   },
   {
    "duration": 12,
    "start_time": "2022-09-24T17:43:37.920Z"
   }
  ],
  "kernelspec": {
   "display_name": "Python 3 (ipykernel)",
   "language": "python",
   "name": "python3"
  },
  "language_info": {
   "codemirror_mode": {
    "name": "ipython",
    "version": 3
   },
   "file_extension": ".py",
   "mimetype": "text/x-python",
   "name": "python",
   "nbconvert_exporter": "python",
   "pygments_lexer": "ipython3",
   "version": "3.9.13"
  },
  "toc": {
   "base_numbering": 1,
   "nav_menu": {},
   "number_sections": true,
   "sideBar": true,
   "skip_h1_title": true,
   "title_cell": "Table of Contents",
   "title_sidebar": "Contents",
   "toc_cell": false,
   "toc_position": {
    "height": "calc(100% - 180px)",
    "left": "10px",
    "top": "150px",
    "width": "368.383px"
   },
   "toc_section_display": true,
   "toc_window_display": false
  }
 },
 "nbformat": 4,
 "nbformat_minor": 2
}
